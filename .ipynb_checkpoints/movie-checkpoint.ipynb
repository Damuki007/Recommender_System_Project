{
 "cells": [
  {
   "cell_type": "markdown",
   "metadata": {},
   "source": [
    "# Stream254 : Enhancing Your Movie Watching Experience with Uncharted Cinematic Treasures"
   ]
  },
  {
   "cell_type": "markdown",
   "metadata": {},
   "source": [
    "### GROUP 5\n",
    "\n",
    "#### Authors:\n",
    "1. Caroline Ngabu\n",
    "2. Muhsin Ahmed\n",
    "3. Richard Muriithi\n",
    "4. David Kirianja\n",
    "5. Beatrice Kariuki"
   ]
  },
  {
   "cell_type": "markdown",
   "metadata": {},
   "source": [
    "## BUSINESS UNDERSTANDING"
   ]
  },
  {
   "cell_type": "markdown",
   "metadata": {},
   "source": [
    "### INTRODUCTION"
   ]
  },
  {
   "cell_type": "markdown",
   "metadata": {},
   "source": [
    "The streaming landscape in Kenya has experienced remarkable growth recently, fueled by factors such as; improved internet connectivity and a rising preference for personalized entertainment experiences. As consumers increasingly turn to on-demand platforms, companies like Stream254 are faced with the challenge of enhancing user engagement to maintain competitiveness.\n",
    "\n",
    "In response, Stream254 is embarking on a mission to revolutionize user engagement through cutting-edge technology. By implementing an advanced recommendation system, Stream254 aims to provide bespoke movie recommendations, thus addressing the growing demand for personalized content in the Kenyan streaming market."
   ]
  },
  {
   "cell_type": "markdown",
   "metadata": {},
   "source": [
    "### BUSINESS PROBLEM STATEMENT"
   ]
  },
  {
   "cell_type": "markdown",
   "metadata": {},
   "source": [
    "Stream254 recognizes that traditional one-size-fits-all approaches to content delivery are no longer sufficient to meet the evolving demands of Kenyan viewers. Without personalized recommendations, users may face decision fatigue and frustration when navigating the platform's extensive content library. In a highly competitive market, failure to engage users effectively could lead to decreased retention rates and loss of market share.\n",
    "\n",
    "To address this challenge, Stream254 seeks to implement a recommendation system that leverages machine learning algorithms to analyze user data and deliver highly relevant movie recommendations. By doing so, Stream254 aims to enhance user satisfaction, drive long-term engagement, and establish itself as a leader in the Kenyan streaming space."
   ]
  },
  {
   "cell_type": "markdown",
   "metadata": {},
   "source": [
    "The primary stakeholders of this project include:\n",
    "\n",
    "1. **Online Streaming Platforms**: Companies like Netflix, Amazon Prime Video, and Hulu can integrate this recommendation system to enhance user experience, increase viewer engagement, and reduce churn rates by providing tailored movie suggestions. \n",
    "\n",
    "2. **Users**: Individual users of streaming services stand to benefit from a more personalized viewing experience, leading to improved satisfaction and discovery of new content aligned with their tastes.\n",
    "\n",
    "3. **Content Creators and Distributors**: By promoting movies that are likely to be well-received, the system can help content creators and distributors reach their target audience more effectively, thereby increasing viewership and revenue from underexposed content. "
   ]
  },
  {
   "cell_type": "markdown",
   "metadata": {},
   "source": [
    "### OBJECTIVES"
   ]
  },
  {
   "cell_type": "markdown",
   "metadata": {},
   "source": [
    "Develop and implement state-of-the-art recommendation algorithm that will analyze user behaviour, preferences, and viewing patterns to generate personalized movie recommendations with the intention to:\n",
    "\n",
    "1. **Enhance User Satisfaction**: By providing users with tailored movie recommendations, we aim to enhance user satisfaction and deliver an immersive viewing experience that keeps users coming back for more.\n",
    "\n",
    "2. **Increase User Retention**: Through personalized recommendations, we seek to increase user retention rates and encourage users to spend more time on the platform, ultimately driving revenue growth and profitability.\n",
    "\n",
    "3. **Establish Competitive Differentiation**: By offering a recommendation system that surpasses those of competitors, we aim to differentiate Stream254 as the go-to destination for personalized entertainment experiences in the Kenyan market.\n",
    "\n",
    "4. **Implement Performance Metrics**: We will implement robust metrics and analytics to measure the performance of the recommendation system. This will enable us to continuously optimize algorithms and enhance user engagement over time."
   ]
  },
  {
   "cell_type": "markdown",
   "metadata": {},
   "source": [
    "## DATA UNDERSTANDING"
   ]
  },
  {
   "cell_type": "markdown",
   "metadata": {},
   "source": [
    "The ml-latest-small dataset is a collection of data from MovieLens, a movie recommendation service. It comprises user ratings and free-text tagging activities, offering insights into user preferences. This dataset contains a total of 100,836 movie ratings and 3,683 tag applications across 9,742 movies.This dataset was generated on September 26th 2018.\n",
    "\n",
    "This is a development dataset which means that it is a portion of data utilized for development and fine-tuning of machine learning models. These types of datasets are used in fine-tuning and optimizing models by tweaking hyper-parameters, adjusting architecture, and diagnosing potential overfitting. They are primarily employed for evaluating model performance and guiding improvements, rather than training.\n",
    "\n",
    "The data are contained in the files links.csv, movies.csv, ratings.csv and tags.csv and are contained in the ’Data’ file of this GitHub repository."
   ]
  },
  {
   "cell_type": "markdown",
   "metadata": {},
   "source": [
    "**Dataset Details**\n",
    "\n",
    "- Ratings: There are 100,836 user ratings, primarily based on a 5-star scale.\n",
    "- Tags: The dataset includes 3,683 instances of user-generated tags for movies.\n",
    "- Users: All 610 users captured were chosen at random and each user has rated at least 20 movies.\n",
    "- Timeframe: The data spans a period from March 29, 1996, to September 24, 2018.\n",
    "- No Demographic Data: Notably, this dataset does not include any demographic information about the users. Each user is identified solely by a unique numerical identifier.\n",
    "- File Structure: The dataset is organized into four main files: links.csv, movies.csv, ratings.csv, and tags.csv.\n",
    "\n",
    "Out of the four datasets, only movie.csv and ratings.csv will be used for the analysis\n",
    "The dataset comprises four files of which we will use two main files:\n",
    "\n",
    "movies.csv: This file contains information about movies and includes the following columns:\n",
    "\n",
    "movieId: A unique numerical identifier for each movie.\n",
    "title: The title of the movie.\n",
    "genres: A list of genres associated with the movie, separated by the pipe (|) character.\n",
    "ratings.csv: This file contains user ratings for movies and includes the following columns:\n",
    "\n",
    "userId: A unique numerical identifier for each user.\n",
    "movieId: The corresponding movie identifier, linking each rating to a specific movie.\n",
    "rating: The user's numerical rating for the movie."
   ]
  },
  {
   "cell_type": "markdown",
   "metadata": {},
   "source": [
    "#### Limitations of the Data"
   ]
  },
  {
   "cell_type": "markdown",
   "metadata": {},
   "source": [
    "1. **Cold Start Problem:** New movies or users with few ratings pose a challenge, as there's limited data to base recommendations on.\n",
    "2. **Bias in User Ratings:** Ratings are subjective and can be biased, affecting the system's ability to accurately predict preferences.\n",
    "3. **Sparsity of the Ratings Matrix:** With a large number of movies and users but relatively fewer ratings, the ratings matrix is sparse, which can complicate the modeling process."
   ]
  },
  {
   "cell_type": "markdown",
   "metadata": {},
   "source": [
    "### DATA PREPARATION"
   ]
  },
  {
   "cell_type": "markdown",
   "metadata": {},
   "source": [
    "### Import relevant libraries"
   ]
  },
  {
   "cell_type": "code",
   "execution_count": 1,
   "metadata": {},
   "outputs": [],
   "source": [
    "# Suppress warnings\n",
    "import warnings\n",
    "warnings.filterwarnings('ignore')\n",
    "\n",
    "# Standard libraries for data manipulation and visualization\n",
    "import pandas as pd                 \n",
    "import numpy as np                  \n",
    "import matplotlib.pyplot as plt\n",
    "%matplotlib inline\n",
    "import seaborn as sns \n",
    "\n",
    "# Specific models and tools from surprise that will be used in this notebook\n",
    "from surprise.prediction_algorithms import KNNWithMeans, KNNBasic, KNNBaseline\n",
    "from surprise.model_selection import GridSearchCV\n",
    "from surprise.model_selection import cross_validate\n",
    "from surprise.prediction_algorithms import SVD\n",
    "from surprise.model_selection import train_test_split\n",
    "from surprise import accuracy\n",
    "from surprise import Reader, Dataset\n",
    "import random"
   ]
  },
  {
   "cell_type": "markdown",
   "metadata": {},
   "source": [
    "### Load `movies.csv`"
   ]
  },
  {
   "cell_type": "code",
   "execution_count": 2,
   "metadata": {},
   "outputs": [
    {
     "data": {
      "text/html": [
       "<div>\n",
       "<style scoped>\n",
       "    .dataframe tbody tr th:only-of-type {\n",
       "        vertical-align: middle;\n",
       "    }\n",
       "\n",
       "    .dataframe tbody tr th {\n",
       "        vertical-align: top;\n",
       "    }\n",
       "\n",
       "    .dataframe thead th {\n",
       "        text-align: right;\n",
       "    }\n",
       "</style>\n",
       "<table border=\"1\" class=\"dataframe\">\n",
       "  <thead>\n",
       "    <tr style=\"text-align: right;\">\n",
       "      <th></th>\n",
       "      <th>movieId</th>\n",
       "      <th>title</th>\n",
       "      <th>genres</th>\n",
       "    </tr>\n",
       "  </thead>\n",
       "  <tbody>\n",
       "    <tr>\n",
       "      <th>0</th>\n",
       "      <td>1</td>\n",
       "      <td>Toy Story (1995)</td>\n",
       "      <td>Adventure|Animation|Children|Comedy|Fantasy</td>\n",
       "    </tr>\n",
       "    <tr>\n",
       "      <th>1</th>\n",
       "      <td>2</td>\n",
       "      <td>Jumanji (1995)</td>\n",
       "      <td>Adventure|Children|Fantasy</td>\n",
       "    </tr>\n",
       "    <tr>\n",
       "      <th>2</th>\n",
       "      <td>3</td>\n",
       "      <td>Grumpier Old Men (1995)</td>\n",
       "      <td>Comedy|Romance</td>\n",
       "    </tr>\n",
       "    <tr>\n",
       "      <th>3</th>\n",
       "      <td>4</td>\n",
       "      <td>Waiting to Exhale (1995)</td>\n",
       "      <td>Comedy|Drama|Romance</td>\n",
       "    </tr>\n",
       "    <tr>\n",
       "      <th>4</th>\n",
       "      <td>5</td>\n",
       "      <td>Father of the Bride Part II (1995)</td>\n",
       "      <td>Comedy</td>\n",
       "    </tr>\n",
       "  </tbody>\n",
       "</table>\n",
       "</div>"
      ],
      "text/plain": [
       "   movieId                               title  \\\n",
       "0        1                    Toy Story (1995)   \n",
       "1        2                      Jumanji (1995)   \n",
       "2        3             Grumpier Old Men (1995)   \n",
       "3        4            Waiting to Exhale (1995)   \n",
       "4        5  Father of the Bride Part II (1995)   \n",
       "\n",
       "                                        genres  \n",
       "0  Adventure|Animation|Children|Comedy|Fantasy  \n",
       "1                   Adventure|Children|Fantasy  \n",
       "2                               Comedy|Romance  \n",
       "3                         Comedy|Drama|Romance  \n",
       "4                                       Comedy  "
      ]
     },
     "execution_count": 2,
     "metadata": {},
     "output_type": "execute_result"
    }
   ],
   "source": [
    "movies_df = pd.read_csv('Data/movies.csv')\n",
    "movies_df.head()"
   ]
  },
  {
   "cell_type": "code",
   "execution_count": 3,
   "metadata": {},
   "outputs": [
    {
     "name": "stdout",
     "output_type": "stream",
     "text": [
      "Dataset Shape:\n",
      "=================\n",
      "Number of Rows: 9742\n",
      "Number of Columns: 3\n"
     ]
    }
   ],
   "source": [
    "# Display the shape of the dataset (number of rows and columns)\n",
    "print(\"Dataset Shape:\")\n",
    "print(\"=================\")\n",
    "print(\"Number of Rows:\", movies_df.shape[0])\n",
    "print(\"Number of Columns:\", movies_df.shape[1])"
   ]
  },
  {
   "cell_type": "code",
   "execution_count": 4,
   "metadata": {},
   "outputs": [
    {
     "name": "stdout",
     "output_type": "stream",
     "text": [
      "Data Types of Columns:\n",
      "============================\n",
      "movieId     int64\n",
      "title      object\n",
      "genres     object\n",
      "dtype: object\n"
     ]
    }
   ],
   "source": [
    "# Display the data types of columns\n",
    "print(\"Data Types of Columns:\")\n",
    "print(\"============================\")\n",
    "print(movies_df.dtypes)"
   ]
  },
  {
   "cell_type": "markdown",
   "metadata": {},
   "source": [
    "### Load `ratings.csv`\n"
   ]
  },
  {
   "cell_type": "code",
   "execution_count": 5,
   "metadata": {},
   "outputs": [
    {
     "data": {
      "text/html": [
       "<div>\n",
       "<style scoped>\n",
       "    .dataframe tbody tr th:only-of-type {\n",
       "        vertical-align: middle;\n",
       "    }\n",
       "\n",
       "    .dataframe tbody tr th {\n",
       "        vertical-align: top;\n",
       "    }\n",
       "\n",
       "    .dataframe thead th {\n",
       "        text-align: right;\n",
       "    }\n",
       "</style>\n",
       "<table border=\"1\" class=\"dataframe\">\n",
       "  <thead>\n",
       "    <tr style=\"text-align: right;\">\n",
       "      <th></th>\n",
       "      <th>userId</th>\n",
       "      <th>movieId</th>\n",
       "      <th>rating</th>\n",
       "      <th>timestamp</th>\n",
       "    </tr>\n",
       "  </thead>\n",
       "  <tbody>\n",
       "    <tr>\n",
       "      <th>0</th>\n",
       "      <td>1</td>\n",
       "      <td>1</td>\n",
       "      <td>4.0</td>\n",
       "      <td>964982703</td>\n",
       "    </tr>\n",
       "    <tr>\n",
       "      <th>1</th>\n",
       "      <td>1</td>\n",
       "      <td>3</td>\n",
       "      <td>4.0</td>\n",
       "      <td>964981247</td>\n",
       "    </tr>\n",
       "    <tr>\n",
       "      <th>2</th>\n",
       "      <td>1</td>\n",
       "      <td>6</td>\n",
       "      <td>4.0</td>\n",
       "      <td>964982224</td>\n",
       "    </tr>\n",
       "    <tr>\n",
       "      <th>3</th>\n",
       "      <td>1</td>\n",
       "      <td>47</td>\n",
       "      <td>5.0</td>\n",
       "      <td>964983815</td>\n",
       "    </tr>\n",
       "    <tr>\n",
       "      <th>4</th>\n",
       "      <td>1</td>\n",
       "      <td>50</td>\n",
       "      <td>5.0</td>\n",
       "      <td>964982931</td>\n",
       "    </tr>\n",
       "  </tbody>\n",
       "</table>\n",
       "</div>"
      ],
      "text/plain": [
       "   userId  movieId  rating  timestamp\n",
       "0       1        1     4.0  964982703\n",
       "1       1        3     4.0  964981247\n",
       "2       1        6     4.0  964982224\n",
       "3       1       47     5.0  964983815\n",
       "4       1       50     5.0  964982931"
      ]
     },
     "execution_count": 5,
     "metadata": {},
     "output_type": "execute_result"
    }
   ],
   "source": [
    "ratings_df = pd.read_csv('Data/ratings.csv')\n",
    "ratings_df.head()"
   ]
  },
  {
   "cell_type": "code",
   "execution_count": 6,
   "metadata": {},
   "outputs": [
    {
     "name": "stdout",
     "output_type": "stream",
     "text": [
      "Dataset Shape:\n",
      "=================\n",
      "Number of Rows: 100836\n",
      "Number of Columns: 4\n"
     ]
    }
   ],
   "source": [
    "# Display the shape of the dataset (number of rows and columns)\n",
    "print(\"Dataset Shape:\")\n",
    "print(\"=================\")\n",
    "print(\"Number of Rows:\", ratings_df.shape[0])\n",
    "print(\"Number of Columns:\", ratings_df.shape[1])"
   ]
  },
  {
   "cell_type": "code",
   "execution_count": 7,
   "metadata": {},
   "outputs": [
    {
     "name": "stdout",
     "output_type": "stream",
     "text": [
      "Data Types of Columns:\n",
      "============================\n",
      "userId         int64\n",
      "movieId        int64\n",
      "rating       float64\n",
      "timestamp      int64\n",
      "dtype: object\n"
     ]
    }
   ],
   "source": [
    "# Display the data types of columns\n",
    "print(\"Data Types of Columns:\")\n",
    "print(\"============================\")\n",
    "print(ratings_df.dtypes)"
   ]
  },
  {
   "cell_type": "code",
   "execution_count": 8,
   "metadata": {},
   "outputs": [
    {
     "data": {
      "text/html": [
       "<div>\n",
       "<style scoped>\n",
       "    .dataframe tbody tr th:only-of-type {\n",
       "        vertical-align: middle;\n",
       "    }\n",
       "\n",
       "    .dataframe tbody tr th {\n",
       "        vertical-align: top;\n",
       "    }\n",
       "\n",
       "    .dataframe thead th {\n",
       "        text-align: right;\n",
       "    }\n",
       "</style>\n",
       "<table border=\"1\" class=\"dataframe\">\n",
       "  <thead>\n",
       "    <tr style=\"text-align: right;\">\n",
       "      <th></th>\n",
       "      <th>userId</th>\n",
       "      <th>movieId</th>\n",
       "      <th>rating</th>\n",
       "      <th>timestamp</th>\n",
       "    </tr>\n",
       "  </thead>\n",
       "  <tbody>\n",
       "    <tr>\n",
       "      <th>count</th>\n",
       "      <td>100836.000000</td>\n",
       "      <td>100836.000000</td>\n",
       "      <td>100836.000000</td>\n",
       "      <td>1.008360e+05</td>\n",
       "    </tr>\n",
       "    <tr>\n",
       "      <th>mean</th>\n",
       "      <td>326.127564</td>\n",
       "      <td>19435.295718</td>\n",
       "      <td>3.501557</td>\n",
       "      <td>1.205946e+09</td>\n",
       "    </tr>\n",
       "    <tr>\n",
       "      <th>std</th>\n",
       "      <td>182.618491</td>\n",
       "      <td>35530.987199</td>\n",
       "      <td>1.042529</td>\n",
       "      <td>2.162610e+08</td>\n",
       "    </tr>\n",
       "    <tr>\n",
       "      <th>min</th>\n",
       "      <td>1.000000</td>\n",
       "      <td>1.000000</td>\n",
       "      <td>0.500000</td>\n",
       "      <td>8.281246e+08</td>\n",
       "    </tr>\n",
       "    <tr>\n",
       "      <th>25%</th>\n",
       "      <td>177.000000</td>\n",
       "      <td>1199.000000</td>\n",
       "      <td>3.000000</td>\n",
       "      <td>1.019124e+09</td>\n",
       "    </tr>\n",
       "    <tr>\n",
       "      <th>50%</th>\n",
       "      <td>325.000000</td>\n",
       "      <td>2991.000000</td>\n",
       "      <td>3.500000</td>\n",
       "      <td>1.186087e+09</td>\n",
       "    </tr>\n",
       "    <tr>\n",
       "      <th>75%</th>\n",
       "      <td>477.000000</td>\n",
       "      <td>8122.000000</td>\n",
       "      <td>4.000000</td>\n",
       "      <td>1.435994e+09</td>\n",
       "    </tr>\n",
       "    <tr>\n",
       "      <th>max</th>\n",
       "      <td>610.000000</td>\n",
       "      <td>193609.000000</td>\n",
       "      <td>5.000000</td>\n",
       "      <td>1.537799e+09</td>\n",
       "    </tr>\n",
       "  </tbody>\n",
       "</table>\n",
       "</div>"
      ],
      "text/plain": [
       "              userId        movieId         rating     timestamp\n",
       "count  100836.000000  100836.000000  100836.000000  1.008360e+05\n",
       "mean      326.127564   19435.295718       3.501557  1.205946e+09\n",
       "std       182.618491   35530.987199       1.042529  2.162610e+08\n",
       "min         1.000000       1.000000       0.500000  8.281246e+08\n",
       "25%       177.000000    1199.000000       3.000000  1.019124e+09\n",
       "50%       325.000000    2991.000000       3.500000  1.186087e+09\n",
       "75%       477.000000    8122.000000       4.000000  1.435994e+09\n",
       "max       610.000000  193609.000000       5.000000  1.537799e+09"
      ]
     },
     "execution_count": 8,
     "metadata": {},
     "output_type": "execute_result"
    }
   ],
   "source": [
    "ratings_df.describe()"
   ]
  },
  {
   "cell_type": "markdown",
   "metadata": {},
   "source": [
    "**Key Insights from ratings_df:**\n",
    "\n",
    "1. **Rating Range:** Users have provided ratings in a range from 0.5 to 5.0, indicating diverse opinions about the movies.\n",
    "\n",
    "2. **Average Rating:** The average rating across all movies is 3.5, suggesting that users, on average, tend to give moderate ratings.\n",
    "\n",
    "3. **User IDs:** The dataset includes user IDs ranging from 1 to 610, representing a total of 610 unique users.\n",
    "\n",
    "4. **Movie IDs:** Movie IDs span from 1 to 193609, with 193609 being the highest movie ID. Note that this represents the highest movie ID and not necessarily the total count of movies in the dataset.\n",
    "\n",
    "These insights provide a foundational understanding of the dataset's characteristics and the user-movie interactions."
   ]
  },
  {
   "cell_type": "markdown",
   "metadata": {},
   "source": [
    "### Loading `tags.csv`"
   ]
  },
  {
   "cell_type": "code",
   "execution_count": 9,
   "metadata": {},
   "outputs": [
    {
     "data": {
      "text/html": [
       "<div>\n",
       "<style scoped>\n",
       "    .dataframe tbody tr th:only-of-type {\n",
       "        vertical-align: middle;\n",
       "    }\n",
       "\n",
       "    .dataframe tbody tr th {\n",
       "        vertical-align: top;\n",
       "    }\n",
       "\n",
       "    .dataframe thead th {\n",
       "        text-align: right;\n",
       "    }\n",
       "</style>\n",
       "<table border=\"1\" class=\"dataframe\">\n",
       "  <thead>\n",
       "    <tr style=\"text-align: right;\">\n",
       "      <th></th>\n",
       "      <th>userId</th>\n",
       "      <th>movieId</th>\n",
       "      <th>tag</th>\n",
       "      <th>timestamp</th>\n",
       "    </tr>\n",
       "  </thead>\n",
       "  <tbody>\n",
       "    <tr>\n",
       "      <th>0</th>\n",
       "      <td>2</td>\n",
       "      <td>60756</td>\n",
       "      <td>funny</td>\n",
       "      <td>1445714994</td>\n",
       "    </tr>\n",
       "    <tr>\n",
       "      <th>1</th>\n",
       "      <td>2</td>\n",
       "      <td>60756</td>\n",
       "      <td>Highly quotable</td>\n",
       "      <td>1445714996</td>\n",
       "    </tr>\n",
       "    <tr>\n",
       "      <th>2</th>\n",
       "      <td>2</td>\n",
       "      <td>60756</td>\n",
       "      <td>will ferrell</td>\n",
       "      <td>1445714992</td>\n",
       "    </tr>\n",
       "    <tr>\n",
       "      <th>3</th>\n",
       "      <td>2</td>\n",
       "      <td>89774</td>\n",
       "      <td>Boxing story</td>\n",
       "      <td>1445715207</td>\n",
       "    </tr>\n",
       "    <tr>\n",
       "      <th>4</th>\n",
       "      <td>2</td>\n",
       "      <td>89774</td>\n",
       "      <td>MMA</td>\n",
       "      <td>1445715200</td>\n",
       "    </tr>\n",
       "  </tbody>\n",
       "</table>\n",
       "</div>"
      ],
      "text/plain": [
       "   userId  movieId              tag   timestamp\n",
       "0       2    60756            funny  1445714994\n",
       "1       2    60756  Highly quotable  1445714996\n",
       "2       2    60756     will ferrell  1445714992\n",
       "3       2    89774     Boxing story  1445715207\n",
       "4       2    89774              MMA  1445715200"
      ]
     },
     "execution_count": 9,
     "metadata": {},
     "output_type": "execute_result"
    }
   ],
   "source": [
    "tags_df = pd.read_csv('Data/tags.csv')\n",
    "tags_df.head()"
   ]
  },
  {
   "cell_type": "code",
   "execution_count": 10,
   "metadata": {},
   "outputs": [
    {
     "name": "stdout",
     "output_type": "stream",
     "text": [
      "Dataset Shape:\n",
      "=================\n",
      "Number of Rows: 3683\n",
      "Number of Columns: 4\n"
     ]
    }
   ],
   "source": [
    "# Display the shape of the dataset (number of rows and columns)\n",
    "print(\"Dataset Shape:\")\n",
    "print(\"=================\")\n",
    "print(\"Number of Rows:\", tags_df.shape[0])\n",
    "print(\"Number of Columns:\", tags_df.shape[1])"
   ]
  },
  {
   "cell_type": "code",
   "execution_count": 11,
   "metadata": {},
   "outputs": [
    {
     "name": "stdout",
     "output_type": "stream",
     "text": [
      "Data Types of Columns:\n",
      "============================\n",
      "userId        int64\n",
      "movieId       int64\n",
      "tag          object\n",
      "timestamp     int64\n",
      "dtype: object\n"
     ]
    }
   ],
   "source": [
    "# Display the data types of columns\n",
    "print(\"Data Types of Columns:\")\n",
    "print(\"============================\")\n",
    "print(tags_df.dtypes)"
   ]
  },
  {
   "cell_type": "code",
   "execution_count": 12,
   "metadata": {},
   "outputs": [
    {
     "data": {
      "text/html": [
       "<div>\n",
       "<style scoped>\n",
       "    .dataframe tbody tr th:only-of-type {\n",
       "        vertical-align: middle;\n",
       "    }\n",
       "\n",
       "    .dataframe tbody tr th {\n",
       "        vertical-align: top;\n",
       "    }\n",
       "\n",
       "    .dataframe thead th {\n",
       "        text-align: right;\n",
       "    }\n",
       "</style>\n",
       "<table border=\"1\" class=\"dataframe\">\n",
       "  <thead>\n",
       "    <tr style=\"text-align: right;\">\n",
       "      <th></th>\n",
       "      <th>userId</th>\n",
       "      <th>movieId</th>\n",
       "      <th>timestamp</th>\n",
       "    </tr>\n",
       "  </thead>\n",
       "  <tbody>\n",
       "    <tr>\n",
       "      <th>count</th>\n",
       "      <td>3683.000000</td>\n",
       "      <td>3683.000000</td>\n",
       "      <td>3.683000e+03</td>\n",
       "    </tr>\n",
       "    <tr>\n",
       "      <th>mean</th>\n",
       "      <td>431.149335</td>\n",
       "      <td>27252.013576</td>\n",
       "      <td>1.320032e+09</td>\n",
       "    </tr>\n",
       "    <tr>\n",
       "      <th>std</th>\n",
       "      <td>158.472553</td>\n",
       "      <td>43490.558803</td>\n",
       "      <td>1.721025e+08</td>\n",
       "    </tr>\n",
       "    <tr>\n",
       "      <th>min</th>\n",
       "      <td>2.000000</td>\n",
       "      <td>1.000000</td>\n",
       "      <td>1.137179e+09</td>\n",
       "    </tr>\n",
       "    <tr>\n",
       "      <th>25%</th>\n",
       "      <td>424.000000</td>\n",
       "      <td>1262.500000</td>\n",
       "      <td>1.137521e+09</td>\n",
       "    </tr>\n",
       "    <tr>\n",
       "      <th>50%</th>\n",
       "      <td>474.000000</td>\n",
       "      <td>4454.000000</td>\n",
       "      <td>1.269833e+09</td>\n",
       "    </tr>\n",
       "    <tr>\n",
       "      <th>75%</th>\n",
       "      <td>477.000000</td>\n",
       "      <td>39263.000000</td>\n",
       "      <td>1.498457e+09</td>\n",
       "    </tr>\n",
       "    <tr>\n",
       "      <th>max</th>\n",
       "      <td>610.000000</td>\n",
       "      <td>193565.000000</td>\n",
       "      <td>1.537099e+09</td>\n",
       "    </tr>\n",
       "  </tbody>\n",
       "</table>\n",
       "</div>"
      ],
      "text/plain": [
       "            userId        movieId     timestamp\n",
       "count  3683.000000    3683.000000  3.683000e+03\n",
       "mean    431.149335   27252.013576  1.320032e+09\n",
       "std     158.472553   43490.558803  1.721025e+08\n",
       "min       2.000000       1.000000  1.137179e+09\n",
       "25%     424.000000    1262.500000  1.137521e+09\n",
       "50%     474.000000    4454.000000  1.269833e+09\n",
       "75%     477.000000   39263.000000  1.498457e+09\n",
       "max     610.000000  193565.000000  1.537099e+09"
      ]
     },
     "execution_count": 12,
     "metadata": {},
     "output_type": "execute_result"
    }
   ],
   "source": [
    "tags_df.describe()"
   ]
  },
  {
   "cell_type": "code",
   "execution_count": 13,
   "metadata": {},
   "outputs": [],
   "source": [
    "ratings_df.drop(['timestamp'], axis=1, inplace=True)"
   ]
  },
  {
   "cell_type": "markdown",
   "metadata": {},
   "source": [
    "### Loading `links.csv`"
   ]
  },
  {
   "cell_type": "code",
   "execution_count": 14,
   "metadata": {},
   "outputs": [
    {
     "data": {
      "text/html": [
       "<div>\n",
       "<style scoped>\n",
       "    .dataframe tbody tr th:only-of-type {\n",
       "        vertical-align: middle;\n",
       "    }\n",
       "\n",
       "    .dataframe tbody tr th {\n",
       "        vertical-align: top;\n",
       "    }\n",
       "\n",
       "    .dataframe thead th {\n",
       "        text-align: right;\n",
       "    }\n",
       "</style>\n",
       "<table border=\"1\" class=\"dataframe\">\n",
       "  <thead>\n",
       "    <tr style=\"text-align: right;\">\n",
       "      <th></th>\n",
       "      <th>movieId</th>\n",
       "      <th>imdbId</th>\n",
       "      <th>tmdbId</th>\n",
       "    </tr>\n",
       "  </thead>\n",
       "  <tbody>\n",
       "    <tr>\n",
       "      <th>0</th>\n",
       "      <td>1</td>\n",
       "      <td>114709</td>\n",
       "      <td>862.0</td>\n",
       "    </tr>\n",
       "    <tr>\n",
       "      <th>1</th>\n",
       "      <td>2</td>\n",
       "      <td>113497</td>\n",
       "      <td>8844.0</td>\n",
       "    </tr>\n",
       "    <tr>\n",
       "      <th>2</th>\n",
       "      <td>3</td>\n",
       "      <td>113228</td>\n",
       "      <td>15602.0</td>\n",
       "    </tr>\n",
       "    <tr>\n",
       "      <th>3</th>\n",
       "      <td>4</td>\n",
       "      <td>114885</td>\n",
       "      <td>31357.0</td>\n",
       "    </tr>\n",
       "    <tr>\n",
       "      <th>4</th>\n",
       "      <td>5</td>\n",
       "      <td>113041</td>\n",
       "      <td>11862.0</td>\n",
       "    </tr>\n",
       "  </tbody>\n",
       "</table>\n",
       "</div>"
      ],
      "text/plain": [
       "   movieId  imdbId   tmdbId\n",
       "0        1  114709    862.0\n",
       "1        2  113497   8844.0\n",
       "2        3  113228  15602.0\n",
       "3        4  114885  31357.0\n",
       "4        5  113041  11862.0"
      ]
     },
     "execution_count": 14,
     "metadata": {},
     "output_type": "execute_result"
    }
   ],
   "source": [
    "links_df = pd.read_csv('Data/links.csv')\n",
    "links_df.head()"
   ]
  },
  {
   "cell_type": "code",
   "execution_count": 15,
   "metadata": {},
   "outputs": [
    {
     "name": "stdout",
     "output_type": "stream",
     "text": [
      "Dataset Shape:\n",
      "=================\n",
      "Number of Rows: 9742\n",
      "Number of Columns: 3\n"
     ]
    }
   ],
   "source": [
    "# Display the shape of the dataset (number of rows and columns)\n",
    "print(\"Dataset Shape:\")\n",
    "print(\"=================\")\n",
    "print(\"Number of Rows:\", links_df.shape[0])\n",
    "print(\"Number of Columns:\", links_df.shape[1])"
   ]
  },
  {
   "cell_type": "code",
   "execution_count": 16,
   "metadata": {},
   "outputs": [
    {
     "name": "stdout",
     "output_type": "stream",
     "text": [
      "Data Types of Columns:\n",
      "============================\n",
      "movieId      int64\n",
      "imdbId       int64\n",
      "tmdbId     float64\n",
      "dtype: object\n"
     ]
    }
   ],
   "source": [
    "# Display the data types of columns\n",
    "print(\"Data Types of Columns:\")\n",
    "print(\"============================\")\n",
    "print(links_df.dtypes)"
   ]
  },
  {
   "cell_type": "code",
   "execution_count": 17,
   "metadata": {},
   "outputs": [
    {
     "data": {
      "text/html": [
       "<div>\n",
       "<style scoped>\n",
       "    .dataframe tbody tr th:only-of-type {\n",
       "        vertical-align: middle;\n",
       "    }\n",
       "\n",
       "    .dataframe tbody tr th {\n",
       "        vertical-align: top;\n",
       "    }\n",
       "\n",
       "    .dataframe thead th {\n",
       "        text-align: right;\n",
       "    }\n",
       "</style>\n",
       "<table border=\"1\" class=\"dataframe\">\n",
       "  <thead>\n",
       "    <tr style=\"text-align: right;\">\n",
       "      <th></th>\n",
       "      <th>movieId</th>\n",
       "      <th>imdbId</th>\n",
       "      <th>tmdbId</th>\n",
       "    </tr>\n",
       "  </thead>\n",
       "  <tbody>\n",
       "    <tr>\n",
       "      <th>count</th>\n",
       "      <td>9742.000000</td>\n",
       "      <td>9.742000e+03</td>\n",
       "      <td>9734.000000</td>\n",
       "    </tr>\n",
       "    <tr>\n",
       "      <th>mean</th>\n",
       "      <td>42200.353623</td>\n",
       "      <td>6.771839e+05</td>\n",
       "      <td>55162.123793</td>\n",
       "    </tr>\n",
       "    <tr>\n",
       "      <th>std</th>\n",
       "      <td>52160.494854</td>\n",
       "      <td>1.107228e+06</td>\n",
       "      <td>93653.481487</td>\n",
       "    </tr>\n",
       "    <tr>\n",
       "      <th>min</th>\n",
       "      <td>1.000000</td>\n",
       "      <td>4.170000e+02</td>\n",
       "      <td>2.000000</td>\n",
       "    </tr>\n",
       "    <tr>\n",
       "      <th>25%</th>\n",
       "      <td>3248.250000</td>\n",
       "      <td>9.518075e+04</td>\n",
       "      <td>9665.500000</td>\n",
       "    </tr>\n",
       "    <tr>\n",
       "      <th>50%</th>\n",
       "      <td>7300.000000</td>\n",
       "      <td>1.672605e+05</td>\n",
       "      <td>16529.000000</td>\n",
       "    </tr>\n",
       "    <tr>\n",
       "      <th>75%</th>\n",
       "      <td>76232.000000</td>\n",
       "      <td>8.055685e+05</td>\n",
       "      <td>44205.750000</td>\n",
       "    </tr>\n",
       "    <tr>\n",
       "      <th>max</th>\n",
       "      <td>193609.000000</td>\n",
       "      <td>8.391976e+06</td>\n",
       "      <td>525662.000000</td>\n",
       "    </tr>\n",
       "  </tbody>\n",
       "</table>\n",
       "</div>"
      ],
      "text/plain": [
       "             movieId        imdbId         tmdbId\n",
       "count    9742.000000  9.742000e+03    9734.000000\n",
       "mean    42200.353623  6.771839e+05   55162.123793\n",
       "std     52160.494854  1.107228e+06   93653.481487\n",
       "min         1.000000  4.170000e+02       2.000000\n",
       "25%      3248.250000  9.518075e+04    9665.500000\n",
       "50%      7300.000000  1.672605e+05   16529.000000\n",
       "75%     76232.000000  8.055685e+05   44205.750000\n",
       "max    193609.000000  8.391976e+06  525662.000000"
      ]
     },
     "execution_count": 17,
     "metadata": {},
     "output_type": "execute_result"
    }
   ],
   "source": [
    "links_df.describe()"
   ]
  },
  {
   "cell_type": "markdown",
   "metadata": {},
   "source": [
    "### Merge `movies_df` & `ratings_df`\n",
    "\n",
    "Most import dataset for the analysis were the movies and the ratings datasest"
   ]
  },
  {
   "cell_type": "code",
   "execution_count": 18,
   "metadata": {},
   "outputs": [],
   "source": [
    "# Merge the datasets on the 'movieId' column\n",
    "merged_df = pd.merge(ratings_df, movies_df, on='movieId')"
   ]
  },
  {
   "cell_type": "code",
   "execution_count": 19,
   "metadata": {},
   "outputs": [
    {
     "name": "stdout",
     "output_type": "stream",
     "text": [
      "Merged_df head:\n",
      "============================\n"
     ]
    },
    {
     "data": {
      "text/html": [
       "<div>\n",
       "<style scoped>\n",
       "    .dataframe tbody tr th:only-of-type {\n",
       "        vertical-align: middle;\n",
       "    }\n",
       "\n",
       "    .dataframe tbody tr th {\n",
       "        vertical-align: top;\n",
       "    }\n",
       "\n",
       "    .dataframe thead th {\n",
       "        text-align: right;\n",
       "    }\n",
       "</style>\n",
       "<table border=\"1\" class=\"dataframe\">\n",
       "  <thead>\n",
       "    <tr style=\"text-align: right;\">\n",
       "      <th></th>\n",
       "      <th>userId</th>\n",
       "      <th>movieId</th>\n",
       "      <th>rating</th>\n",
       "      <th>title</th>\n",
       "      <th>genres</th>\n",
       "    </tr>\n",
       "  </thead>\n",
       "  <tbody>\n",
       "    <tr>\n",
       "      <th>0</th>\n",
       "      <td>1</td>\n",
       "      <td>1</td>\n",
       "      <td>4.0</td>\n",
       "      <td>Toy Story (1995)</td>\n",
       "      <td>Adventure|Animation|Children|Comedy|Fantasy</td>\n",
       "    </tr>\n",
       "    <tr>\n",
       "      <th>1</th>\n",
       "      <td>5</td>\n",
       "      <td>1</td>\n",
       "      <td>4.0</td>\n",
       "      <td>Toy Story (1995)</td>\n",
       "      <td>Adventure|Animation|Children|Comedy|Fantasy</td>\n",
       "    </tr>\n",
       "    <tr>\n",
       "      <th>2</th>\n",
       "      <td>7</td>\n",
       "      <td>1</td>\n",
       "      <td>4.5</td>\n",
       "      <td>Toy Story (1995)</td>\n",
       "      <td>Adventure|Animation|Children|Comedy|Fantasy</td>\n",
       "    </tr>\n",
       "    <tr>\n",
       "      <th>3</th>\n",
       "      <td>15</td>\n",
       "      <td>1</td>\n",
       "      <td>2.5</td>\n",
       "      <td>Toy Story (1995)</td>\n",
       "      <td>Adventure|Animation|Children|Comedy|Fantasy</td>\n",
       "    </tr>\n",
       "    <tr>\n",
       "      <th>4</th>\n",
       "      <td>17</td>\n",
       "      <td>1</td>\n",
       "      <td>4.5</td>\n",
       "      <td>Toy Story (1995)</td>\n",
       "      <td>Adventure|Animation|Children|Comedy|Fantasy</td>\n",
       "    </tr>\n",
       "  </tbody>\n",
       "</table>\n",
       "</div>"
      ],
      "text/plain": [
       "   userId  movieId  rating             title  \\\n",
       "0       1        1     4.0  Toy Story (1995)   \n",
       "1       5        1     4.0  Toy Story (1995)   \n",
       "2       7        1     4.5  Toy Story (1995)   \n",
       "3      15        1     2.5  Toy Story (1995)   \n",
       "4      17        1     4.5  Toy Story (1995)   \n",
       "\n",
       "                                        genres  \n",
       "0  Adventure|Animation|Children|Comedy|Fantasy  \n",
       "1  Adventure|Animation|Children|Comedy|Fantasy  \n",
       "2  Adventure|Animation|Children|Comedy|Fantasy  \n",
       "3  Adventure|Animation|Children|Comedy|Fantasy  \n",
       "4  Adventure|Animation|Children|Comedy|Fantasy  "
      ]
     },
     "execution_count": 19,
     "metadata": {},
     "output_type": "execute_result"
    }
   ],
   "source": [
    "# Display the first five rows of the merged dataset\n",
    "print(\"Merged_df head:\")\n",
    "print(\"============================\")\n",
    "merged_df.head()"
   ]
  },
  {
   "cell_type": "code",
   "execution_count": 20,
   "metadata": {},
   "outputs": [
    {
     "name": "stdout",
     "output_type": "stream",
     "text": [
      "Merged Dataset Shape:\n",
      "==========================\n",
      "Number of Rows: 100836\n",
      "Number of Columns: 5\n"
     ]
    }
   ],
   "source": [
    "print(\"Merged Dataset Shape:\")\n",
    "print(\"==========================\")\n",
    "print(\"Number of Rows:\", merged_df.shape[0])\n",
    "print(\"Number of Columns:\", merged_df.shape[1])"
   ]
  },
  {
   "cell_type": "markdown",
   "metadata": {},
   "source": [
    "### Visualization on the dataset"
   ]
  },
  {
   "cell_type": "code",
   "execution_count": 21,
   "metadata": {},
   "outputs": [],
   "source": [
    "# Split the genres within each entry and create a list of genres\n",
    "def find_genres(movies_df):\n",
    "    genres = {}  # dictionary to store different genre values\n",
    "\n",
    "    for genre in movies_df['genres']:\n",
    "        words = genre.split('|')\n",
    "        for word in words:\n",
    "            genres[word] = genres.get(word, 0) + 1\n",
    "\n",
    "    return genres"
   ]
  },
  {
   "cell_type": "code",
   "execution_count": 22,
   "metadata": {},
   "outputs": [
    {
     "data": {
      "text/plain": [
       "{'Adventure': 1263,\n",
       " 'Animation': 611,\n",
       " 'Children': 664,\n",
       " 'Comedy': 3756,\n",
       " 'Fantasy': 779,\n",
       " 'Romance': 1596,\n",
       " 'Drama': 4361,\n",
       " 'Action': 1828,\n",
       " 'Crime': 1199,\n",
       " 'Thriller': 1894,\n",
       " 'Horror': 978,\n",
       " 'Mystery': 573,\n",
       " 'Sci-Fi': 980,\n",
       " 'War': 382,\n",
       " 'Musical': 334,\n",
       " 'Documentary': 440,\n",
       " 'IMAX': 158,\n",
       " 'Western': 167,\n",
       " 'Film-Noir': 87,\n",
       " '(no genres listed)': 34}"
      ]
     },
     "execution_count": 22,
     "metadata": {},
     "output_type": "execute_result"
    }
   ],
   "source": [
    "genre_counts = find_genres(movies_df)\n",
    "genre_counts"
   ]
  },
  {
   "cell_type": "code",
   "execution_count": 23,
   "metadata": {},
   "outputs": [
    {
     "name": "stdout",
     "output_type": "stream",
     "text": [
      "Drama                 4361\n",
      "Comedy                3756\n",
      "Thriller              1894\n",
      "Action                1828\n",
      "Romance               1596\n",
      "Adventure             1263\n",
      "Crime                 1199\n",
      "Sci-Fi                 980\n",
      "Horror                 978\n",
      "Fantasy                779\n",
      "Children               664\n",
      "Animation              611\n",
      "Mystery                573\n",
      "Documentary            440\n",
      "War                    382\n",
      "Musical                334\n",
      "Western                167\n",
      "IMAX                   158\n",
      "Film-Noir               87\n",
      "(no genres listed)      34\n",
      "Name: count, dtype: int64\n"
     ]
    }
   ],
   "source": [
    "# First, split the genres within each entry and create a list of genres\n",
    "genres_list = movies_df['genres'].str.split('|').tolist()\n",
    "\n",
    "# Now, flatten the list of lists into a single list of genres\n",
    "all_genres = [genre for sublist in genres_list for genre in sublist]\n",
    "\n",
    "# Count the occurrences of each genre\n",
    "genre_counts = pd.Series(all_genres).value_counts()\n",
    "\n",
    "# Print the counts of each genre\n",
    "print(genre_counts)"
   ]
  },
  {
   "cell_type": "code",
   "execution_count": 24,
   "metadata": {},
   "outputs": [
    {
     "name": "stdout",
     "output_type": "stream",
     "text": [
      "{'Drama': 4361, 'Comedy': 3756, 'Thriller': 1894, 'Action': 1828, 'Romance': 1596, 'Adventure': 1263, 'Crime': 1199, 'Sci-Fi': 980, 'Horror': 978, 'Fantasy': 779, 'Children': 664, 'Animation': 611, 'Mystery': 573, 'Documentary': 440, 'War': 382, 'Musical': 334, 'Western': 167, 'IMAX': 158, 'Film-Noir': 87, '(no genres listed)': 34}\n"
     ]
    }
   ],
   "source": [
    "# First, split the genres within each entry and create a list of genres\n",
    "genres_list = movies_df['genres'].str.split('|').tolist()\n",
    "\n",
    "# Now, flatten the list of lists into a single list of genres\n",
    "all_genres = [genre for sublist in genres_list for genre in sublist]\n",
    "\n",
    "# Count the occurrences of each genre\n",
    "genre_counts = pd.Series(all_genres).value_counts()\n",
    "\n",
    "# Convert the series to a dictionary\n",
    "genre_counts_dict = genre_counts.to_dict()\n",
    "\n",
    "# Print the genre counts as a dictionary\n",
    "print(genre_counts_dict)"
   ]
  },
  {
   "cell_type": "code",
   "execution_count": 25,
   "metadata": {},
   "outputs": [],
   "source": [
    "genre_counts['None'] = genre_counts.pop('(no genres listed)')"
   ]
  },
  {
   "cell_type": "code",
   "execution_count": 26,
   "metadata": {},
   "outputs": [
    {
     "data": {
      "text/plain": [
       "Drama          4361\n",
       "Comedy         3756\n",
       "Thriller       1894\n",
       "Action         1828\n",
       "Romance        1596\n",
       "Adventure      1263\n",
       "Crime          1199\n",
       "Sci-Fi          980\n",
       "Horror          978\n",
       "Fantasy         779\n",
       "Children        664\n",
       "Animation       611\n",
       "Mystery         573\n",
       "Documentary     440\n",
       "War             382\n",
       "Musical         334\n",
       "Western         167\n",
       "IMAX            158\n",
       "Film-Noir        87\n",
       "None             34\n",
       "Name: count, dtype: int64"
      ]
     },
     "execution_count": 26,
     "metadata": {},
     "output_type": "execute_result"
    }
   ],
   "source": [
    "genre_counts  # Counts of all listed genres within dataset"
   ]
  },
  {
   "cell_type": "markdown",
   "metadata": {},
   "source": [
    "### Check for  Missing Values"
   ]
  },
  {
   "cell_type": "code",
   "execution_count": 27,
   "metadata": {},
   "outputs": [
    {
     "data": {
      "text/plain": [
       "userId     0\n",
       "movieId    0\n",
       "rating     0\n",
       "title      0\n",
       "genres     0\n",
       "dtype: int64"
      ]
     },
     "execution_count": 27,
     "metadata": {},
     "output_type": "execute_result"
    }
   ],
   "source": [
    "merged_df.isna().sum()"
   ]
  },
  {
   "cell_type": "code",
   "execution_count": 28,
   "metadata": {},
   "outputs": [
    {
     "data": {
      "text/html": [
       "<div>\n",
       "<style scoped>\n",
       "    .dataframe tbody tr th:only-of-type {\n",
       "        vertical-align: middle;\n",
       "    }\n",
       "\n",
       "    .dataframe tbody tr th {\n",
       "        vertical-align: top;\n",
       "    }\n",
       "\n",
       "    .dataframe thead th {\n",
       "        text-align: right;\n",
       "    }\n",
       "</style>\n",
       "<table border=\"1\" class=\"dataframe\">\n",
       "  <thead>\n",
       "    <tr style=\"text-align: right;\">\n",
       "      <th></th>\n",
       "      <th>userId</th>\n",
       "      <th>movieId</th>\n",
       "      <th>rating</th>\n",
       "      <th>title</th>\n",
       "      <th>genres</th>\n",
       "    </tr>\n",
       "  </thead>\n",
       "  <tbody>\n",
       "    <tr>\n",
       "      <th>0</th>\n",
       "      <td>1</td>\n",
       "      <td>1</td>\n",
       "      <td>4.0</td>\n",
       "      <td>Toy Story (1995)</td>\n",
       "      <td>Adventure|Animation|Children|Comedy|Fantasy</td>\n",
       "    </tr>\n",
       "    <tr>\n",
       "      <th>1</th>\n",
       "      <td>5</td>\n",
       "      <td>1</td>\n",
       "      <td>4.0</td>\n",
       "      <td>Toy Story (1995)</td>\n",
       "      <td>Adventure|Animation|Children|Comedy|Fantasy</td>\n",
       "    </tr>\n",
       "    <tr>\n",
       "      <th>2</th>\n",
       "      <td>7</td>\n",
       "      <td>1</td>\n",
       "      <td>4.5</td>\n",
       "      <td>Toy Story (1995)</td>\n",
       "      <td>Adventure|Animation|Children|Comedy|Fantasy</td>\n",
       "    </tr>\n",
       "    <tr>\n",
       "      <th>3</th>\n",
       "      <td>15</td>\n",
       "      <td>1</td>\n",
       "      <td>2.5</td>\n",
       "      <td>Toy Story (1995)</td>\n",
       "      <td>Adventure|Animation|Children|Comedy|Fantasy</td>\n",
       "    </tr>\n",
       "    <tr>\n",
       "      <th>4</th>\n",
       "      <td>17</td>\n",
       "      <td>1</td>\n",
       "      <td>4.5</td>\n",
       "      <td>Toy Story (1995)</td>\n",
       "      <td>Adventure|Animation|Children|Comedy|Fantasy</td>\n",
       "    </tr>\n",
       "  </tbody>\n",
       "</table>\n",
       "</div>"
      ],
      "text/plain": [
       "   userId  movieId  rating             title  \\\n",
       "0       1        1     4.0  Toy Story (1995)   \n",
       "1       5        1     4.0  Toy Story (1995)   \n",
       "2       7        1     4.5  Toy Story (1995)   \n",
       "3      15        1     2.5  Toy Story (1995)   \n",
       "4      17        1     4.5  Toy Story (1995)   \n",
       "\n",
       "                                        genres  \n",
       "0  Adventure|Animation|Children|Comedy|Fantasy  \n",
       "1  Adventure|Animation|Children|Comedy|Fantasy  \n",
       "2  Adventure|Animation|Children|Comedy|Fantasy  \n",
       "3  Adventure|Animation|Children|Comedy|Fantasy  \n",
       "4  Adventure|Animation|Children|Comedy|Fantasy  "
      ]
     },
     "execution_count": 28,
     "metadata": {},
     "output_type": "execute_result"
    }
   ],
   "source": [
    "merged_df.head()"
   ]
  },
  {
   "cell_type": "markdown",
   "metadata": {},
   "source": [
    "### FEATURE ENGINEERING"
   ]
  },
  {
   "cell_type": "markdown",
   "metadata": {},
   "source": [
    "We undertook feature engineering to create a new column release_year by extracting the year the movie was released from the end of the title string. We then converted the years to decades."
   ]
  },
  {
   "cell_type": "code",
   "execution_count": 29,
   "metadata": {},
   "outputs": [
    {
     "data": {
      "text/html": [
       "<div>\n",
       "<style scoped>\n",
       "    .dataframe tbody tr th:only-of-type {\n",
       "        vertical-align: middle;\n",
       "    }\n",
       "\n",
       "    .dataframe tbody tr th {\n",
       "        vertical-align: top;\n",
       "    }\n",
       "\n",
       "    .dataframe thead th {\n",
       "        text-align: right;\n",
       "    }\n",
       "</style>\n",
       "<table border=\"1\" class=\"dataframe\">\n",
       "  <thead>\n",
       "    <tr style=\"text-align: right;\">\n",
       "      <th></th>\n",
       "      <th>userId</th>\n",
       "      <th>movieId</th>\n",
       "      <th>rating</th>\n",
       "      <th>title</th>\n",
       "      <th>genres</th>\n",
       "      <th>release_year</th>\n",
       "    </tr>\n",
       "  </thead>\n",
       "  <tbody>\n",
       "    <tr>\n",
       "      <th>0</th>\n",
       "      <td>1</td>\n",
       "      <td>1</td>\n",
       "      <td>4.0</td>\n",
       "      <td>Toy Story (1995)</td>\n",
       "      <td>Adventure|Animation|Children|Comedy|Fantasy</td>\n",
       "      <td>1995</td>\n",
       "    </tr>\n",
       "    <tr>\n",
       "      <th>1</th>\n",
       "      <td>5</td>\n",
       "      <td>1</td>\n",
       "      <td>4.0</td>\n",
       "      <td>Toy Story (1995)</td>\n",
       "      <td>Adventure|Animation|Children|Comedy|Fantasy</td>\n",
       "      <td>1995</td>\n",
       "    </tr>\n",
       "    <tr>\n",
       "      <th>2</th>\n",
       "      <td>7</td>\n",
       "      <td>1</td>\n",
       "      <td>4.5</td>\n",
       "      <td>Toy Story (1995)</td>\n",
       "      <td>Adventure|Animation|Children|Comedy|Fantasy</td>\n",
       "      <td>1995</td>\n",
       "    </tr>\n",
       "    <tr>\n",
       "      <th>3</th>\n",
       "      <td>15</td>\n",
       "      <td>1</td>\n",
       "      <td>2.5</td>\n",
       "      <td>Toy Story (1995)</td>\n",
       "      <td>Adventure|Animation|Children|Comedy|Fantasy</td>\n",
       "      <td>1995</td>\n",
       "    </tr>\n",
       "    <tr>\n",
       "      <th>4</th>\n",
       "      <td>17</td>\n",
       "      <td>1</td>\n",
       "      <td>4.5</td>\n",
       "      <td>Toy Story (1995)</td>\n",
       "      <td>Adventure|Animation|Children|Comedy|Fantasy</td>\n",
       "      <td>1995</td>\n",
       "    </tr>\n",
       "  </tbody>\n",
       "</table>\n",
       "</div>"
      ],
      "text/plain": [
       "   userId  movieId  rating             title  \\\n",
       "0       1        1     4.0  Toy Story (1995)   \n",
       "1       5        1     4.0  Toy Story (1995)   \n",
       "2       7        1     4.5  Toy Story (1995)   \n",
       "3      15        1     2.5  Toy Story (1995)   \n",
       "4      17        1     4.5  Toy Story (1995)   \n",
       "\n",
       "                                        genres  release_year  \n",
       "0  Adventure|Animation|Children|Comedy|Fantasy          1995  \n",
       "1  Adventure|Animation|Children|Comedy|Fantasy          1995  \n",
       "2  Adventure|Animation|Children|Comedy|Fantasy          1995  \n",
       "3  Adventure|Animation|Children|Comedy|Fantasy          1995  \n",
       "4  Adventure|Animation|Children|Comedy|Fantasy          1995  "
      ]
     },
     "execution_count": 29,
     "metadata": {},
     "output_type": "execute_result"
    }
   ],
   "source": [
    "merged_df['release_year'] = merged_df['title'].str.extract(r'\\((\\d{4})\\)$', expand=False)\n",
    "merged_df['release_year'] = pd.to_numeric(merged_df['release_year'], errors='coerce').astype('Int64')\n",
    "merged_df.head()"
   ]
  },
  {
   "cell_type": "code",
   "execution_count": 30,
   "metadata": {},
   "outputs": [
    {
     "data": {
      "text/plain": [
       "userId           0\n",
       "movieId          0\n",
       "rating           0\n",
       "title            0\n",
       "genres           0\n",
       "release_year    31\n",
       "dtype: int64"
      ]
     },
     "execution_count": 30,
     "metadata": {},
     "output_type": "execute_result"
    }
   ],
   "source": [
    "merged_df.isna().sum()"
   ]
  },
  {
   "cell_type": "code",
   "execution_count": 31,
   "metadata": {},
   "outputs": [
    {
     "data": {
      "text/html": [
       "<div>\n",
       "<style scoped>\n",
       "    .dataframe tbody tr th:only-of-type {\n",
       "        vertical-align: middle;\n",
       "    }\n",
       "\n",
       "    .dataframe tbody tr th {\n",
       "        vertical-align: top;\n",
       "    }\n",
       "\n",
       "    .dataframe thead th {\n",
       "        text-align: right;\n",
       "    }\n",
       "</style>\n",
       "<table border=\"1\" class=\"dataframe\">\n",
       "  <thead>\n",
       "    <tr style=\"text-align: right;\">\n",
       "      <th></th>\n",
       "      <th>no_missing_values</th>\n",
       "      <th>percent_missing</th>\n",
       "    </tr>\n",
       "  </thead>\n",
       "  <tbody>\n",
       "    <tr>\n",
       "      <th>userId</th>\n",
       "      <td>0</td>\n",
       "      <td>0.00</td>\n",
       "    </tr>\n",
       "    <tr>\n",
       "      <th>movieId</th>\n",
       "      <td>0</td>\n",
       "      <td>0.00</td>\n",
       "    </tr>\n",
       "    <tr>\n",
       "      <th>rating</th>\n",
       "      <td>0</td>\n",
       "      <td>0.00</td>\n",
       "    </tr>\n",
       "    <tr>\n",
       "      <th>title</th>\n",
       "      <td>0</td>\n",
       "      <td>0.00</td>\n",
       "    </tr>\n",
       "    <tr>\n",
       "      <th>genres</th>\n",
       "      <td>0</td>\n",
       "      <td>0.00</td>\n",
       "    </tr>\n",
       "    <tr>\n",
       "      <th>release_year</th>\n",
       "      <td>31</td>\n",
       "      <td>0.03</td>\n",
       "    </tr>\n",
       "  </tbody>\n",
       "</table>\n",
       "</div>"
      ],
      "text/plain": [
       "              no_missing_values  percent_missing\n",
       "userId                        0             0.00\n",
       "movieId                       0             0.00\n",
       "rating                        0             0.00\n",
       "title                         0             0.00\n",
       "genres                        0             0.00\n",
       "release_year                 31             0.03"
      ]
     },
     "execution_count": 31,
     "metadata": {},
     "output_type": "execute_result"
    }
   ],
   "source": [
    "no_missing = merged_df.isna().sum()\n",
    "percent_missing = ( merged_df.isna().sum() * 100/len(merged_df)).round(2)\n",
    "missing_value_df = pd.DataFrame({'no_missing_values':no_missing,'percent_missing':percent_missing})\n",
    "\n",
    "missing_value_df"
   ]
  },
  {
   "cell_type": "code",
   "execution_count": 32,
   "metadata": {},
   "outputs": [],
   "source": [
    "merged_df = merged_df.dropna()"
   ]
  },
  {
   "cell_type": "code",
   "execution_count": 33,
   "metadata": {},
   "outputs": [
    {
     "data": {
      "text/plain": [
       "userId          0\n",
       "movieId         0\n",
       "rating          0\n",
       "title           0\n",
       "genres          0\n",
       "release_year    0\n",
       "dtype: int64"
      ]
     },
     "execution_count": 33,
     "metadata": {},
     "output_type": "execute_result"
    }
   ],
   "source": [
    "merged_df.isna().sum()"
   ]
  },
  {
   "cell_type": "code",
   "execution_count": 34,
   "metadata": {},
   "outputs": [
    {
     "data": {
      "text/html": [
       "<div>\n",
       "<style scoped>\n",
       "    .dataframe tbody tr th:only-of-type {\n",
       "        vertical-align: middle;\n",
       "    }\n",
       "\n",
       "    .dataframe tbody tr th {\n",
       "        vertical-align: top;\n",
       "    }\n",
       "\n",
       "    .dataframe thead th {\n",
       "        text-align: right;\n",
       "    }\n",
       "</style>\n",
       "<table border=\"1\" class=\"dataframe\">\n",
       "  <thead>\n",
       "    <tr style=\"text-align: right;\">\n",
       "      <th></th>\n",
       "      <th>userId</th>\n",
       "      <th>movieId</th>\n",
       "      <th>rating</th>\n",
       "      <th>title</th>\n",
       "      <th>genres</th>\n",
       "      <th>release_year</th>\n",
       "      <th>decade</th>\n",
       "    </tr>\n",
       "  </thead>\n",
       "  <tbody>\n",
       "    <tr>\n",
       "      <th>0</th>\n",
       "      <td>1</td>\n",
       "      <td>1</td>\n",
       "      <td>4.0</td>\n",
       "      <td>Toy Story (1995)</td>\n",
       "      <td>Adventure|Animation|Children|Comedy|Fantasy</td>\n",
       "      <td>1995</td>\n",
       "      <td>1990s</td>\n",
       "    </tr>\n",
       "    <tr>\n",
       "      <th>1</th>\n",
       "      <td>5</td>\n",
       "      <td>1</td>\n",
       "      <td>4.0</td>\n",
       "      <td>Toy Story (1995)</td>\n",
       "      <td>Adventure|Animation|Children|Comedy|Fantasy</td>\n",
       "      <td>1995</td>\n",
       "      <td>1990s</td>\n",
       "    </tr>\n",
       "    <tr>\n",
       "      <th>2</th>\n",
       "      <td>7</td>\n",
       "      <td>1</td>\n",
       "      <td>4.5</td>\n",
       "      <td>Toy Story (1995)</td>\n",
       "      <td>Adventure|Animation|Children|Comedy|Fantasy</td>\n",
       "      <td>1995</td>\n",
       "      <td>1990s</td>\n",
       "    </tr>\n",
       "    <tr>\n",
       "      <th>3</th>\n",
       "      <td>15</td>\n",
       "      <td>1</td>\n",
       "      <td>2.5</td>\n",
       "      <td>Toy Story (1995)</td>\n",
       "      <td>Adventure|Animation|Children|Comedy|Fantasy</td>\n",
       "      <td>1995</td>\n",
       "      <td>1990s</td>\n",
       "    </tr>\n",
       "    <tr>\n",
       "      <th>4</th>\n",
       "      <td>17</td>\n",
       "      <td>1</td>\n",
       "      <td>4.5</td>\n",
       "      <td>Toy Story (1995)</td>\n",
       "      <td>Adventure|Animation|Children|Comedy|Fantasy</td>\n",
       "      <td>1995</td>\n",
       "      <td>1990s</td>\n",
       "    </tr>\n",
       "  </tbody>\n",
       "</table>\n",
       "</div>"
      ],
      "text/plain": [
       "   userId  movieId  rating             title  \\\n",
       "0       1        1     4.0  Toy Story (1995)   \n",
       "1       5        1     4.0  Toy Story (1995)   \n",
       "2       7        1     4.5  Toy Story (1995)   \n",
       "3      15        1     2.5  Toy Story (1995)   \n",
       "4      17        1     4.5  Toy Story (1995)   \n",
       "\n",
       "                                        genres  release_year decade  \n",
       "0  Adventure|Animation|Children|Comedy|Fantasy          1995  1990s  \n",
       "1  Adventure|Animation|Children|Comedy|Fantasy          1995  1990s  \n",
       "2  Adventure|Animation|Children|Comedy|Fantasy          1995  1990s  \n",
       "3  Adventure|Animation|Children|Comedy|Fantasy          1995  1990s  \n",
       "4  Adventure|Animation|Children|Comedy|Fantasy          1995  1990s  "
      ]
     },
     "execution_count": 34,
     "metadata": {},
     "output_type": "execute_result"
    }
   ],
   "source": [
    "#Assigning the release year to decades\n",
    "#Define a function to convert year into decade\n",
    "def year_to_decade(year):\n",
    "    if pd.isna(year):\n",
    "        return None\n",
    "    return int(year / 10) * 10\n",
    "\n",
    "#Apply the function to the dataset\n",
    "merged_df['decade'] = merged_df['release_year'].apply(year_to_decade)\n",
    "\n",
    "#Convert the decade into a string for readability\n",
    "merged_df['decade'] = merged_df['decade'].astype(str) + 's'\n",
    "\n",
    "merged_df.head()"
   ]
  },
  {
   "cell_type": "code",
   "execution_count": 35,
   "metadata": {},
   "outputs": [],
   "source": [
    "#....................................................................................................code for reducing the dataset\n",
    "# subseting on most popular movies\n",
    "# Calculate the number of ratings per movie\n",
    "#ratings_count = merged_df['movieId'].value_counts()\n",
    "\n",
    "# Find the threshold for the top 10%\n",
    "#threshold = ratings_count.quantile(0.9)\n",
    "\n",
    "# Filter the movies that have more ratings than the threshold\n",
    "#top_movies_ids = ratings_count[ratings_count > threshold].index\n",
    "#top_movies_df = merge"
   ]
  },
  {
   "cell_type": "markdown",
   "metadata": {},
   "source": [
    "### EXPLORATORY DATA ANALYSIS"
   ]
  },
  {
   "cell_type": "markdown",
   "metadata": {},
   "source": [
    "### Distribution of ratings"
   ]
  },
  {
   "cell_type": "code",
   "execution_count": 36,
   "metadata": {},
   "outputs": [
    {
     "data": {
      "image/png": "[encoded data removed]",
      "text/plain": [
       "<Figure size 640x480 with 1 Axes>"
      ]
     },
     "metadata": {},
     "output_type": "display_data"
    }
   ],
   "source": [
    "#Frequency of ratings\n",
    "plt.hist(merged_df['rating'],bins=30)\n",
    "plt.xlabel('Value of rating')\n",
    "plt.ylabel('Frequency of ratings')\n",
    "plt.title(' Distribution of Ratings')\n",
    "plt.show()"
   ]
  },
  {
   "cell_type": "markdown",
   "metadata": {},
   "source": [
    "### Top Genres"
   ]
  },
  {
   "cell_type": "markdown",
   "metadata": {},
   "source": [
    "We extracted individual genres from the movie genres column to investigate the most popular genres."
   ]
  },
  {
   "cell_type": "code",
   "execution_count": 37,
   "metadata": {},
   "outputs": [
    {
     "data": {
      "image/png": "[encoded data removed]",
      "text/plain": [
       "<Figure size 1200x700 with 1 Axes>"
      ]
     },
     "metadata": {},
     "output_type": "display_data"
    }
   ],
   "source": [
    "#Extracting genre labels from the genre column\n",
    "genrelabels = set()\n",
    "for i in merged_df['genres'].str.split('|').values:\n",
    "    genrelabels = genrelabels.union(set(i))\n",
    "    \n",
    "#Creating a function to visualize genre     \n",
    "def genrecounts(merged_df, col, labels):\n",
    "    count = dict()\n",
    "    for i in labels: count[i] = 0\n",
    "    for value in merged_df[col].str.split('|'):\n",
    "        if type(value) == float and pd.isnull(value): continue\n",
    "        for i in value: \n",
    "            if pd.notnull(i): count[i] += 1\n",
    "    return count    \n",
    "\n",
    "#Applying the function to our dataframe to extract genre count by genre labels\n",
    "genre_count = genrecounts(merged_df, 'genres', genrelabels)\n",
    "genre_count\n",
    "\n",
    "#Creating a dataframe from the genre labels and frequency\n",
    "genres = pd.DataFrame(list(genre_count.items()),columns = ['Genre','Frequency'])\n",
    "\n",
    "#Sorting values by the frequency column\n",
    "genres = genres.sort_values(by=['Frequency'], ascending=False)\n",
    "\n",
    "#Visualizing the most popular genres\n",
    "plt.figure(figsize=(12,7))\n",
    "sns.barplot(x='Genre', y='Frequency', data=genres)\n",
    "plt.title('Most Popular Genres')\n",
    "plt.xticks(rotation=45);"
   ]
  },
  {
   "cell_type": "markdown",
   "metadata": {},
   "source": [
    "### Top 10 watched movies"
   ]
  },
  {
   "cell_type": "code",
   "execution_count": 38,
   "metadata": {},
   "outputs": [
    {
     "data": {
      "text/html": [
       "<div>\n",
       "<style scoped>\n",
       "    .dataframe tbody tr th:only-of-type {\n",
       "        vertical-align: middle;\n",
       "    }\n",
       "\n",
       "    .dataframe tbody tr th {\n",
       "        vertical-align: top;\n",
       "    }\n",
       "\n",
       "    .dataframe thead th {\n",
       "        text-align: right;\n",
       "    }\n",
       "</style>\n",
       "<table border=\"1\" class=\"dataframe\">\n",
       "  <thead>\n",
       "    <tr style=\"text-align: right;\">\n",
       "      <th></th>\n",
       "      <th>rating</th>\n",
       "    </tr>\n",
       "    <tr>\n",
       "      <th>title</th>\n",
       "      <th></th>\n",
       "    </tr>\n",
       "  </thead>\n",
       "  <tbody>\n",
       "    <tr>\n",
       "      <th>Forrest Gump (1994)</th>\n",
       "      <td>329</td>\n",
       "    </tr>\n",
       "    <tr>\n",
       "      <th>Shawshank Redemption, The (1994)</th>\n",
       "      <td>317</td>\n",
       "    </tr>\n",
       "    <tr>\n",
       "      <th>Pulp Fiction (1994)</th>\n",
       "      <td>307</td>\n",
       "    </tr>\n",
       "    <tr>\n",
       "      <th>Silence of the Lambs, The (1991)</th>\n",
       "      <td>279</td>\n",
       "    </tr>\n",
       "    <tr>\n",
       "      <th>Matrix, The (1999)</th>\n",
       "      <td>278</td>\n",
       "    </tr>\n",
       "    <tr>\n",
       "      <th>Star Wars: Episode IV - A New Hope (1977)</th>\n",
       "      <td>251</td>\n",
       "    </tr>\n",
       "    <tr>\n",
       "      <th>Jurassic Park (1993)</th>\n",
       "      <td>238</td>\n",
       "    </tr>\n",
       "    <tr>\n",
       "      <th>Braveheart (1995)</th>\n",
       "      <td>237</td>\n",
       "    </tr>\n",
       "    <tr>\n",
       "      <th>Terminator 2: Judgment Day (1991)</th>\n",
       "      <td>224</td>\n",
       "    </tr>\n",
       "    <tr>\n",
       "      <th>Schindler's List (1993)</th>\n",
       "      <td>220</td>\n",
       "    </tr>\n",
       "  </tbody>\n",
       "</table>\n",
       "</div>"
      ],
      "text/plain": [
       "                                           rating\n",
       "title                                            \n",
       "Forrest Gump (1994)                           329\n",
       "Shawshank Redemption, The (1994)              317\n",
       "Pulp Fiction (1994)                           307\n",
       "Silence of the Lambs, The (1991)              279\n",
       "Matrix, The (1999)                            278\n",
       "Star Wars: Episode IV - A New Hope (1977)     251\n",
       "Jurassic Park (1993)                          238\n",
       "Braveheart (1995)                             237\n",
       "Terminator 2: Judgment Day (1991)             224\n",
       "Schindler's List (1993)                       220"
      ]
     },
     "execution_count": 38,
     "metadata": {},
     "output_type": "execute_result"
    }
   ],
   "source": [
    "top_ten_watched_movies = merged_df.groupby('title')['rating'].count().sort_values(ascending=False)\n",
    "pd.DataFrame(top_ten_watched_movies.head(10))"
   ]
  },
  {
   "cell_type": "code",
   "execution_count": 39,
   "metadata": {},
   "outputs": [
    {
     "data": {
      "image/png": "[encoded data removed]",
      "text/plain": [
       "<Figure size 1000x600 with 1 Axes>"
      ]
     },
     "metadata": {},
     "output_type": "display_data"
    }
   ],
   "source": [
    "# Step 1: Group data by movie title and count the number of ratings\n",
    "watch_counts = merged_df['title'].value_counts()\n",
    "\n",
    "# Step 2: Get the top ten most watched movies\n",
    "top_ten_watched = watch_counts.head(10)\n",
    "\n",
    "# Step 3: Plot the histogram\n",
    "plt.figure(figsize=(10, 6))\n",
    "top_ten_watched.plot(kind='bar', color=['#06837f', '#02cecb', '#b4ffff', '#f8e16c', '#fed811'])\n",
    "plt.title('Top Ten Most Watched Movies')\n",
    "plt.xlabel('Movie Title')\n",
    "plt.ylabel('Number of Ratings')\n",
    "plt.xticks(rotation=45, ha='right')\n",
    "plt.tight_layout()\n",
    "plt.show()"
   ]
  },
  {
   "cell_type": "markdown",
   "metadata": {},
   "source": [
    "### Top 10 Highly Rated Movies"
   ]
  },
  {
   "cell_type": "code",
   "execution_count": 40,
   "metadata": {},
   "outputs": [
    {
     "data": {
      "image/png": "[encoded data removed]",
      "text/plain": [
       "<Figure size 1000x600 with 1 Axes>"
      ]
     },
     "metadata": {},
     "output_type": "display_data"
    }
   ],
   "source": [
    "# the average rating for each movie\n",
    "average_ratings = merged_df.groupby('title')['rating'].mean().reset_index()\n",
    "\n",
    "# Rename the columns for clarity\n",
    "average_ratings.columns = ['title', 'avg_rating']\n",
    "\n",
    "# Sort the movies by average rating in descending order\n",
    "average_ratings = average_ratings.sort_values(by='avg_rating', ascending=False)\n",
    "\n",
    "# bar plot to visualize the top 10 movies by average rating\n",
    "plt.figure(figsize=(10, 6))\n",
    "sns.barplot(x=\"avg_rating\", y=\"title\", data=round(average_ratings.head(10), 2), palette=\"viridis\")\n",
    "plt.title(\"Top 10 Movies by Average Rating\")\n",
    "plt.xlabel(\"Average Rating\")\n",
    "plt.ylabel(\"Movie Title\")\n",
    "plt.show()"
   ]
  },
  {
   "cell_type": "markdown",
   "metadata": {},
   "source": [
    "## Analysis of Movies with a Mean Rating of and User Rating"
   ]
  },
  {
   "cell_type": "code",
   "execution_count": 41,
   "metadata": {},
   "outputs": [
    {
     "name": "stdin",
     "output_type": "stream",
     "text": [
      "Enter a rating value:  4\n"
     ]
    },
    {
     "name": "stdout",
     "output_type": "stream",
     "text": [
      "Total number of movies with a mean rating of 4.0: 1005\n",
      "Total number of users who have given a rating of 4.0 to these movies: 1350\n"
     ]
    }
   ],
   "source": [
    "# Prompt the user to input a rating value\n",
    "rating_value = float(input(\"Enter a rating value: \"))\n",
    "\n",
    "# Step 1: Group data by movie title and calculate mean rating\n",
    "mean_ratings = merged_df.groupby('title')['rating'].mean()\n",
    "\n",
    "# Step 2: Filter movies with a mean rating of the chosen value\n",
    "top_rated_movies = mean_ratings[mean_ratings == rating_value].index.tolist()\n",
    "\n",
    "# Step 3: Retrieve user ratings for these movies\n",
    "top_rated_movie_ratings = merged_df[merged_df['title'].isin(top_rated_movies)]\n",
    "\n",
    "# Calculate the total number of movies with the chosen rating value\n",
    "num_top_rated_movies = len(top_rated_movies)\n",
    "\n",
    "# Calculate the total number of users who have given the chosen rating to these movies\n",
    "num_users_with_chosen_rating = top_rated_movie_ratings[top_rated_movie_ratings['rating'] == rating_value].groupby('title')['userId'].nunique().sum()\n",
    "\n",
    "# Display the results\n",
    "print(f\"Total number of movies with a mean rating of {rating_value}: {num_top_rated_movies}\")\n",
    "print(f\"Total number of users who have given a rating of {rating_value} to these movies: {num_users_with_chosen_rating}\")"
   ]
  },
  {
   "cell_type": "markdown",
   "metadata": {},
   "source": [
    "### Movie Release by Decades"
   ]
  },
  {
   "cell_type": "code",
   "execution_count": 42,
   "metadata": {},
   "outputs": [
    {
     "data": {
      "image/png": "[encoded data removed]",
      "text/plain": [
       "<Figure size 1000x600 with 1 Axes>"
      ]
     },
     "metadata": {},
     "output_type": "display_data"
    }
   ],
   "source": [
    "# Grouping by decade and counting the number of movies released\n",
    "movies_per_decade = merged_df.groupby('decade').size().reset_index(name='count')\n",
    "\n",
    "# Plotting the counts\n",
    "plt.figure(figsize=(10, 6))\n",
    "sns.lineplot(data=movies_per_decade, x='decade', y='count', marker='o')\n",
    "plt.title('Number of Movies Released per Decade')\n",
    "plt.xlabel('Decade')\n",
    "plt.ylabel('Count of Movies')\n",
    "plt.xticks(rotation=45);\n"
   ]
  },
  {
   "cell_type": "markdown",
   "metadata": {},
   "source": [
    "The number of movies produced from the 1900s if fairly low until the 1960s when it begins to rise. Movie production experiences exponentail growth from the 1970s until the highest peak in 1990s after which the number of movies begins to fall. The 2010s decades maybe missing some data as our last movie release date is in 2018."
   ]
  },
  {
   "cell_type": "markdown",
   "metadata": {},
   "source": [
    "### Number of Ratings and Average ratings per Decade"
   ]
  },
  {
   "cell_type": "code",
   "execution_count": 43,
   "metadata": {},
   "outputs": [
    {
     "data": {
      "image/png": "[encoded data removed]",
      "text/plain": [
       "<Figure size 1400x600 with 2 Axes>"
      ]
     },
     "metadata": {},
     "output_type": "display_data"
    }
   ],
   "source": [
    "# Grouping by decade and calculating the average rating\n",
    "ratings_stats = merged_df.groupby('decade').agg({'rating': ['mean', 'count']}).reset_index()\n",
    "ratings_stats.columns = ['decade', 'average_rating', 'number_of_ratings']\n",
    "\n",
    "# Creating subplots\n",
    "fig, axes = plt.subplots(1, 2, figsize=(14, 6))\n",
    "\n",
    "# Plotting number of ratings per decade\n",
    "sns.barplot(ax=axes[0], data=ratings_stats, x='decade', y='number_of_ratings', color='blue', alpha=0.5)\n",
    "axes[0].set_title('Number of Ratings per Decade')\n",
    "axes[0].set_xlabel('Decade')\n",
    "axes[0].set_ylabel('Number of Ratings')\n",
    "axes[0].tick_params(axis='x', rotation=45)\n",
    "\n",
    "# Plotting average rating per decade\n",
    "sns.barplot(ax=axes[1], data=ratings_stats, x='decade', y='average_rating', color='red', alpha=0.5)\n",
    "axes[1].set_title('Average Rating per Decade')\n",
    "axes[1].set_xlabel('Decade')\n",
    "axes[1].set_ylabel('Average Rating')\n",
    "axes[1].tick_params(axis='x', rotation=45);"
   ]
  },
  {
   "cell_type": "markdown",
   "metadata": {},
   "source": [
    "There are very few ratings to the movies from the 1900s until 1930s to 1940s when they begin rising steadily and then exponentially in the 1990s. The pattern is somewhat similar to movie release.\n",
    "\n",
    "The average rating of movies however remains steady over the decades with movies rating averaging between 3 and 4"
   ]
  },
  {
   "cell_type": "markdown",
   "metadata": {},
   "source": [
    "## DATA MODELING"
   ]
  },
  {
   "cell_type": "markdown",
   "metadata": {},
   "source": [
    "### Collaborative Filtering\n",
    "\n",
    "`Memory-Based CF:` The approach that relies on finding similarities between users or items to recommend similar items. It typically involves techniques such as Neighbourhood-based CF, where recommendations are made based on the preferences of similar users or items.\n",
    "\n",
    "`Model-Based CF:` : This approach utilizes various data mining and machine learning algorithms to predict users' ratings or preferences for unrated items. One example of model-based CF is Principal Component Analysis (PCA), which helps identify the most significant components or features in the data and use them to make predictions."
   ]
  },
  {
   "cell_type": "markdown",
   "metadata": {},
   "source": [
    "### Memory-Based Collaborative Filtering"
   ]
  },
  {
   "cell_type": "markdown",
   "metadata": {},
   "source": [
    "#### User-Item Matrix"
   ]
  },
  {
   "cell_type": "code",
   "execution_count": 44,
   "metadata": {},
   "outputs": [
    {
     "data": {
      "text/html": [
       "<div>\n",
       "<style scoped>\n",
       "    .dataframe tbody tr th:only-of-type {\n",
       "        vertical-align: middle;\n",
       "    }\n",
       "\n",
       "    .dataframe tbody tr th {\n",
       "        vertical-align: top;\n",
       "    }\n",
       "\n",
       "    .dataframe thead th {\n",
       "        text-align: right;\n",
       "    }\n",
       "</style>\n",
       "<table border=\"1\" class=\"dataframe\">\n",
       "  <thead>\n",
       "    <tr style=\"text-align: right;\">\n",
       "      <th>title</th>\n",
       "      <th>'71 (2014)</th>\n",
       "      <th>'Hellboy': The Seeds of Creation (2004)</th>\n",
       "      <th>'Round Midnight (1986)</th>\n",
       "      <th>'Salem's Lot (2004)</th>\n",
       "      <th>'Til There Was You (1997)</th>\n",
       "      <th>'Tis the Season for Love (2015)</th>\n",
       "      <th>'burbs, The (1989)</th>\n",
       "      <th>'night Mother (1986)</th>\n",
       "      <th>(500) Days of Summer (2009)</th>\n",
       "      <th>*batteries not included (1987)</th>\n",
       "      <th>...</th>\n",
       "      <th>Zulu (2013)</th>\n",
       "      <th>[REC] (2007)</th>\n",
       "      <th>[REC]² (2009)</th>\n",
       "      <th>[REC]³ 3 Génesis (2012)</th>\n",
       "      <th>anohana: The Flower We Saw That Day - The Movie (2013)</th>\n",
       "      <th>eXistenZ (1999)</th>\n",
       "      <th>xXx (2002)</th>\n",
       "      <th>xXx: State of the Union (2005)</th>\n",
       "      <th>¡Three Amigos! (1986)</th>\n",
       "      <th>À nous la liberté (Freedom for Us) (1931)</th>\n",
       "    </tr>\n",
       "    <tr>\n",
       "      <th>userId</th>\n",
       "      <th></th>\n",
       "      <th></th>\n",
       "      <th></th>\n",
       "      <th></th>\n",
       "      <th></th>\n",
       "      <th></th>\n",
       "      <th></th>\n",
       "      <th></th>\n",
       "      <th></th>\n",
       "      <th></th>\n",
       "      <th></th>\n",
       "      <th></th>\n",
       "      <th></th>\n",
       "      <th></th>\n",
       "      <th></th>\n",
       "      <th></th>\n",
       "      <th></th>\n",
       "      <th></th>\n",
       "      <th></th>\n",
       "      <th></th>\n",
       "      <th></th>\n",
       "    </tr>\n",
       "  </thead>\n",
       "  <tbody>\n",
       "    <tr>\n",
       "      <th>1</th>\n",
       "      <td>NaN</td>\n",
       "      <td>NaN</td>\n",
       "      <td>NaN</td>\n",
       "      <td>NaN</td>\n",
       "      <td>NaN</td>\n",
       "      <td>NaN</td>\n",
       "      <td>NaN</td>\n",
       "      <td>NaN</td>\n",
       "      <td>NaN</td>\n",
       "      <td>NaN</td>\n",
       "      <td>...</td>\n",
       "      <td>NaN</td>\n",
       "      <td>NaN</td>\n",
       "      <td>NaN</td>\n",
       "      <td>NaN</td>\n",
       "      <td>NaN</td>\n",
       "      <td>NaN</td>\n",
       "      <td>NaN</td>\n",
       "      <td>NaN</td>\n",
       "      <td>4.0</td>\n",
       "      <td>NaN</td>\n",
       "    </tr>\n",
       "    <tr>\n",
       "      <th>2</th>\n",
       "      <td>NaN</td>\n",
       "      <td>NaN</td>\n",
       "      <td>NaN</td>\n",
       "      <td>NaN</td>\n",
       "      <td>NaN</td>\n",
       "      <td>NaN</td>\n",
       "      <td>NaN</td>\n",
       "      <td>NaN</td>\n",
       "      <td>NaN</td>\n",
       "      <td>NaN</td>\n",
       "      <td>...</td>\n",
       "      <td>NaN</td>\n",
       "      <td>NaN</td>\n",
       "      <td>NaN</td>\n",
       "      <td>NaN</td>\n",
       "      <td>NaN</td>\n",
       "      <td>NaN</td>\n",
       "      <td>NaN</td>\n",
       "      <td>NaN</td>\n",
       "      <td>NaN</td>\n",
       "      <td>NaN</td>\n",
       "    </tr>\n",
       "    <tr>\n",
       "      <th>3</th>\n",
       "      <td>NaN</td>\n",
       "      <td>NaN</td>\n",
       "      <td>NaN</td>\n",
       "      <td>NaN</td>\n",
       "      <td>NaN</td>\n",
       "      <td>NaN</td>\n",
       "      <td>NaN</td>\n",
       "      <td>NaN</td>\n",
       "      <td>NaN</td>\n",
       "      <td>NaN</td>\n",
       "      <td>...</td>\n",
       "      <td>NaN</td>\n",
       "      <td>NaN</td>\n",
       "      <td>NaN</td>\n",
       "      <td>NaN</td>\n",
       "      <td>NaN</td>\n",
       "      <td>NaN</td>\n",
       "      <td>NaN</td>\n",
       "      <td>NaN</td>\n",
       "      <td>NaN</td>\n",
       "      <td>NaN</td>\n",
       "    </tr>\n",
       "    <tr>\n",
       "      <th>4</th>\n",
       "      <td>NaN</td>\n",
       "      <td>NaN</td>\n",
       "      <td>NaN</td>\n",
       "      <td>NaN</td>\n",
       "      <td>NaN</td>\n",
       "      <td>NaN</td>\n",
       "      <td>NaN</td>\n",
       "      <td>NaN</td>\n",
       "      <td>NaN</td>\n",
       "      <td>NaN</td>\n",
       "      <td>...</td>\n",
       "      <td>NaN</td>\n",
       "      <td>NaN</td>\n",
       "      <td>NaN</td>\n",
       "      <td>NaN</td>\n",
       "      <td>NaN</td>\n",
       "      <td>NaN</td>\n",
       "      <td>NaN</td>\n",
       "      <td>NaN</td>\n",
       "      <td>NaN</td>\n",
       "      <td>NaN</td>\n",
       "    </tr>\n",
       "    <tr>\n",
       "      <th>5</th>\n",
       "      <td>NaN</td>\n",
       "      <td>NaN</td>\n",
       "      <td>NaN</td>\n",
       "      <td>NaN</td>\n",
       "      <td>NaN</td>\n",
       "      <td>NaN</td>\n",
       "      <td>NaN</td>\n",
       "      <td>NaN</td>\n",
       "      <td>NaN</td>\n",
       "      <td>NaN</td>\n",
       "      <td>...</td>\n",
       "      <td>NaN</td>\n",
       "      <td>NaN</td>\n",
       "      <td>NaN</td>\n",
       "      <td>NaN</td>\n",
       "      <td>NaN</td>\n",
       "      <td>NaN</td>\n",
       "      <td>NaN</td>\n",
       "      <td>NaN</td>\n",
       "      <td>NaN</td>\n",
       "      <td>NaN</td>\n",
       "    </tr>\n",
       "    <tr>\n",
       "      <th>6</th>\n",
       "      <td>NaN</td>\n",
       "      <td>NaN</td>\n",
       "      <td>NaN</td>\n",
       "      <td>NaN</td>\n",
       "      <td>NaN</td>\n",
       "      <td>NaN</td>\n",
       "      <td>NaN</td>\n",
       "      <td>NaN</td>\n",
       "      <td>NaN</td>\n",
       "      <td>NaN</td>\n",
       "      <td>...</td>\n",
       "      <td>NaN</td>\n",
       "      <td>NaN</td>\n",
       "      <td>NaN</td>\n",
       "      <td>NaN</td>\n",
       "      <td>NaN</td>\n",
       "      <td>NaN</td>\n",
       "      <td>NaN</td>\n",
       "      <td>NaN</td>\n",
       "      <td>NaN</td>\n",
       "      <td>NaN</td>\n",
       "    </tr>\n",
       "    <tr>\n",
       "      <th>7</th>\n",
       "      <td>NaN</td>\n",
       "      <td>NaN</td>\n",
       "      <td>NaN</td>\n",
       "      <td>NaN</td>\n",
       "      <td>NaN</td>\n",
       "      <td>NaN</td>\n",
       "      <td>NaN</td>\n",
       "      <td>NaN</td>\n",
       "      <td>NaN</td>\n",
       "      <td>NaN</td>\n",
       "      <td>...</td>\n",
       "      <td>NaN</td>\n",
       "      <td>NaN</td>\n",
       "      <td>NaN</td>\n",
       "      <td>NaN</td>\n",
       "      <td>NaN</td>\n",
       "      <td>NaN</td>\n",
       "      <td>NaN</td>\n",
       "      <td>NaN</td>\n",
       "      <td>NaN</td>\n",
       "      <td>NaN</td>\n",
       "    </tr>\n",
       "    <tr>\n",
       "      <th>8</th>\n",
       "      <td>NaN</td>\n",
       "      <td>NaN</td>\n",
       "      <td>NaN</td>\n",
       "      <td>NaN</td>\n",
       "      <td>NaN</td>\n",
       "      <td>NaN</td>\n",
       "      <td>NaN</td>\n",
       "      <td>NaN</td>\n",
       "      <td>NaN</td>\n",
       "      <td>NaN</td>\n",
       "      <td>...</td>\n",
       "      <td>NaN</td>\n",
       "      <td>NaN</td>\n",
       "      <td>NaN</td>\n",
       "      <td>NaN</td>\n",
       "      <td>NaN</td>\n",
       "      <td>NaN</td>\n",
       "      <td>NaN</td>\n",
       "      <td>NaN</td>\n",
       "      <td>NaN</td>\n",
       "      <td>NaN</td>\n",
       "    </tr>\n",
       "    <tr>\n",
       "      <th>9</th>\n",
       "      <td>NaN</td>\n",
       "      <td>NaN</td>\n",
       "      <td>NaN</td>\n",
       "      <td>NaN</td>\n",
       "      <td>NaN</td>\n",
       "      <td>NaN</td>\n",
       "      <td>NaN</td>\n",
       "      <td>NaN</td>\n",
       "      <td>NaN</td>\n",
       "      <td>NaN</td>\n",
       "      <td>...</td>\n",
       "      <td>NaN</td>\n",
       "      <td>NaN</td>\n",
       "      <td>NaN</td>\n",
       "      <td>NaN</td>\n",
       "      <td>NaN</td>\n",
       "      <td>NaN</td>\n",
       "      <td>1.0</td>\n",
       "      <td>NaN</td>\n",
       "      <td>NaN</td>\n",
       "      <td>NaN</td>\n",
       "    </tr>\n",
       "    <tr>\n",
       "      <th>10</th>\n",
       "      <td>NaN</td>\n",
       "      <td>NaN</td>\n",
       "      <td>NaN</td>\n",
       "      <td>NaN</td>\n",
       "      <td>NaN</td>\n",
       "      <td>NaN</td>\n",
       "      <td>NaN</td>\n",
       "      <td>NaN</td>\n",
       "      <td>NaN</td>\n",
       "      <td>NaN</td>\n",
       "      <td>...</td>\n",
       "      <td>NaN</td>\n",
       "      <td>NaN</td>\n",
       "      <td>NaN</td>\n",
       "      <td>NaN</td>\n",
       "      <td>NaN</td>\n",
       "      <td>NaN</td>\n",
       "      <td>NaN</td>\n",
       "      <td>NaN</td>\n",
       "      <td>NaN</td>\n",
       "      <td>NaN</td>\n",
       "    </tr>\n",
       "  </tbody>\n",
       "</table>\n",
       "<p>10 rows × 9695 columns</p>\n",
       "</div>"
      ],
      "text/plain": [
       "title   '71 (2014)  'Hellboy': The Seeds of Creation (2004)  \\\n",
       "userId                                                        \n",
       "1              NaN                                      NaN   \n",
       "2              NaN                                      NaN   \n",
       "3              NaN                                      NaN   \n",
       "4              NaN                                      NaN   \n",
       "5              NaN                                      NaN   \n",
       "6              NaN                                      NaN   \n",
       "7              NaN                                      NaN   \n",
       "8              NaN                                      NaN   \n",
       "9              NaN                                      NaN   \n",
       "10             NaN                                      NaN   \n",
       "\n",
       "title   'Round Midnight (1986)  'Salem's Lot (2004)  \\\n",
       "userId                                                \n",
       "1                          NaN                  NaN   \n",
       "2                          NaN                  NaN   \n",
       "3                          NaN                  NaN   \n",
       "4                          NaN                  NaN   \n",
       "5                          NaN                  NaN   \n",
       "6                          NaN                  NaN   \n",
       "7                          NaN                  NaN   \n",
       "8                          NaN                  NaN   \n",
       "9                          NaN                  NaN   \n",
       "10                         NaN                  NaN   \n",
       "\n",
       "title   'Til There Was You (1997)  'Tis the Season for Love (2015)  \\\n",
       "userId                                                               \n",
       "1                             NaN                              NaN   \n",
       "2                             NaN                              NaN   \n",
       "3                             NaN                              NaN   \n",
       "4                             NaN                              NaN   \n",
       "5                             NaN                              NaN   \n",
       "6                             NaN                              NaN   \n",
       "7                             NaN                              NaN   \n",
       "8                             NaN                              NaN   \n",
       "9                             NaN                              NaN   \n",
       "10                            NaN                              NaN   \n",
       "\n",
       "title   'burbs, The (1989)  'night Mother (1986)  (500) Days of Summer (2009)  \\\n",
       "userId                                                                          \n",
       "1                      NaN                   NaN                          NaN   \n",
       "2                      NaN                   NaN                          NaN   \n",
       "3                      NaN                   NaN                          NaN   \n",
       "4                      NaN                   NaN                          NaN   \n",
       "5                      NaN                   NaN                          NaN   \n",
       "6                      NaN                   NaN                          NaN   \n",
       "7                      NaN                   NaN                          NaN   \n",
       "8                      NaN                   NaN                          NaN   \n",
       "9                      NaN                   NaN                          NaN   \n",
       "10                     NaN                   NaN                          NaN   \n",
       "\n",
       "title   *batteries not included (1987)  ...  Zulu (2013)  [REC] (2007)  \\\n",
       "userId                                  ...                              \n",
       "1                                  NaN  ...          NaN           NaN   \n",
       "2                                  NaN  ...          NaN           NaN   \n",
       "3                                  NaN  ...          NaN           NaN   \n",
       "4                                  NaN  ...          NaN           NaN   \n",
       "5                                  NaN  ...          NaN           NaN   \n",
       "6                                  NaN  ...          NaN           NaN   \n",
       "7                                  NaN  ...          NaN           NaN   \n",
       "8                                  NaN  ...          NaN           NaN   \n",
       "9                                  NaN  ...          NaN           NaN   \n",
       "10                                 NaN  ...          NaN           NaN   \n",
       "\n",
       "title   [REC]² (2009)  [REC]³ 3 Génesis (2012)  \\\n",
       "userId                                           \n",
       "1                 NaN                      NaN   \n",
       "2                 NaN                      NaN   \n",
       "3                 NaN                      NaN   \n",
       "4                 NaN                      NaN   \n",
       "5                 NaN                      NaN   \n",
       "6                 NaN                      NaN   \n",
       "7                 NaN                      NaN   \n",
       "8                 NaN                      NaN   \n",
       "9                 NaN                      NaN   \n",
       "10                NaN                      NaN   \n",
       "\n",
       "title   anohana: The Flower We Saw That Day - The Movie (2013)  \\\n",
       "userId                                                           \n",
       "1                                                     NaN        \n",
       "2                                                     NaN        \n",
       "3                                                     NaN        \n",
       "4                                                     NaN        \n",
       "5                                                     NaN        \n",
       "6                                                     NaN        \n",
       "7                                                     NaN        \n",
       "8                                                     NaN        \n",
       "9                                                     NaN        \n",
       "10                                                    NaN        \n",
       "\n",
       "title   eXistenZ (1999)  xXx (2002)  xXx: State of the Union (2005)  \\\n",
       "userId                                                                \n",
       "1                   NaN         NaN                             NaN   \n",
       "2                   NaN         NaN                             NaN   \n",
       "3                   NaN         NaN                             NaN   \n",
       "4                   NaN         NaN                             NaN   \n",
       "5                   NaN         NaN                             NaN   \n",
       "6                   NaN         NaN                             NaN   \n",
       "7                   NaN         NaN                             NaN   \n",
       "8                   NaN         NaN                             NaN   \n",
       "9                   NaN         1.0                             NaN   \n",
       "10                  NaN         NaN                             NaN   \n",
       "\n",
       "title   ¡Three Amigos! (1986)  À nous la liberté (Freedom for Us) (1931)  \n",
       "userId                                                                    \n",
       "1                         4.0                                        NaN  \n",
       "2                         NaN                                        NaN  \n",
       "3                         NaN                                        NaN  \n",
       "4                         NaN                                        NaN  \n",
       "5                         NaN                                        NaN  \n",
       "6                         NaN                                        NaN  \n",
       "7                         NaN                                        NaN  \n",
       "8                         NaN                                        NaN  \n",
       "9                         NaN                                        NaN  \n",
       "10                        NaN                                        NaN  \n",
       "\n",
       "[10 rows x 9695 columns]"
      ]
     },
     "execution_count": 44,
     "metadata": {},
     "output_type": "execute_result"
    }
   ],
   "source": [
    "# pivot table to transform the merged DataFrame into a user-item matrix\n",
    "pivot_matrix = merged_df.pivot_table(\n",
    "    index='userId',        # Rows will be indexed by 'userId'\n",
    "    columns='title',       # Columns will be indexed by 'title'\n",
    "    values='rating'        # The values in the matrix will be 'rating'\n",
    ")\n",
    "\n",
    "# print the first 10 rows of the `pivot_matrix`\n",
    "pivot_matrix.head(10)"
   ]
  },
  {
   "cell_type": "markdown",
   "metadata": {},
   "source": [
    "#### Collaborative Filtering using user preference"
   ]
  },
  {
   "cell_type": "code",
   "execution_count": 45,
   "metadata": {},
   "outputs": [
    {
     "data": {
      "text/html": [
       "<div>\n",
       "<style scoped>\n",
       "    .dataframe tbody tr th:only-of-type {\n",
       "        vertical-align: middle;\n",
       "    }\n",
       "\n",
       "    .dataframe tbody tr th {\n",
       "        vertical-align: top;\n",
       "    }\n",
       "\n",
       "    .dataframe thead th {\n",
       "        text-align: right;\n",
       "    }\n",
       "</style>\n",
       "<table border=\"1\" class=\"dataframe\">\n",
       "  <thead>\n",
       "    <tr style=\"text-align: right;\">\n",
       "      <th>title</th>\n",
       "      <th>'71 (2014)</th>\n",
       "      <th>'Hellboy': The Seeds of Creation (2004)</th>\n",
       "      <th>'Round Midnight (1986)</th>\n",
       "      <th>'Salem's Lot (2004)</th>\n",
       "      <th>'Til There Was You (1997)</th>\n",
       "      <th>'Tis the Season for Love (2015)</th>\n",
       "      <th>'burbs, The (1989)</th>\n",
       "      <th>'night Mother (1986)</th>\n",
       "      <th>(500) Days of Summer (2009)</th>\n",
       "      <th>*batteries not included (1987)</th>\n",
       "      <th>...</th>\n",
       "      <th>Zulu (2013)</th>\n",
       "      <th>[REC] (2007)</th>\n",
       "      <th>[REC]² (2009)</th>\n",
       "      <th>[REC]³ 3 Génesis (2012)</th>\n",
       "      <th>anohana: The Flower We Saw That Day - The Movie (2013)</th>\n",
       "      <th>eXistenZ (1999)</th>\n",
       "      <th>xXx (2002)</th>\n",
       "      <th>xXx: State of the Union (2005)</th>\n",
       "      <th>¡Three Amigos! (1986)</th>\n",
       "      <th>À nous la liberté (Freedom for Us) (1931)</th>\n",
       "    </tr>\n",
       "    <tr>\n",
       "      <th>userId</th>\n",
       "      <th></th>\n",
       "      <th></th>\n",
       "      <th></th>\n",
       "      <th></th>\n",
       "      <th></th>\n",
       "      <th></th>\n",
       "      <th></th>\n",
       "      <th></th>\n",
       "      <th></th>\n",
       "      <th></th>\n",
       "      <th></th>\n",
       "      <th></th>\n",
       "      <th></th>\n",
       "      <th></th>\n",
       "      <th></th>\n",
       "      <th></th>\n",
       "      <th></th>\n",
       "      <th></th>\n",
       "      <th></th>\n",
       "      <th></th>\n",
       "      <th></th>\n",
       "    </tr>\n",
       "  </thead>\n",
       "  <tbody>\n",
       "    <tr>\n",
       "      <th>1</th>\n",
       "      <td>4.366379</td>\n",
       "      <td>4.366379</td>\n",
       "      <td>4.366379</td>\n",
       "      <td>4.366379</td>\n",
       "      <td>4.366379</td>\n",
       "      <td>4.366379</td>\n",
       "      <td>4.366379</td>\n",
       "      <td>4.366379</td>\n",
       "      <td>4.366379</td>\n",
       "      <td>4.366379</td>\n",
       "      <td>...</td>\n",
       "      <td>4.366379</td>\n",
       "      <td>4.366379</td>\n",
       "      <td>4.366379</td>\n",
       "      <td>4.366379</td>\n",
       "      <td>4.366379</td>\n",
       "      <td>4.366379</td>\n",
       "      <td>4.366379</td>\n",
       "      <td>4.366379</td>\n",
       "      <td>4.000000</td>\n",
       "      <td>4.366379</td>\n",
       "    </tr>\n",
       "    <tr>\n",
       "      <th>2</th>\n",
       "      <td>3.948276</td>\n",
       "      <td>3.948276</td>\n",
       "      <td>3.948276</td>\n",
       "      <td>3.948276</td>\n",
       "      <td>3.948276</td>\n",
       "      <td>3.948276</td>\n",
       "      <td>3.948276</td>\n",
       "      <td>3.948276</td>\n",
       "      <td>3.948276</td>\n",
       "      <td>3.948276</td>\n",
       "      <td>...</td>\n",
       "      <td>3.948276</td>\n",
       "      <td>3.948276</td>\n",
       "      <td>3.948276</td>\n",
       "      <td>3.948276</td>\n",
       "      <td>3.948276</td>\n",
       "      <td>3.948276</td>\n",
       "      <td>3.948276</td>\n",
       "      <td>3.948276</td>\n",
       "      <td>3.948276</td>\n",
       "      <td>3.948276</td>\n",
       "    </tr>\n",
       "    <tr>\n",
       "      <th>3</th>\n",
       "      <td>2.435897</td>\n",
       "      <td>2.435897</td>\n",
       "      <td>2.435897</td>\n",
       "      <td>2.435897</td>\n",
       "      <td>2.435897</td>\n",
       "      <td>2.435897</td>\n",
       "      <td>2.435897</td>\n",
       "      <td>2.435897</td>\n",
       "      <td>2.435897</td>\n",
       "      <td>2.435897</td>\n",
       "      <td>...</td>\n",
       "      <td>2.435897</td>\n",
       "      <td>2.435897</td>\n",
       "      <td>2.435897</td>\n",
       "      <td>2.435897</td>\n",
       "      <td>2.435897</td>\n",
       "      <td>2.435897</td>\n",
       "      <td>2.435897</td>\n",
       "      <td>2.435897</td>\n",
       "      <td>2.435897</td>\n",
       "      <td>2.435897</td>\n",
       "    </tr>\n",
       "    <tr>\n",
       "      <th>4</th>\n",
       "      <td>3.555556</td>\n",
       "      <td>3.555556</td>\n",
       "      <td>3.555556</td>\n",
       "      <td>3.555556</td>\n",
       "      <td>3.555556</td>\n",
       "      <td>3.555556</td>\n",
       "      <td>3.555556</td>\n",
       "      <td>3.555556</td>\n",
       "      <td>3.555556</td>\n",
       "      <td>3.555556</td>\n",
       "      <td>...</td>\n",
       "      <td>3.555556</td>\n",
       "      <td>3.555556</td>\n",
       "      <td>3.555556</td>\n",
       "      <td>3.555556</td>\n",
       "      <td>3.555556</td>\n",
       "      <td>3.555556</td>\n",
       "      <td>3.555556</td>\n",
       "      <td>3.555556</td>\n",
       "      <td>3.555556</td>\n",
       "      <td>3.555556</td>\n",
       "    </tr>\n",
       "    <tr>\n",
       "      <th>5</th>\n",
       "      <td>3.636364</td>\n",
       "      <td>3.636364</td>\n",
       "      <td>3.636364</td>\n",
       "      <td>3.636364</td>\n",
       "      <td>3.636364</td>\n",
       "      <td>3.636364</td>\n",
       "      <td>3.636364</td>\n",
       "      <td>3.636364</td>\n",
       "      <td>3.636364</td>\n",
       "      <td>3.636364</td>\n",
       "      <td>...</td>\n",
       "      <td>3.636364</td>\n",
       "      <td>3.636364</td>\n",
       "      <td>3.636364</td>\n",
       "      <td>3.636364</td>\n",
       "      <td>3.636364</td>\n",
       "      <td>3.636364</td>\n",
       "      <td>3.636364</td>\n",
       "      <td>3.636364</td>\n",
       "      <td>3.636364</td>\n",
       "      <td>3.636364</td>\n",
       "    </tr>\n",
       "  </tbody>\n",
       "</table>\n",
       "<p>5 rows × 9695 columns</p>\n",
       "</div>"
      ],
      "text/plain": [
       "title   '71 (2014)  'Hellboy': The Seeds of Creation (2004)  \\\n",
       "userId                                                        \n",
       "1         4.366379                                 4.366379   \n",
       "2         3.948276                                 3.948276   \n",
       "3         2.435897                                 2.435897   \n",
       "4         3.555556                                 3.555556   \n",
       "5         3.636364                                 3.636364   \n",
       "\n",
       "title   'Round Midnight (1986)  'Salem's Lot (2004)  \\\n",
       "userId                                                \n",
       "1                     4.366379             4.366379   \n",
       "2                     3.948276             3.948276   \n",
       "3                     2.435897             2.435897   \n",
       "4                     3.555556             3.555556   \n",
       "5                     3.636364             3.636364   \n",
       "\n",
       "title   'Til There Was You (1997)  'Tis the Season for Love (2015)  \\\n",
       "userId                                                               \n",
       "1                        4.366379                         4.366379   \n",
       "2                        3.948276                         3.948276   \n",
       "3                        2.435897                         2.435897   \n",
       "4                        3.555556                         3.555556   \n",
       "5                        3.636364                         3.636364   \n",
       "\n",
       "title   'burbs, The (1989)  'night Mother (1986)  (500) Days of Summer (2009)  \\\n",
       "userId                                                                          \n",
       "1                 4.366379              4.366379                     4.366379   \n",
       "2                 3.948276              3.948276                     3.948276   \n",
       "3                 2.435897              2.435897                     2.435897   \n",
       "4                 3.555556              3.555556                     3.555556   \n",
       "5                 3.636364              3.636364                     3.636364   \n",
       "\n",
       "title   *batteries not included (1987)  ...  Zulu (2013)  [REC] (2007)  \\\n",
       "userId                                  ...                              \n",
       "1                             4.366379  ...     4.366379      4.366379   \n",
       "2                             3.948276  ...     3.948276      3.948276   \n",
       "3                             2.435897  ...     2.435897      2.435897   \n",
       "4                             3.555556  ...     3.555556      3.555556   \n",
       "5                             3.636364  ...     3.636364      3.636364   \n",
       "\n",
       "title   [REC]² (2009)  [REC]³ 3 Génesis (2012)  \\\n",
       "userId                                           \n",
       "1            4.366379                 4.366379   \n",
       "2            3.948276                 3.948276   \n",
       "3            2.435897                 2.435897   \n",
       "4            3.555556                 3.555556   \n",
       "5            3.636364                 3.636364   \n",
       "\n",
       "title   anohana: The Flower We Saw That Day - The Movie (2013)  \\\n",
       "userId                                                           \n",
       "1                                                4.366379        \n",
       "2                                                3.948276        \n",
       "3                                                2.435897        \n",
       "4                                                3.555556        \n",
       "5                                                3.636364        \n",
       "\n",
       "title   eXistenZ (1999)  xXx (2002)  xXx: State of the Union (2005)  \\\n",
       "userId                                                                \n",
       "1              4.366379    4.366379                        4.366379   \n",
       "2              3.948276    3.948276                        3.948276   \n",
       "3              2.435897    2.435897                        2.435897   \n",
       "4              3.555556    3.555556                        3.555556   \n",
       "5              3.636364    3.636364                        3.636364   \n",
       "\n",
       "title   ¡Three Amigos! (1986)  À nous la liberté (Freedom for Us) (1931)  \n",
       "userId                                                                    \n",
       "1                    4.000000                                   4.366379  \n",
       "2                    3.948276                                   3.948276  \n",
       "3                    2.435897                                   2.435897  \n",
       "4                    3.555556                                   3.555556  \n",
       "5                    3.636364                                   3.636364  \n",
       "\n",
       "[5 rows x 9695 columns]"
      ]
     },
     "execution_count": 45,
     "metadata": {},
     "output_type": "execute_result"
    }
   ],
   "source": [
    "user_matrix = pivot_matrix.copy()\n",
    "# For unrated movies, we assume the average rating of the user\n",
    "user_matrix = user_matrix.apply(lambda row: row.fillna(row.mean()), axis=1)\n",
    "\n",
    "# Print the first 5 rows of the updated user utility matrix\n",
    "user_matrix.head()"
   ]
  },
  {
   "cell_type": "code",
   "execution_count": 46,
   "metadata": {},
   "outputs": [
    {
     "data": {
      "text/html": [
       "<div>\n",
       "<style scoped>\n",
       "    .dataframe tbody tr th:only-of-type {\n",
       "        vertical-align: middle;\n",
       "    }\n",
       "\n",
       "    .dataframe tbody tr th {\n",
       "        vertical-align: top;\n",
       "    }\n",
       "\n",
       "    .dataframe thead th {\n",
       "        text-align: right;\n",
       "    }\n",
       "</style>\n",
       "<table border=\"1\" class=\"dataframe\">\n",
       "  <thead>\n",
       "    <tr style=\"text-align: right;\">\n",
       "      <th>userId</th>\n",
       "      <th>1</th>\n",
       "      <th>2</th>\n",
       "      <th>3</th>\n",
       "      <th>4</th>\n",
       "      <th>5</th>\n",
       "      <th>6</th>\n",
       "      <th>7</th>\n",
       "      <th>8</th>\n",
       "      <th>9</th>\n",
       "      <th>10</th>\n",
       "      <th>...</th>\n",
       "      <th>601</th>\n",
       "      <th>602</th>\n",
       "      <th>603</th>\n",
       "      <th>604</th>\n",
       "      <th>605</th>\n",
       "      <th>606</th>\n",
       "      <th>607</th>\n",
       "      <th>608</th>\n",
       "      <th>609</th>\n",
       "      <th>610</th>\n",
       "    </tr>\n",
       "    <tr>\n",
       "      <th>userId</th>\n",
       "      <th></th>\n",
       "      <th></th>\n",
       "      <th></th>\n",
       "      <th></th>\n",
       "      <th></th>\n",
       "      <th></th>\n",
       "      <th></th>\n",
       "      <th></th>\n",
       "      <th></th>\n",
       "      <th></th>\n",
       "      <th></th>\n",
       "      <th></th>\n",
       "      <th></th>\n",
       "      <th></th>\n",
       "      <th></th>\n",
       "      <th></th>\n",
       "      <th></th>\n",
       "      <th></th>\n",
       "      <th></th>\n",
       "      <th></th>\n",
       "      <th></th>\n",
       "    </tr>\n",
       "  </thead>\n",
       "  <tbody>\n",
       "    <tr>\n",
       "      <th>1</th>\n",
       "      <td>1.000000</td>\n",
       "      <td>1.264516e-03</td>\n",
       "      <td>5.525772e-04</td>\n",
       "      <td>0.048419</td>\n",
       "      <td>0.021847</td>\n",
       "      <td>-0.045497</td>\n",
       "      <td>-6.199672e-03</td>\n",
       "      <td>0.047013</td>\n",
       "      <td>1.950985e-02</td>\n",
       "      <td>-8.754088e-03</td>\n",
       "      <td>...</td>\n",
       "      <td>0.018127</td>\n",
       "      <td>-0.017172</td>\n",
       "      <td>-0.015221</td>\n",
       "      <td>-3.705875e-02</td>\n",
       "      <td>-2.912138e-02</td>\n",
       "      <td>0.012016</td>\n",
       "      <td>0.055261</td>\n",
       "      <td>0.075224</td>\n",
       "      <td>-2.571255e-02</td>\n",
       "      <td>0.010949</td>\n",
       "    </tr>\n",
       "    <tr>\n",
       "      <th>2</th>\n",
       "      <td>0.001265</td>\n",
       "      <td>1.000000e+00</td>\n",
       "      <td>8.832923e-17</td>\n",
       "      <td>-0.017164</td>\n",
       "      <td>0.021796</td>\n",
       "      <td>-0.021051</td>\n",
       "      <td>-1.111357e-02</td>\n",
       "      <td>-0.048085</td>\n",
       "      <td>6.329331e-16</td>\n",
       "      <td>3.011629e-03</td>\n",
       "      <td>...</td>\n",
       "      <td>-0.050551</td>\n",
       "      <td>-0.031581</td>\n",
       "      <td>-0.001688</td>\n",
       "      <td>-1.710814e-15</td>\n",
       "      <td>-1.198076e-15</td>\n",
       "      <td>0.006226</td>\n",
       "      <td>-0.020504</td>\n",
       "      <td>-0.006001</td>\n",
       "      <td>-6.009100e-02</td>\n",
       "      <td>0.025000</td>\n",
       "    </tr>\n",
       "    <tr>\n",
       "      <th>3</th>\n",
       "      <td>0.000553</td>\n",
       "      <td>8.832923e-17</td>\n",
       "      <td>1.000000e+00</td>\n",
       "      <td>-0.011260</td>\n",
       "      <td>-0.031539</td>\n",
       "      <td>0.004800</td>\n",
       "      <td>-2.351801e-16</td>\n",
       "      <td>-0.032471</td>\n",
       "      <td>-4.564439e-16</td>\n",
       "      <td>3.137663e-16</td>\n",
       "      <td>...</td>\n",
       "      <td>-0.004904</td>\n",
       "      <td>-0.016117</td>\n",
       "      <td>0.017749</td>\n",
       "      <td>-7.037567e-16</td>\n",
       "      <td>-1.430628e-03</td>\n",
       "      <td>-0.037289</td>\n",
       "      <td>-0.007789</td>\n",
       "      <td>-0.013001</td>\n",
       "      <td>-6.382353e-16</td>\n",
       "      <td>0.019562</td>\n",
       "    </tr>\n",
       "    <tr>\n",
       "      <th>4</th>\n",
       "      <td>0.048419</td>\n",
       "      <td>-1.716402e-02</td>\n",
       "      <td>-1.125978e-02</td>\n",
       "      <td>1.000000</td>\n",
       "      <td>-0.029620</td>\n",
       "      <td>0.013956</td>\n",
       "      <td>5.809139e-02</td>\n",
       "      <td>0.002065</td>\n",
       "      <td>-5.873603e-03</td>\n",
       "      <td>5.159032e-02</td>\n",
       "      <td>...</td>\n",
       "      <td>-0.037687</td>\n",
       "      <td>0.063122</td>\n",
       "      <td>0.027640</td>\n",
       "      <td>-1.378212e-02</td>\n",
       "      <td>4.003747e-02</td>\n",
       "      <td>0.020590</td>\n",
       "      <td>0.014628</td>\n",
       "      <td>-0.037569</td>\n",
       "      <td>-1.788358e-02</td>\n",
       "      <td>-0.000993</td>\n",
       "    </tr>\n",
       "    <tr>\n",
       "      <th>5</th>\n",
       "      <td>0.021847</td>\n",
       "      <td>2.179571e-02</td>\n",
       "      <td>-3.153892e-02</td>\n",
       "      <td>-0.029620</td>\n",
       "      <td>1.000000</td>\n",
       "      <td>0.009111</td>\n",
       "      <td>1.011715e-02</td>\n",
       "      <td>-0.012284</td>\n",
       "      <td>1.938099e-16</td>\n",
       "      <td>-3.316512e-02</td>\n",
       "      <td>...</td>\n",
       "      <td>0.015964</td>\n",
       "      <td>0.012427</td>\n",
       "      <td>0.027076</td>\n",
       "      <td>1.246135e-02</td>\n",
       "      <td>-3.627206e-02</td>\n",
       "      <td>0.026319</td>\n",
       "      <td>0.031896</td>\n",
       "      <td>-0.001751</td>\n",
       "      <td>9.382892e-02</td>\n",
       "      <td>-0.000281</td>\n",
       "    </tr>\n",
       "    <tr>\n",
       "      <th>...</th>\n",
       "      <td>...</td>\n",
       "      <td>...</td>\n",
       "      <td>...</td>\n",
       "      <td>...</td>\n",
       "      <td>...</td>\n",
       "      <td>...</td>\n",
       "      <td>...</td>\n",
       "      <td>...</td>\n",
       "      <td>...</td>\n",
       "      <td>...</td>\n",
       "      <td>...</td>\n",
       "      <td>...</td>\n",
       "      <td>...</td>\n",
       "      <td>...</td>\n",
       "      <td>...</td>\n",
       "      <td>...</td>\n",
       "      <td>...</td>\n",
       "      <td>...</td>\n",
       "      <td>...</td>\n",
       "      <td>...</td>\n",
       "      <td>...</td>\n",
       "    </tr>\n",
       "    <tr>\n",
       "      <th>606</th>\n",
       "      <td>0.012016</td>\n",
       "      <td>6.225827e-03</td>\n",
       "      <td>-3.728895e-02</td>\n",
       "      <td>0.020590</td>\n",
       "      <td>0.026319</td>\n",
       "      <td>-0.009137</td>\n",
       "      <td>2.832591e-02</td>\n",
       "      <td>0.022277</td>\n",
       "      <td>3.163273e-02</td>\n",
       "      <td>-3.994577e-02</td>\n",
       "      <td>...</td>\n",
       "      <td>0.053683</td>\n",
       "      <td>0.016384</td>\n",
       "      <td>0.098011</td>\n",
       "      <td>6.107833e-02</td>\n",
       "      <td>1.967830e-02</td>\n",
       "      <td>1.000000</td>\n",
       "      <td>0.017927</td>\n",
       "      <td>0.056676</td>\n",
       "      <td>3.842210e-02</td>\n",
       "      <td>0.075494</td>\n",
       "    </tr>\n",
       "    <tr>\n",
       "      <th>607</th>\n",
       "      <td>0.055261</td>\n",
       "      <td>-2.050374e-02</td>\n",
       "      <td>-7.789105e-03</td>\n",
       "      <td>0.014628</td>\n",
       "      <td>0.031896</td>\n",
       "      <td>0.045501</td>\n",
       "      <td>3.098070e-02</td>\n",
       "      <td>0.048822</td>\n",
       "      <td>-1.216061e-02</td>\n",
       "      <td>-1.765576e-02</td>\n",
       "      <td>...</td>\n",
       "      <td>0.049059</td>\n",
       "      <td>0.038197</td>\n",
       "      <td>0.049317</td>\n",
       "      <td>2.355180e-03</td>\n",
       "      <td>-2.938114e-02</td>\n",
       "      <td>0.017927</td>\n",
       "      <td>1.000000</td>\n",
       "      <td>0.044514</td>\n",
       "      <td>1.904919e-02</td>\n",
       "      <td>0.021879</td>\n",
       "    </tr>\n",
       "    <tr>\n",
       "      <th>608</th>\n",
       "      <td>0.075224</td>\n",
       "      <td>-6.000828e-03</td>\n",
       "      <td>-1.300064e-02</td>\n",
       "      <td>-0.037569</td>\n",
       "      <td>-0.001751</td>\n",
       "      <td>0.021727</td>\n",
       "      <td>2.841409e-02</td>\n",
       "      <td>0.071759</td>\n",
       "      <td>3.278284e-02</td>\n",
       "      <td>-5.199963e-02</td>\n",
       "      <td>...</td>\n",
       "      <td>0.069198</td>\n",
       "      <td>0.051388</td>\n",
       "      <td>0.012801</td>\n",
       "      <td>6.318649e-03</td>\n",
       "      <td>-7.977761e-03</td>\n",
       "      <td>0.056676</td>\n",
       "      <td>0.044514</td>\n",
       "      <td>1.000000</td>\n",
       "      <td>5.071449e-02</td>\n",
       "      <td>0.054581</td>\n",
       "    </tr>\n",
       "    <tr>\n",
       "      <th>609</th>\n",
       "      <td>-0.025713</td>\n",
       "      <td>-6.009100e-02</td>\n",
       "      <td>-6.382353e-16</td>\n",
       "      <td>-0.017884</td>\n",
       "      <td>0.093829</td>\n",
       "      <td>0.053017</td>\n",
       "      <td>8.754391e-03</td>\n",
       "      <td>0.077180</td>\n",
       "      <td>-1.742003e-16</td>\n",
       "      <td>-4.009050e-02</td>\n",
       "      <td>...</td>\n",
       "      <td>0.043465</td>\n",
       "      <td>0.062400</td>\n",
       "      <td>0.015334</td>\n",
       "      <td>9.403771e-02</td>\n",
       "      <td>-5.472183e-02</td>\n",
       "      <td>0.038422</td>\n",
       "      <td>0.019049</td>\n",
       "      <td>0.050714</td>\n",
       "      <td>1.000000e+00</td>\n",
       "      <td>-0.012466</td>\n",
       "    </tr>\n",
       "    <tr>\n",
       "      <th>610</th>\n",
       "      <td>0.010949</td>\n",
       "      <td>2.500040e-02</td>\n",
       "      <td>1.956210e-02</td>\n",
       "      <td>-0.000993</td>\n",
       "      <td>-0.000281</td>\n",
       "      <td>0.009612</td>\n",
       "      <td>6.846626e-02</td>\n",
       "      <td>0.017160</td>\n",
       "      <td>5.193988e-02</td>\n",
       "      <td>-2.601812e-02</td>\n",
       "      <td>...</td>\n",
       "      <td>0.021629</td>\n",
       "      <td>0.030099</td>\n",
       "      <td>0.051285</td>\n",
       "      <td>1.562914e-02</td>\n",
       "      <td>6.986812e-02</td>\n",
       "      <td>0.075494</td>\n",
       "      <td>0.021879</td>\n",
       "      <td>0.054581</td>\n",
       "      <td>-1.246604e-02</td>\n",
       "      <td>1.000000</td>\n",
       "    </tr>\n",
       "  </tbody>\n",
       "</table>\n",
       "<p>610 rows × 610 columns</p>\n",
       "</div>"
      ],
      "text/plain": [
       "userId       1             2             3         4         5         6    \\\n",
       "userId                                                                       \n",
       "1       1.000000  1.264516e-03  5.525772e-04  0.048419  0.021847 -0.045497   \n",
       "2       0.001265  1.000000e+00  8.832923e-17 -0.017164  0.021796 -0.021051   \n",
       "3       0.000553  8.832923e-17  1.000000e+00 -0.011260 -0.031539  0.004800   \n",
       "4       0.048419 -1.716402e-02 -1.125978e-02  1.000000 -0.029620  0.013956   \n",
       "5       0.021847  2.179571e-02 -3.153892e-02 -0.029620  1.000000  0.009111   \n",
       "...          ...           ...           ...       ...       ...       ...   \n",
       "606     0.012016  6.225827e-03 -3.728895e-02  0.020590  0.026319 -0.009137   \n",
       "607     0.055261 -2.050374e-02 -7.789105e-03  0.014628  0.031896  0.045501   \n",
       "608     0.075224 -6.000828e-03 -1.300064e-02 -0.037569 -0.001751  0.021727   \n",
       "609    -0.025713 -6.009100e-02 -6.382353e-16 -0.017884  0.093829  0.053017   \n",
       "610     0.010949  2.500040e-02  1.956210e-02 -0.000993 -0.000281  0.009612   \n",
       "\n",
       "userId           7         8             9             10   ...       601  \\\n",
       "userId                                                      ...             \n",
       "1      -6.199672e-03  0.047013  1.950985e-02 -8.754088e-03  ...  0.018127   \n",
       "2      -1.111357e-02 -0.048085  6.329331e-16  3.011629e-03  ... -0.050551   \n",
       "3      -2.351801e-16 -0.032471 -4.564439e-16  3.137663e-16  ... -0.004904   \n",
       "4       5.809139e-02  0.002065 -5.873603e-03  5.159032e-02  ... -0.037687   \n",
       "5       1.011715e-02 -0.012284  1.938099e-16 -3.316512e-02  ...  0.015964   \n",
       "...              ...       ...           ...           ...  ...       ...   \n",
       "606     2.832591e-02  0.022277  3.163273e-02 -3.994577e-02  ...  0.053683   \n",
       "607     3.098070e-02  0.048822 -1.216061e-02 -1.765576e-02  ...  0.049059   \n",
       "608     2.841409e-02  0.071759  3.278284e-02 -5.199963e-02  ...  0.069198   \n",
       "609     8.754391e-03  0.077180 -1.742003e-16 -4.009050e-02  ...  0.043465   \n",
       "610     6.846626e-02  0.017160  5.193988e-02 -2.601812e-02  ...  0.021629   \n",
       "\n",
       "userId       602       603           604           605       606       607  \\\n",
       "userId                                                                       \n",
       "1      -0.017172 -0.015221 -3.705875e-02 -2.912138e-02  0.012016  0.055261   \n",
       "2      -0.031581 -0.001688 -1.710814e-15 -1.198076e-15  0.006226 -0.020504   \n",
       "3      -0.016117  0.017749 -7.037567e-16 -1.430628e-03 -0.037289 -0.007789   \n",
       "4       0.063122  0.027640 -1.378212e-02  4.003747e-02  0.020590  0.014628   \n",
       "5       0.012427  0.027076  1.246135e-02 -3.627206e-02  0.026319  0.031896   \n",
       "...          ...       ...           ...           ...       ...       ...   \n",
       "606     0.016384  0.098011  6.107833e-02  1.967830e-02  1.000000  0.017927   \n",
       "607     0.038197  0.049317  2.355180e-03 -2.938114e-02  0.017927  1.000000   \n",
       "608     0.051388  0.012801  6.318649e-03 -7.977761e-03  0.056676  0.044514   \n",
       "609     0.062400  0.015334  9.403771e-02 -5.472183e-02  0.038422  0.019049   \n",
       "610     0.030099  0.051285  1.562914e-02  6.986812e-02  0.075494  0.021879   \n",
       "\n",
       "userId       608           609       610  \n",
       "userId                                    \n",
       "1       0.075224 -2.571255e-02  0.010949  \n",
       "2      -0.006001 -6.009100e-02  0.025000  \n",
       "3      -0.013001 -6.382353e-16  0.019562  \n",
       "4      -0.037569 -1.788358e-02 -0.000993  \n",
       "5      -0.001751  9.382892e-02 -0.000281  \n",
       "...          ...           ...       ...  \n",
       "606     0.056676  3.842210e-02  0.075494  \n",
       "607     0.044514  1.904919e-02  0.021879  \n",
       "608     1.000000  5.071449e-02  0.054581  \n",
       "609     0.050714  1.000000e+00 -0.012466  \n",
       "610     0.054581 -1.246604e-02  1.000000  \n",
       "\n",
       "[610 rows x 610 columns]"
      ]
     },
     "execution_count": 46,
     "metadata": {},
     "output_type": "execute_result"
    }
   ],
   "source": [
    "user_corr_matrix = user_matrix.T.corr()\n",
    "user_corr_matrix\n",
    "#plt.figure(figsize=(10, 10))\n",
    "#sns.heatmap(user_corr_matrix, annot=True, cmap='coolwarm')\n",
    "#plt.show()"
   ]
  },
  {
   "cell_type": "code",
   "execution_count": 47,
   "metadata": {},
   "outputs": [
    {
     "data": {
      "text/plain": [
       "userId\n",
       "4      1.000000\n",
       "75     0.116409\n",
       "137    0.091699\n",
       "590    0.087103\n",
       "391    0.081517\n",
       "Name: 4, dtype: float64"
      ]
     },
     "execution_count": 47,
     "metadata": {},
     "output_type": "execute_result"
    }
   ],
   "source": [
    "# Calculate correlations for the target user (e.g., User 4)\n",
    "target_user_id = 4\n",
    "user_corr_target = user_corr_matrix[target_user_id]\n",
    "\n",
    "# Sort the correlations in descending order\n",
    "user_corr_target_sorted = user_corr_target.sort_values(ascending=False)\n",
    "user_corr_target_sorted.head()"
   ]
  },
  {
   "cell_type": "markdown",
   "metadata": {},
   "source": [
    "#### Select Top Similar Users:\n",
    "\n",
    "Select the top  most similar users based on the sorted correlations. These are the users whose ratings will be used to make recommendations."
   ]
  },
  {
   "cell_type": "code",
   "execution_count": 48,
   "metadata": {},
   "outputs": [
    {
     "name": "stdout",
     "output_type": "stream",
     "text": [
      "Top 5 Similar Users for User 4 :\n",
      "[1, 2, 3, 5, 6]\n"
     ]
    }
   ],
   "source": [
    "def select_top_similar_users(user_corr_target_sorted, target_user_id, k=5):\n",
    "    # Get the correlation values for the target user\n",
    "    user_correlations = user_corr_target_sorted\n",
    "\n",
    "    # Sort the correlations in descending order\n",
    "    sorted_correlations = user_correlations.sort_index(ascending=False)\n",
    "\n",
    "    # Exclude the target user (if present) from the list of similar users\n",
    "    similar_users = user_correlations.drop(target_user_id)\n",
    "\n",
    "    # Select the top k most similar users\n",
    "    top_similar_users = similar_users.head(k)\n",
    "\n",
    "    # Return the indices or IDs of the top similar users\n",
    "    return top_similar_users.index.tolist()\n",
    "\n",
    "top_similar_users = select_top_similar_users(user_corr_matrix, target_user_id, k=5)\n",
    "print(\"Top 5 Similar Users for User\", target_user_id, \":\")\n",
    "print(top_similar_users)"
   ]
  },
  {
   "cell_type": "code",
   "execution_count": 49,
   "metadata": {},
   "outputs": [],
   "source": [
    "def predict_movie_ratings(user_matrix, user_corr_matrix, target_user_id, top_similar_users):\n",
    "    predicted_ratings = {}\n",
    "    for movie_id in user_matrix.columns:\n",
    "        weighted_sum = 0\n",
    "        sum_similarity = 0\n",
    "        for similar_user_id in top_similar_users:\n",
    "            if not pd.isnull(user_matrix.loc[similar_user_id, movie_id]):  # If the similar user has rated the movie\n",
    "                similarity = user_corr_matrix.loc[target_user_id, similar_user_id]\n",
    "                rating = user_matrix.loc[similar_user_id, movie_id]\n",
    "                weighted_sum += similarity * rating\n",
    "                sum_similarity += similarity\n",
    "        if sum_similarity != 0:\n",
    "            predicted_rating = weighted_sum / sum_similarity\n",
    "        else:\n",
    "            predicted_rating = 0\n",
    "        predicted_ratings[movie_id] = predicted_rating\n",
    "    return predicted_ratings\n"
   ]
  },
  {
   "cell_type": "markdown",
   "metadata": {},
   "source": [
    "#### Recommend Top Movies"
   ]
  },
  {
   "cell_type": "code",
   "execution_count": 50,
   "metadata": {},
   "outputs": [],
   "source": [
    "def recommend_top_movies(predicted_ratings, n=5):\n",
    "    top_movies = sorted(predicted_ratings.items(), key=lambda x: x[1], reverse=True)[:n]\n",
    "    return top_movies"
   ]
  },
  {
   "cell_type": "markdown",
   "metadata": {},
   "source": [
    "#### In useage with User 4\n",
    "\n",
    "Use the recommend_top_movies function to recommend movies for any user."
   ]
  },
  {
   "cell_type": "code",
   "execution_count": 51,
   "metadata": {},
   "outputs": [
    {
     "name": "stdout",
     "output_type": "stream",
     "text": [
      "Top 5 Movie Recommendations for User 4 :\n",
      "Legends of the Fall (1994): 29.66\n",
      "Shawshank Redemption, The (1994): 26.19\n",
      "True Lies (1994): 26.04\n",
      "Bambi (1942): 25.34\n",
      "Rescuers, The (1977): 25.34\n"
     ]
    }
   ],
   "source": [
    "predicted_ratings = predict_movie_ratings(user_matrix, user_corr_matrix, target_user_id, top_similar_users)\n",
    "top_movie_recommendations = recommend_top_movies(predicted_ratings, n=5)\n",
    "print(\"Top 5 Movie Recommendations for User\", target_user_id, \":\")\n",
    "for movie_id, predicted_rating in top_movie_recommendations:\n",
    "    print(f\"{movie_id}: {predicted_rating:.2f}\")"
   ]
  },
  {
   "cell_type": "markdown",
   "metadata": {},
   "source": [
    "### Item-Based Recommendation:\n",
    "\n",
    "Item-based recommendation, also known as item-item collaborative filtering, is a technique used in recommender systems to suggest items to users based on the similarity between items. "
   ]
  },
  {
   "cell_type": "code",
   "execution_count": 52,
   "metadata": {},
   "outputs": [
    {
     "name": "stdout",
     "output_type": "stream",
     "text": [
      "Mean Ratings for 'Pulp Fiction (1994)':\n",
      "title\n",
      "Pulp Fiction (1994)    4.197068\n",
      "dtype: float64\n",
      "Number of users who rated 'Pulp Fiction (1994)': 1288.5\n"
     ]
    }
   ],
   "source": [
    "if 'Pulp Fiction (1994)' in pivot_matrix.columns:\n",
    "    pulp_fiction_ratings = pivot_matrix[['Pulp Fiction (1994)']].mean()\n",
    "    num_users_rated = pivot_matrix['Pulp Fiction (1994)'].sum()\n",
    "    print(\"Mean Ratings for 'Pulp Fiction (1994)':\")\n",
    "    print(pulp_fiction_ratings)\n",
    "    print(f\"Number of users who rated 'Pulp Fiction (1994)': {num_users_rated}\")\n",
    "else:\n",
    "    print(\"The column 'Pulp Fiction (1994)' is not present in the DataFrame.\")"
   ]
  },
  {
   "cell_type": "code",
   "execution_count": 53,
   "metadata": {},
   "outputs": [
    {
     "data": {
      "text/html": [
       "<div>\n",
       "<style scoped>\n",
       "    .dataframe tbody tr th:only-of-type {\n",
       "        vertical-align: middle;\n",
       "    }\n",
       "\n",
       "    .dataframe tbody tr th {\n",
       "        vertical-align: top;\n",
       "    }\n",
       "\n",
       "    .dataframe thead th {\n",
       "        text-align: right;\n",
       "    }\n",
       "</style>\n",
       "<table border=\"1\" class=\"dataframe\">\n",
       "  <thead>\n",
       "    <tr style=\"text-align: right;\">\n",
       "      <th>title</th>\n",
       "      <th>'71 (2014)</th>\n",
       "      <th>'Hellboy': The Seeds of Creation (2004)</th>\n",
       "      <th>'Round Midnight (1986)</th>\n",
       "      <th>'Salem's Lot (2004)</th>\n",
       "      <th>'Til There Was You (1997)</th>\n",
       "      <th>'Tis the Season for Love (2015)</th>\n",
       "      <th>'burbs, The (1989)</th>\n",
       "      <th>'night Mother (1986)</th>\n",
       "      <th>(500) Days of Summer (2009)</th>\n",
       "      <th>*batteries not included (1987)</th>\n",
       "      <th>...</th>\n",
       "      <th>Zulu (2013)</th>\n",
       "      <th>[REC] (2007)</th>\n",
       "      <th>[REC]² (2009)</th>\n",
       "      <th>[REC]³ 3 Génesis (2012)</th>\n",
       "      <th>anohana: The Flower We Saw That Day - The Movie (2013)</th>\n",
       "      <th>eXistenZ (1999)</th>\n",
       "      <th>xXx (2002)</th>\n",
       "      <th>xXx: State of the Union (2005)</th>\n",
       "      <th>¡Three Amigos! (1986)</th>\n",
       "      <th>À nous la liberté (Freedom for Us) (1931)</th>\n",
       "    </tr>\n",
       "    <tr>\n",
       "      <th>userId</th>\n",
       "      <th></th>\n",
       "      <th></th>\n",
       "      <th></th>\n",
       "      <th></th>\n",
       "      <th></th>\n",
       "      <th></th>\n",
       "      <th></th>\n",
       "      <th></th>\n",
       "      <th></th>\n",
       "      <th></th>\n",
       "      <th></th>\n",
       "      <th></th>\n",
       "      <th></th>\n",
       "      <th></th>\n",
       "      <th></th>\n",
       "      <th></th>\n",
       "      <th></th>\n",
       "      <th></th>\n",
       "      <th></th>\n",
       "      <th></th>\n",
       "      <th></th>\n",
       "    </tr>\n",
       "  </thead>\n",
       "  <tbody>\n",
       "    <tr>\n",
       "      <th>1</th>\n",
       "      <td>NaN</td>\n",
       "      <td>NaN</td>\n",
       "      <td>NaN</td>\n",
       "      <td>NaN</td>\n",
       "      <td>NaN</td>\n",
       "      <td>NaN</td>\n",
       "      <td>NaN</td>\n",
       "      <td>NaN</td>\n",
       "      <td>NaN</td>\n",
       "      <td>NaN</td>\n",
       "      <td>...</td>\n",
       "      <td>NaN</td>\n",
       "      <td>NaN</td>\n",
       "      <td>NaN</td>\n",
       "      <td>NaN</td>\n",
       "      <td>NaN</td>\n",
       "      <td>NaN</td>\n",
       "      <td>NaN</td>\n",
       "      <td>NaN</td>\n",
       "      <td>4.0</td>\n",
       "      <td>NaN</td>\n",
       "    </tr>\n",
       "    <tr>\n",
       "      <th>2</th>\n",
       "      <td>NaN</td>\n",
       "      <td>NaN</td>\n",
       "      <td>NaN</td>\n",
       "      <td>NaN</td>\n",
       "      <td>NaN</td>\n",
       "      <td>NaN</td>\n",
       "      <td>NaN</td>\n",
       "      <td>NaN</td>\n",
       "      <td>NaN</td>\n",
       "      <td>NaN</td>\n",
       "      <td>...</td>\n",
       "      <td>NaN</td>\n",
       "      <td>NaN</td>\n",
       "      <td>NaN</td>\n",
       "      <td>NaN</td>\n",
       "      <td>NaN</td>\n",
       "      <td>NaN</td>\n",
       "      <td>NaN</td>\n",
       "      <td>NaN</td>\n",
       "      <td>NaN</td>\n",
       "      <td>NaN</td>\n",
       "    </tr>\n",
       "    <tr>\n",
       "      <th>3</th>\n",
       "      <td>NaN</td>\n",
       "      <td>NaN</td>\n",
       "      <td>NaN</td>\n",
       "      <td>NaN</td>\n",
       "      <td>NaN</td>\n",
       "      <td>NaN</td>\n",
       "      <td>NaN</td>\n",
       "      <td>NaN</td>\n",
       "      <td>NaN</td>\n",
       "      <td>NaN</td>\n",
       "      <td>...</td>\n",
       "      <td>NaN</td>\n",
       "      <td>NaN</td>\n",
       "      <td>NaN</td>\n",
       "      <td>NaN</td>\n",
       "      <td>NaN</td>\n",
       "      <td>NaN</td>\n",
       "      <td>NaN</td>\n",
       "      <td>NaN</td>\n",
       "      <td>NaN</td>\n",
       "      <td>NaN</td>\n",
       "    </tr>\n",
       "    <tr>\n",
       "      <th>4</th>\n",
       "      <td>NaN</td>\n",
       "      <td>NaN</td>\n",
       "      <td>NaN</td>\n",
       "      <td>NaN</td>\n",
       "      <td>NaN</td>\n",
       "      <td>NaN</td>\n",
       "      <td>NaN</td>\n",
       "      <td>NaN</td>\n",
       "      <td>NaN</td>\n",
       "      <td>NaN</td>\n",
       "      <td>...</td>\n",
       "      <td>NaN</td>\n",
       "      <td>NaN</td>\n",
       "      <td>NaN</td>\n",
       "      <td>NaN</td>\n",
       "      <td>NaN</td>\n",
       "      <td>NaN</td>\n",
       "      <td>NaN</td>\n",
       "      <td>NaN</td>\n",
       "      <td>NaN</td>\n",
       "      <td>NaN</td>\n",
       "    </tr>\n",
       "    <tr>\n",
       "      <th>5</th>\n",
       "      <td>NaN</td>\n",
       "      <td>NaN</td>\n",
       "      <td>NaN</td>\n",
       "      <td>NaN</td>\n",
       "      <td>NaN</td>\n",
       "      <td>NaN</td>\n",
       "      <td>NaN</td>\n",
       "      <td>NaN</td>\n",
       "      <td>NaN</td>\n",
       "      <td>NaN</td>\n",
       "      <td>...</td>\n",
       "      <td>NaN</td>\n",
       "      <td>NaN</td>\n",
       "      <td>NaN</td>\n",
       "      <td>NaN</td>\n",
       "      <td>NaN</td>\n",
       "      <td>NaN</td>\n",
       "      <td>NaN</td>\n",
       "      <td>NaN</td>\n",
       "      <td>NaN</td>\n",
       "      <td>NaN</td>\n",
       "    </tr>\n",
       "    <tr>\n",
       "      <th>6</th>\n",
       "      <td>NaN</td>\n",
       "      <td>NaN</td>\n",
       "      <td>NaN</td>\n",
       "      <td>NaN</td>\n",
       "      <td>NaN</td>\n",
       "      <td>NaN</td>\n",
       "      <td>NaN</td>\n",
       "      <td>NaN</td>\n",
       "      <td>NaN</td>\n",
       "      <td>NaN</td>\n",
       "      <td>...</td>\n",
       "      <td>NaN</td>\n",
       "      <td>NaN</td>\n",
       "      <td>NaN</td>\n",
       "      <td>NaN</td>\n",
       "      <td>NaN</td>\n",
       "      <td>NaN</td>\n",
       "      <td>NaN</td>\n",
       "      <td>NaN</td>\n",
       "      <td>NaN</td>\n",
       "      <td>NaN</td>\n",
       "    </tr>\n",
       "    <tr>\n",
       "      <th>7</th>\n",
       "      <td>NaN</td>\n",
       "      <td>NaN</td>\n",
       "      <td>NaN</td>\n",
       "      <td>NaN</td>\n",
       "      <td>NaN</td>\n",
       "      <td>NaN</td>\n",
       "      <td>NaN</td>\n",
       "      <td>NaN</td>\n",
       "      <td>NaN</td>\n",
       "      <td>NaN</td>\n",
       "      <td>...</td>\n",
       "      <td>NaN</td>\n",
       "      <td>NaN</td>\n",
       "      <td>NaN</td>\n",
       "      <td>NaN</td>\n",
       "      <td>NaN</td>\n",
       "      <td>NaN</td>\n",
       "      <td>NaN</td>\n",
       "      <td>NaN</td>\n",
       "      <td>NaN</td>\n",
       "      <td>NaN</td>\n",
       "    </tr>\n",
       "    <tr>\n",
       "      <th>8</th>\n",
       "      <td>NaN</td>\n",
       "      <td>NaN</td>\n",
       "      <td>NaN</td>\n",
       "      <td>NaN</td>\n",
       "      <td>NaN</td>\n",
       "      <td>NaN</td>\n",
       "      <td>NaN</td>\n",
       "      <td>NaN</td>\n",
       "      <td>NaN</td>\n",
       "      <td>NaN</td>\n",
       "      <td>...</td>\n",
       "      <td>NaN</td>\n",
       "      <td>NaN</td>\n",
       "      <td>NaN</td>\n",
       "      <td>NaN</td>\n",
       "      <td>NaN</td>\n",
       "      <td>NaN</td>\n",
       "      <td>NaN</td>\n",
       "      <td>NaN</td>\n",
       "      <td>NaN</td>\n",
       "      <td>NaN</td>\n",
       "    </tr>\n",
       "    <tr>\n",
       "      <th>9</th>\n",
       "      <td>NaN</td>\n",
       "      <td>NaN</td>\n",
       "      <td>NaN</td>\n",
       "      <td>NaN</td>\n",
       "      <td>NaN</td>\n",
       "      <td>NaN</td>\n",
       "      <td>NaN</td>\n",
       "      <td>NaN</td>\n",
       "      <td>NaN</td>\n",
       "      <td>NaN</td>\n",
       "      <td>...</td>\n",
       "      <td>NaN</td>\n",
       "      <td>NaN</td>\n",
       "      <td>NaN</td>\n",
       "      <td>NaN</td>\n",
       "      <td>NaN</td>\n",
       "      <td>NaN</td>\n",
       "      <td>1.0</td>\n",
       "      <td>NaN</td>\n",
       "      <td>NaN</td>\n",
       "      <td>NaN</td>\n",
       "    </tr>\n",
       "    <tr>\n",
       "      <th>10</th>\n",
       "      <td>NaN</td>\n",
       "      <td>NaN</td>\n",
       "      <td>NaN</td>\n",
       "      <td>NaN</td>\n",
       "      <td>NaN</td>\n",
       "      <td>NaN</td>\n",
       "      <td>NaN</td>\n",
       "      <td>NaN</td>\n",
       "      <td>NaN</td>\n",
       "      <td>NaN</td>\n",
       "      <td>...</td>\n",
       "      <td>NaN</td>\n",
       "      <td>NaN</td>\n",
       "      <td>NaN</td>\n",
       "      <td>NaN</td>\n",
       "      <td>NaN</td>\n",
       "      <td>NaN</td>\n",
       "      <td>NaN</td>\n",
       "      <td>NaN</td>\n",
       "      <td>NaN</td>\n",
       "      <td>NaN</td>\n",
       "    </tr>\n",
       "  </tbody>\n",
       "</table>\n",
       "<p>10 rows × 9695 columns</p>\n",
       "</div>"
      ],
      "text/plain": [
       "title   '71 (2014)  'Hellboy': The Seeds of Creation (2004)  \\\n",
       "userId                                                        \n",
       "1              NaN                                      NaN   \n",
       "2              NaN                                      NaN   \n",
       "3              NaN                                      NaN   \n",
       "4              NaN                                      NaN   \n",
       "5              NaN                                      NaN   \n",
       "6              NaN                                      NaN   \n",
       "7              NaN                                      NaN   \n",
       "8              NaN                                      NaN   \n",
       "9              NaN                                      NaN   \n",
       "10             NaN                                      NaN   \n",
       "\n",
       "title   'Round Midnight (1986)  'Salem's Lot (2004)  \\\n",
       "userId                                                \n",
       "1                          NaN                  NaN   \n",
       "2                          NaN                  NaN   \n",
       "3                          NaN                  NaN   \n",
       "4                          NaN                  NaN   \n",
       "5                          NaN                  NaN   \n",
       "6                          NaN                  NaN   \n",
       "7                          NaN                  NaN   \n",
       "8                          NaN                  NaN   \n",
       "9                          NaN                  NaN   \n",
       "10                         NaN                  NaN   \n",
       "\n",
       "title   'Til There Was You (1997)  'Tis the Season for Love (2015)  \\\n",
       "userId                                                               \n",
       "1                             NaN                              NaN   \n",
       "2                             NaN                              NaN   \n",
       "3                             NaN                              NaN   \n",
       "4                             NaN                              NaN   \n",
       "5                             NaN                              NaN   \n",
       "6                             NaN                              NaN   \n",
       "7                             NaN                              NaN   \n",
       "8                             NaN                              NaN   \n",
       "9                             NaN                              NaN   \n",
       "10                            NaN                              NaN   \n",
       "\n",
       "title   'burbs, The (1989)  'night Mother (1986)  (500) Days of Summer (2009)  \\\n",
       "userId                                                                          \n",
       "1                      NaN                   NaN                          NaN   \n",
       "2                      NaN                   NaN                          NaN   \n",
       "3                      NaN                   NaN                          NaN   \n",
       "4                      NaN                   NaN                          NaN   \n",
       "5                      NaN                   NaN                          NaN   \n",
       "6                      NaN                   NaN                          NaN   \n",
       "7                      NaN                   NaN                          NaN   \n",
       "8                      NaN                   NaN                          NaN   \n",
       "9                      NaN                   NaN                          NaN   \n",
       "10                     NaN                   NaN                          NaN   \n",
       "\n",
       "title   *batteries not included (1987)  ...  Zulu (2013)  [REC] (2007)  \\\n",
       "userId                                  ...                              \n",
       "1                                  NaN  ...          NaN           NaN   \n",
       "2                                  NaN  ...          NaN           NaN   \n",
       "3                                  NaN  ...          NaN           NaN   \n",
       "4                                  NaN  ...          NaN           NaN   \n",
       "5                                  NaN  ...          NaN           NaN   \n",
       "6                                  NaN  ...          NaN           NaN   \n",
       "7                                  NaN  ...          NaN           NaN   \n",
       "8                                  NaN  ...          NaN           NaN   \n",
       "9                                  NaN  ...          NaN           NaN   \n",
       "10                                 NaN  ...          NaN           NaN   \n",
       "\n",
       "title   [REC]² (2009)  [REC]³ 3 Génesis (2012)  \\\n",
       "userId                                           \n",
       "1                 NaN                      NaN   \n",
       "2                 NaN                      NaN   \n",
       "3                 NaN                      NaN   \n",
       "4                 NaN                      NaN   \n",
       "5                 NaN                      NaN   \n",
       "6                 NaN                      NaN   \n",
       "7                 NaN                      NaN   \n",
       "8                 NaN                      NaN   \n",
       "9                 NaN                      NaN   \n",
       "10                NaN                      NaN   \n",
       "\n",
       "title   anohana: The Flower We Saw That Day - The Movie (2013)  \\\n",
       "userId                                                           \n",
       "1                                                     NaN        \n",
       "2                                                     NaN        \n",
       "3                                                     NaN        \n",
       "4                                                     NaN        \n",
       "5                                                     NaN        \n",
       "6                                                     NaN        \n",
       "7                                                     NaN        \n",
       "8                                                     NaN        \n",
       "9                                                     NaN        \n",
       "10                                                    NaN        \n",
       "\n",
       "title   eXistenZ (1999)  xXx (2002)  xXx: State of the Union (2005)  \\\n",
       "userId                                                                \n",
       "1                   NaN         NaN                             NaN   \n",
       "2                   NaN         NaN                             NaN   \n",
       "3                   NaN         NaN                             NaN   \n",
       "4                   NaN         NaN                             NaN   \n",
       "5                   NaN         NaN                             NaN   \n",
       "6                   NaN         NaN                             NaN   \n",
       "7                   NaN         NaN                             NaN   \n",
       "8                   NaN         NaN                             NaN   \n",
       "9                   NaN         1.0                             NaN   \n",
       "10                  NaN         NaN                             NaN   \n",
       "\n",
       "title   ¡Three Amigos! (1986)  À nous la liberté (Freedom for Us) (1931)  \n",
       "userId                                                                    \n",
       "1                         4.0                                        NaN  \n",
       "2                         NaN                                        NaN  \n",
       "3                         NaN                                        NaN  \n",
       "4                         NaN                                        NaN  \n",
       "5                         NaN                                        NaN  \n",
       "6                         NaN                                        NaN  \n",
       "7                         NaN                                        NaN  \n",
       "8                         NaN                                        NaN  \n",
       "9                         NaN                                        NaN  \n",
       "10                        NaN                                        NaN  \n",
       "\n",
       "[10 rows x 9695 columns]"
      ]
     },
     "execution_count": 53,
     "metadata": {},
     "output_type": "execute_result"
    }
   ],
   "source": [
    "# Make a copy of the original utility matrix\n",
    "item_utility_matrix = pivot_matrix.copy()\n",
    "\n",
    "# Display the first 10 rows of the item utility matrix\n",
    "item_utility_matrix.head(10)"
   ]
  },
  {
   "cell_type": "code",
   "execution_count": 54,
   "metadata": {},
   "outputs": [
    {
     "data": {
      "text/html": [
       "<div>\n",
       "<style scoped>\n",
       "    .dataframe tbody tr th:only-of-type {\n",
       "        vertical-align: middle;\n",
       "    }\n",
       "\n",
       "    .dataframe tbody tr th {\n",
       "        vertical-align: top;\n",
       "    }\n",
       "\n",
       "    .dataframe thead th {\n",
       "        text-align: right;\n",
       "    }\n",
       "</style>\n",
       "<table border=\"1\" class=\"dataframe\">\n",
       "  <thead>\n",
       "    <tr style=\"text-align: right;\">\n",
       "      <th>title</th>\n",
       "      <th>'71 (2014)</th>\n",
       "      <th>'Hellboy': The Seeds of Creation (2004)</th>\n",
       "      <th>'Round Midnight (1986)</th>\n",
       "      <th>'Salem's Lot (2004)</th>\n",
       "      <th>'Til There Was You (1997)</th>\n",
       "      <th>'Tis the Season for Love (2015)</th>\n",
       "      <th>'burbs, The (1989)</th>\n",
       "      <th>'night Mother (1986)</th>\n",
       "      <th>(500) Days of Summer (2009)</th>\n",
       "      <th>*batteries not included (1987)</th>\n",
       "      <th>...</th>\n",
       "      <th>Zulu (2013)</th>\n",
       "      <th>[REC] (2007)</th>\n",
       "      <th>[REC]² (2009)</th>\n",
       "      <th>[REC]³ 3 Génesis (2012)</th>\n",
       "      <th>anohana: The Flower We Saw That Day - The Movie (2013)</th>\n",
       "      <th>eXistenZ (1999)</th>\n",
       "      <th>xXx (2002)</th>\n",
       "      <th>xXx: State of the Union (2005)</th>\n",
       "      <th>¡Three Amigos! (1986)</th>\n",
       "      <th>À nous la liberté (Freedom for Us) (1931)</th>\n",
       "    </tr>\n",
       "    <tr>\n",
       "      <th>userId</th>\n",
       "      <th></th>\n",
       "      <th></th>\n",
       "      <th></th>\n",
       "      <th></th>\n",
       "      <th></th>\n",
       "      <th></th>\n",
       "      <th></th>\n",
       "      <th></th>\n",
       "      <th></th>\n",
       "      <th></th>\n",
       "      <th></th>\n",
       "      <th></th>\n",
       "      <th></th>\n",
       "      <th></th>\n",
       "      <th></th>\n",
       "      <th></th>\n",
       "      <th></th>\n",
       "      <th></th>\n",
       "      <th></th>\n",
       "      <th></th>\n",
       "      <th></th>\n",
       "    </tr>\n",
       "  </thead>\n",
       "  <tbody>\n",
       "    <tr>\n",
       "      <th>1</th>\n",
       "      <td>4.0</td>\n",
       "      <td>4.0</td>\n",
       "      <td>3.5</td>\n",
       "      <td>5.0</td>\n",
       "      <td>4.0</td>\n",
       "      <td>1.5</td>\n",
       "      <td>3.176471</td>\n",
       "      <td>3.0</td>\n",
       "      <td>3.666667</td>\n",
       "      <td>3.285714</td>\n",
       "      <td>...</td>\n",
       "      <td>1.5</td>\n",
       "      <td>4.0625</td>\n",
       "      <td>3.666667</td>\n",
       "      <td>3.0</td>\n",
       "      <td>3.0</td>\n",
       "      <td>3.863636</td>\n",
       "      <td>2.770833</td>\n",
       "      <td>2.0</td>\n",
       "      <td>4.000000</td>\n",
       "      <td>1.0</td>\n",
       "    </tr>\n",
       "    <tr>\n",
       "      <th>2</th>\n",
       "      <td>4.0</td>\n",
       "      <td>4.0</td>\n",
       "      <td>3.5</td>\n",
       "      <td>5.0</td>\n",
       "      <td>4.0</td>\n",
       "      <td>1.5</td>\n",
       "      <td>3.176471</td>\n",
       "      <td>3.0</td>\n",
       "      <td>3.666667</td>\n",
       "      <td>3.285714</td>\n",
       "      <td>...</td>\n",
       "      <td>1.5</td>\n",
       "      <td>4.0625</td>\n",
       "      <td>3.666667</td>\n",
       "      <td>3.0</td>\n",
       "      <td>3.0</td>\n",
       "      <td>3.863636</td>\n",
       "      <td>2.770833</td>\n",
       "      <td>2.0</td>\n",
       "      <td>3.134615</td>\n",
       "      <td>1.0</td>\n",
       "    </tr>\n",
       "    <tr>\n",
       "      <th>3</th>\n",
       "      <td>4.0</td>\n",
       "      <td>4.0</td>\n",
       "      <td>3.5</td>\n",
       "      <td>5.0</td>\n",
       "      <td>4.0</td>\n",
       "      <td>1.5</td>\n",
       "      <td>3.176471</td>\n",
       "      <td>3.0</td>\n",
       "      <td>3.666667</td>\n",
       "      <td>3.285714</td>\n",
       "      <td>...</td>\n",
       "      <td>1.5</td>\n",
       "      <td>4.0625</td>\n",
       "      <td>3.666667</td>\n",
       "      <td>3.0</td>\n",
       "      <td>3.0</td>\n",
       "      <td>3.863636</td>\n",
       "      <td>2.770833</td>\n",
       "      <td>2.0</td>\n",
       "      <td>3.134615</td>\n",
       "      <td>1.0</td>\n",
       "    </tr>\n",
       "    <tr>\n",
       "      <th>4</th>\n",
       "      <td>4.0</td>\n",
       "      <td>4.0</td>\n",
       "      <td>3.5</td>\n",
       "      <td>5.0</td>\n",
       "      <td>4.0</td>\n",
       "      <td>1.5</td>\n",
       "      <td>3.176471</td>\n",
       "      <td>3.0</td>\n",
       "      <td>3.666667</td>\n",
       "      <td>3.285714</td>\n",
       "      <td>...</td>\n",
       "      <td>1.5</td>\n",
       "      <td>4.0625</td>\n",
       "      <td>3.666667</td>\n",
       "      <td>3.0</td>\n",
       "      <td>3.0</td>\n",
       "      <td>3.863636</td>\n",
       "      <td>2.770833</td>\n",
       "      <td>2.0</td>\n",
       "      <td>3.134615</td>\n",
       "      <td>1.0</td>\n",
       "    </tr>\n",
       "    <tr>\n",
       "      <th>5</th>\n",
       "      <td>4.0</td>\n",
       "      <td>4.0</td>\n",
       "      <td>3.5</td>\n",
       "      <td>5.0</td>\n",
       "      <td>4.0</td>\n",
       "      <td>1.5</td>\n",
       "      <td>3.176471</td>\n",
       "      <td>3.0</td>\n",
       "      <td>3.666667</td>\n",
       "      <td>3.285714</td>\n",
       "      <td>...</td>\n",
       "      <td>1.5</td>\n",
       "      <td>4.0625</td>\n",
       "      <td>3.666667</td>\n",
       "      <td>3.0</td>\n",
       "      <td>3.0</td>\n",
       "      <td>3.863636</td>\n",
       "      <td>2.770833</td>\n",
       "      <td>2.0</td>\n",
       "      <td>3.134615</td>\n",
       "      <td>1.0</td>\n",
       "    </tr>\n",
       "  </tbody>\n",
       "</table>\n",
       "<p>5 rows × 9695 columns</p>\n",
       "</div>"
      ],
      "text/plain": [
       "title   '71 (2014)  'Hellboy': The Seeds of Creation (2004)  \\\n",
       "userId                                                        \n",
       "1              4.0                                      4.0   \n",
       "2              4.0                                      4.0   \n",
       "3              4.0                                      4.0   \n",
       "4              4.0                                      4.0   \n",
       "5              4.0                                      4.0   \n",
       "\n",
       "title   'Round Midnight (1986)  'Salem's Lot (2004)  \\\n",
       "userId                                                \n",
       "1                          3.5                  5.0   \n",
       "2                          3.5                  5.0   \n",
       "3                          3.5                  5.0   \n",
       "4                          3.5                  5.0   \n",
       "5                          3.5                  5.0   \n",
       "\n",
       "title   'Til There Was You (1997)  'Tis the Season for Love (2015)  \\\n",
       "userId                                                               \n",
       "1                             4.0                              1.5   \n",
       "2                             4.0                              1.5   \n",
       "3                             4.0                              1.5   \n",
       "4                             4.0                              1.5   \n",
       "5                             4.0                              1.5   \n",
       "\n",
       "title   'burbs, The (1989)  'night Mother (1986)  (500) Days of Summer (2009)  \\\n",
       "userId                                                                          \n",
       "1                 3.176471                   3.0                     3.666667   \n",
       "2                 3.176471                   3.0                     3.666667   \n",
       "3                 3.176471                   3.0                     3.666667   \n",
       "4                 3.176471                   3.0                     3.666667   \n",
       "5                 3.176471                   3.0                     3.666667   \n",
       "\n",
       "title   *batteries not included (1987)  ...  Zulu (2013)  [REC] (2007)  \\\n",
       "userId                                  ...                              \n",
       "1                             3.285714  ...          1.5        4.0625   \n",
       "2                             3.285714  ...          1.5        4.0625   \n",
       "3                             3.285714  ...          1.5        4.0625   \n",
       "4                             3.285714  ...          1.5        4.0625   \n",
       "5                             3.285714  ...          1.5        4.0625   \n",
       "\n",
       "title   [REC]² (2009)  [REC]³ 3 Génesis (2012)  \\\n",
       "userId                                           \n",
       "1            3.666667                      3.0   \n",
       "2            3.666667                      3.0   \n",
       "3            3.666667                      3.0   \n",
       "4            3.666667                      3.0   \n",
       "5            3.666667                      3.0   \n",
       "\n",
       "title   anohana: The Flower We Saw That Day - The Movie (2013)  \\\n",
       "userId                                                           \n",
       "1                                                     3.0        \n",
       "2                                                     3.0        \n",
       "3                                                     3.0        \n",
       "4                                                     3.0        \n",
       "5                                                     3.0        \n",
       "\n",
       "title   eXistenZ (1999)  xXx (2002)  xXx: State of the Union (2005)  \\\n",
       "userId                                                                \n",
       "1              3.863636    2.770833                             2.0   \n",
       "2              3.863636    2.770833                             2.0   \n",
       "3              3.863636    2.770833                             2.0   \n",
       "4              3.863636    2.770833                             2.0   \n",
       "5              3.863636    2.770833                             2.0   \n",
       "\n",
       "title   ¡Three Amigos! (1986)  À nous la liberté (Freedom for Us) (1931)  \n",
       "userId                                                                    \n",
       "1                    4.000000                                        1.0  \n",
       "2                    3.134615                                        1.0  \n",
       "3                    3.134615                                        1.0  \n",
       "4                    3.134615                                        1.0  \n",
       "5                    3.134615                                        1.0  \n",
       "\n",
       "[5 rows x 9695 columns]"
      ]
     },
     "execution_count": 54,
     "metadata": {},
     "output_type": "execute_result"
    }
   ],
   "source": [
    "def fill_missing_with_column_means(dataframe):\n",
    "    \"\"\"\n",
    "    Fill missing (NaN) values in a DataFrame column-wise with the corresponding column's mean.\n",
    "        \n",
    "    Returns:\n",
    "        pd.DataFrame: The DataFrame with missing values filled using column means.\n",
    "    \"\"\"\n",
    "    # Fill missing values in each column with the column mean\n",
    "    filled_dataframe = dataframe.apply(lambda col: col.fillna(col.mean()), axis=0)\n",
    "    \n",
    "    return filled_dataframe\n",
    "\n",
    "# call the function\n",
    "item_matrix_filled = fill_missing_with_column_means(item_utility_matrix)\n",
    "item_matrix_filled.head(5)"
   ]
  },
  {
   "cell_type": "code",
   "execution_count": 55,
   "metadata": {},
   "outputs": [
    {
     "data": {
      "text/html": [
       "<div>\n",
       "<style scoped>\n",
       "    .dataframe tbody tr th:only-of-type {\n",
       "        vertical-align: middle;\n",
       "    }\n",
       "\n",
       "    .dataframe tbody tr th {\n",
       "        vertical-align: top;\n",
       "    }\n",
       "\n",
       "    .dataframe thead th {\n",
       "        text-align: right;\n",
       "    }\n",
       "</style>\n",
       "<table border=\"1\" class=\"dataframe\">\n",
       "  <thead>\n",
       "    <tr style=\"text-align: right;\">\n",
       "      <th>title</th>\n",
       "      <th>'71 (2014)</th>\n",
       "      <th>'Hellboy': The Seeds of Creation (2004)</th>\n",
       "      <th>'Round Midnight (1986)</th>\n",
       "      <th>'Salem's Lot (2004)</th>\n",
       "      <th>'Til There Was You (1997)</th>\n",
       "      <th>'Tis the Season for Love (2015)</th>\n",
       "      <th>'burbs, The (1989)</th>\n",
       "      <th>'night Mother (1986)</th>\n",
       "      <th>(500) Days of Summer (2009)</th>\n",
       "      <th>*batteries not included (1987)</th>\n",
       "      <th>...</th>\n",
       "      <th>Zulu (2013)</th>\n",
       "      <th>[REC] (2007)</th>\n",
       "      <th>[REC]² (2009)</th>\n",
       "      <th>[REC]³ 3 Génesis (2012)</th>\n",
       "      <th>anohana: The Flower We Saw That Day - The Movie (2013)</th>\n",
       "      <th>eXistenZ (1999)</th>\n",
       "      <th>xXx (2002)</th>\n",
       "      <th>xXx: State of the Union (2005)</th>\n",
       "      <th>¡Three Amigos! (1986)</th>\n",
       "      <th>À nous la liberté (Freedom for Us) (1931)</th>\n",
       "    </tr>\n",
       "    <tr>\n",
       "      <th>title</th>\n",
       "      <th></th>\n",
       "      <th></th>\n",
       "      <th></th>\n",
       "      <th></th>\n",
       "      <th></th>\n",
       "      <th></th>\n",
       "      <th></th>\n",
       "      <th></th>\n",
       "      <th></th>\n",
       "      <th></th>\n",
       "      <th></th>\n",
       "      <th></th>\n",
       "      <th></th>\n",
       "      <th></th>\n",
       "      <th></th>\n",
       "      <th></th>\n",
       "      <th></th>\n",
       "      <th></th>\n",
       "      <th></th>\n",
       "      <th></th>\n",
       "      <th></th>\n",
       "    </tr>\n",
       "  </thead>\n",
       "  <tbody>\n",
       "    <tr>\n",
       "      <th>'71 (2014)</th>\n",
       "      <td>NaN</td>\n",
       "      <td>NaN</td>\n",
       "      <td>NaN</td>\n",
       "      <td>NaN</td>\n",
       "      <td>NaN</td>\n",
       "      <td>NaN</td>\n",
       "      <td>NaN</td>\n",
       "      <td>NaN</td>\n",
       "      <td>NaN</td>\n",
       "      <td>NaN</td>\n",
       "      <td>...</td>\n",
       "      <td>NaN</td>\n",
       "      <td>NaN</td>\n",
       "      <td>NaN</td>\n",
       "      <td>NaN</td>\n",
       "      <td>NaN</td>\n",
       "      <td>NaN</td>\n",
       "      <td>NaN</td>\n",
       "      <td>NaN</td>\n",
       "      <td>NaN</td>\n",
       "      <td>NaN</td>\n",
       "    </tr>\n",
       "    <tr>\n",
       "      <th>'Hellboy': The Seeds of Creation (2004)</th>\n",
       "      <td>NaN</td>\n",
       "      <td>NaN</td>\n",
       "      <td>NaN</td>\n",
       "      <td>NaN</td>\n",
       "      <td>NaN</td>\n",
       "      <td>NaN</td>\n",
       "      <td>NaN</td>\n",
       "      <td>NaN</td>\n",
       "      <td>NaN</td>\n",
       "      <td>NaN</td>\n",
       "      <td>...</td>\n",
       "      <td>NaN</td>\n",
       "      <td>NaN</td>\n",
       "      <td>NaN</td>\n",
       "      <td>NaN</td>\n",
       "      <td>NaN</td>\n",
       "      <td>NaN</td>\n",
       "      <td>NaN</td>\n",
       "      <td>NaN</td>\n",
       "      <td>NaN</td>\n",
       "      <td>NaN</td>\n",
       "    </tr>\n",
       "    <tr>\n",
       "      <th>'Round Midnight (1986)</th>\n",
       "      <td>NaN</td>\n",
       "      <td>NaN</td>\n",
       "      <td>NaN</td>\n",
       "      <td>NaN</td>\n",
       "      <td>NaN</td>\n",
       "      <td>NaN</td>\n",
       "      <td>NaN</td>\n",
       "      <td>NaN</td>\n",
       "      <td>NaN</td>\n",
       "      <td>NaN</td>\n",
       "      <td>...</td>\n",
       "      <td>NaN</td>\n",
       "      <td>NaN</td>\n",
       "      <td>NaN</td>\n",
       "      <td>NaN</td>\n",
       "      <td>NaN</td>\n",
       "      <td>NaN</td>\n",
       "      <td>NaN</td>\n",
       "      <td>NaN</td>\n",
       "      <td>NaN</td>\n",
       "      <td>NaN</td>\n",
       "    </tr>\n",
       "    <tr>\n",
       "      <th>'Salem's Lot (2004)</th>\n",
       "      <td>NaN</td>\n",
       "      <td>NaN</td>\n",
       "      <td>NaN</td>\n",
       "      <td>NaN</td>\n",
       "      <td>NaN</td>\n",
       "      <td>NaN</td>\n",
       "      <td>NaN</td>\n",
       "      <td>NaN</td>\n",
       "      <td>NaN</td>\n",
       "      <td>NaN</td>\n",
       "      <td>...</td>\n",
       "      <td>NaN</td>\n",
       "      <td>NaN</td>\n",
       "      <td>NaN</td>\n",
       "      <td>NaN</td>\n",
       "      <td>NaN</td>\n",
       "      <td>NaN</td>\n",
       "      <td>NaN</td>\n",
       "      <td>NaN</td>\n",
       "      <td>NaN</td>\n",
       "      <td>NaN</td>\n",
       "    </tr>\n",
       "    <tr>\n",
       "      <th>'Til There Was You (1997)</th>\n",
       "      <td>NaN</td>\n",
       "      <td>NaN</td>\n",
       "      <td>NaN</td>\n",
       "      <td>NaN</td>\n",
       "      <td>1.0</td>\n",
       "      <td>NaN</td>\n",
       "      <td>-2.470228e-17</td>\n",
       "      <td>NaN</td>\n",
       "      <td>-6.783236e-16</td>\n",
       "      <td>-4.090781e-16</td>\n",
       "      <td>...</td>\n",
       "      <td>NaN</td>\n",
       "      <td>1.491400e-15</td>\n",
       "      <td>-2.970631e-18</td>\n",
       "      <td>NaN</td>\n",
       "      <td>NaN</td>\n",
       "      <td>-1.174172e-16</td>\n",
       "      <td>-4.643126e-16</td>\n",
       "      <td>-1.457468e-15</td>\n",
       "      <td>2.901144e-15</td>\n",
       "      <td>NaN</td>\n",
       "    </tr>\n",
       "  </tbody>\n",
       "</table>\n",
       "<p>5 rows × 9695 columns</p>\n",
       "</div>"
      ],
      "text/plain": [
       "title                                    '71 (2014)  \\\n",
       "title                                                 \n",
       "'71 (2014)                                      NaN   \n",
       "'Hellboy': The Seeds of Creation (2004)         NaN   \n",
       "'Round Midnight (1986)                          NaN   \n",
       "'Salem's Lot (2004)                             NaN   \n",
       "'Til There Was You (1997)                       NaN   \n",
       "\n",
       "title                                    'Hellboy': The Seeds of Creation (2004)  \\\n",
       "title                                                                              \n",
       "'71 (2014)                                                                   NaN   \n",
       "'Hellboy': The Seeds of Creation (2004)                                      NaN   \n",
       "'Round Midnight (1986)                                                       NaN   \n",
       "'Salem's Lot (2004)                                                          NaN   \n",
       "'Til There Was You (1997)                                                    NaN   \n",
       "\n",
       "title                                    'Round Midnight (1986)  \\\n",
       "title                                                             \n",
       "'71 (2014)                                                  NaN   \n",
       "'Hellboy': The Seeds of Creation (2004)                     NaN   \n",
       "'Round Midnight (1986)                                      NaN   \n",
       "'Salem's Lot (2004)                                         NaN   \n",
       "'Til There Was You (1997)                                   NaN   \n",
       "\n",
       "title                                    'Salem's Lot (2004)  \\\n",
       "title                                                          \n",
       "'71 (2014)                                               NaN   \n",
       "'Hellboy': The Seeds of Creation (2004)                  NaN   \n",
       "'Round Midnight (1986)                                   NaN   \n",
       "'Salem's Lot (2004)                                      NaN   \n",
       "'Til There Was You (1997)                                NaN   \n",
       "\n",
       "title                                    'Til There Was You (1997)  \\\n",
       "title                                                                \n",
       "'71 (2014)                                                     NaN   \n",
       "'Hellboy': The Seeds of Creation (2004)                        NaN   \n",
       "'Round Midnight (1986)                                         NaN   \n",
       "'Salem's Lot (2004)                                            NaN   \n",
       "'Til There Was You (1997)                                      1.0   \n",
       "\n",
       "title                                    'Tis the Season for Love (2015)  \\\n",
       "title                                                                      \n",
       "'71 (2014)                                                           NaN   \n",
       "'Hellboy': The Seeds of Creation (2004)                              NaN   \n",
       "'Round Midnight (1986)                                               NaN   \n",
       "'Salem's Lot (2004)                                                  NaN   \n",
       "'Til There Was You (1997)                                            NaN   \n",
       "\n",
       "title                                    'burbs, The (1989)  \\\n",
       "title                                                         \n",
       "'71 (2014)                                              NaN   \n",
       "'Hellboy': The Seeds of Creation (2004)                 NaN   \n",
       "'Round Midnight (1986)                                  NaN   \n",
       "'Salem's Lot (2004)                                     NaN   \n",
       "'Til There Was You (1997)                     -2.470228e-17   \n",
       "\n",
       "title                                    'night Mother (1986)  \\\n",
       "title                                                           \n",
       "'71 (2014)                                                NaN   \n",
       "'Hellboy': The Seeds of Creation (2004)                   NaN   \n",
       "'Round Midnight (1986)                                    NaN   \n",
       "'Salem's Lot (2004)                                       NaN   \n",
       "'Til There Was You (1997)                                 NaN   \n",
       "\n",
       "title                                    (500) Days of Summer (2009)  \\\n",
       "title                                                                  \n",
       "'71 (2014)                                                       NaN   \n",
       "'Hellboy': The Seeds of Creation (2004)                          NaN   \n",
       "'Round Midnight (1986)                                           NaN   \n",
       "'Salem's Lot (2004)                                              NaN   \n",
       "'Til There Was You (1997)                              -6.783236e-16   \n",
       "\n",
       "title                                    *batteries not included (1987)  ...  \\\n",
       "title                                                                    ...   \n",
       "'71 (2014)                                                          NaN  ...   \n",
       "'Hellboy': The Seeds of Creation (2004)                             NaN  ...   \n",
       "'Round Midnight (1986)                                              NaN  ...   \n",
       "'Salem's Lot (2004)                                                 NaN  ...   \n",
       "'Til There Was You (1997)                                 -4.090781e-16  ...   \n",
       "\n",
       "title                                    Zulu (2013)  [REC] (2007)  \\\n",
       "title                                                                \n",
       "'71 (2014)                                       NaN           NaN   \n",
       "'Hellboy': The Seeds of Creation (2004)          NaN           NaN   \n",
       "'Round Midnight (1986)                           NaN           NaN   \n",
       "'Salem's Lot (2004)                              NaN           NaN   \n",
       "'Til There Was You (1997)                        NaN  1.491400e-15   \n",
       "\n",
       "title                                    [REC]² (2009)  \\\n",
       "title                                                    \n",
       "'71 (2014)                                         NaN   \n",
       "'Hellboy': The Seeds of Creation (2004)            NaN   \n",
       "'Round Midnight (1986)                             NaN   \n",
       "'Salem's Lot (2004)                                NaN   \n",
       "'Til There Was You (1997)                -2.970631e-18   \n",
       "\n",
       "title                                    [REC]³ 3 Génesis (2012)  \\\n",
       "title                                                              \n",
       "'71 (2014)                                                   NaN   \n",
       "'Hellboy': The Seeds of Creation (2004)                      NaN   \n",
       "'Round Midnight (1986)                                       NaN   \n",
       "'Salem's Lot (2004)                                          NaN   \n",
       "'Til There Was You (1997)                                    NaN   \n",
       "\n",
       "title                                    anohana: The Flower We Saw That Day - The Movie (2013)  \\\n",
       "title                                                                                             \n",
       "'71 (2014)                                                                             NaN        \n",
       "'Hellboy': The Seeds of Creation (2004)                                                NaN        \n",
       "'Round Midnight (1986)                                                                 NaN        \n",
       "'Salem's Lot (2004)                                                                    NaN        \n",
       "'Til There Was You (1997)                                                              NaN        \n",
       "\n",
       "title                                    eXistenZ (1999)    xXx (2002)  \\\n",
       "title                                                                    \n",
       "'71 (2014)                                           NaN           NaN   \n",
       "'Hellboy': The Seeds of Creation (2004)              NaN           NaN   \n",
       "'Round Midnight (1986)                               NaN           NaN   \n",
       "'Salem's Lot (2004)                                  NaN           NaN   \n",
       "'Til There Was You (1997)                  -1.174172e-16 -4.643126e-16   \n",
       "\n",
       "title                                    xXx: State of the Union (2005)  \\\n",
       "title                                                                     \n",
       "'71 (2014)                                                          NaN   \n",
       "'Hellboy': The Seeds of Creation (2004)                             NaN   \n",
       "'Round Midnight (1986)                                              NaN   \n",
       "'Salem's Lot (2004)                                                 NaN   \n",
       "'Til There Was You (1997)                                 -1.457468e-15   \n",
       "\n",
       "title                                    ¡Three Amigos! (1986)  \\\n",
       "title                                                            \n",
       "'71 (2014)                                                 NaN   \n",
       "'Hellboy': The Seeds of Creation (2004)                    NaN   \n",
       "'Round Midnight (1986)                                     NaN   \n",
       "'Salem's Lot (2004)                                        NaN   \n",
       "'Til There Was You (1997)                         2.901144e-15   \n",
       "\n",
       "title                                    À nous la liberté (Freedom for Us) (1931)  \n",
       "title                                                                               \n",
       "'71 (2014)                                                                     NaN  \n",
       "'Hellboy': The Seeds of Creation (2004)                                        NaN  \n",
       "'Round Midnight (1986)                                                         NaN  \n",
       "'Salem's Lot (2004)                                                            NaN  \n",
       "'Til There Was You (1997)                                                      NaN  \n",
       "\n",
       "[5 rows x 9695 columns]"
      ]
     },
     "execution_count": 55,
     "metadata": {},
     "output_type": "execute_result"
    }
   ],
   "source": [
    "item_matrix_corr = item_matrix_filled.corr()\n",
    "item_matrix_corr.head()"
   ]
  },
  {
   "cell_type": "code",
   "execution_count": 56,
   "metadata": {},
   "outputs": [
    {
     "data": {
      "text/plain": [
       "title\n",
       "Pulp Fiction (1994)                            1.000000\n",
       "Fight Club (1999)                              0.279334\n",
       "Seven Samurai (Shichinin no samurai) (1954)    0.226609\n",
       "Usual Suspects, The (1995)                     0.205534\n",
       "Silence of the Lambs, The (1991)               0.197072\n",
       "Name: Pulp Fiction (1994), dtype: float64"
      ]
     },
     "execution_count": 56,
     "metadata": {},
     "output_type": "execute_result"
    }
   ],
   "source": [
    "## correlation values for 'Pulp Fiction (1994)' from the correlation matrix\n",
    "pulp_fiction_corr = item_matrix_corr['Pulp Fiction (1994)']\n",
    "\n",
    "# Sort the correlations in descending order\n",
    "pulp_fiction_corr= pulp_fiction_corr.sort_values(ascending=False)\n",
    "\n",
    "# Drop NAN values\n",
    "pulp_fiction_corr = pulp_fiction_corr.dropna()\n",
    "\n",
    "pulp_fiction_corr.head()"
   ]
  },
  {
   "cell_type": "code",
   "execution_count": 57,
   "metadata": {},
   "outputs": [
    {
     "data": {
      "text/html": [
       "<div>\n",
       "<style scoped>\n",
       "    .dataframe tbody tr th:only-of-type {\n",
       "        vertical-align: middle;\n",
       "    }\n",
       "\n",
       "    .dataframe tbody tr th {\n",
       "        vertical-align: top;\n",
       "    }\n",
       "\n",
       "    .dataframe thead th {\n",
       "        text-align: right;\n",
       "    }\n",
       "</style>\n",
       "<table border=\"1\" class=\"dataframe\">\n",
       "  <thead>\n",
       "    <tr style=\"text-align: right;\">\n",
       "      <th></th>\n",
       "      <th>correlation</th>\n",
       "    </tr>\n",
       "    <tr>\n",
       "      <th>title</th>\n",
       "      <th></th>\n",
       "    </tr>\n",
       "  </thead>\n",
       "  <tbody>\n",
       "    <tr>\n",
       "      <th>Fight Club (1999)</th>\n",
       "      <td>0.279334</td>\n",
       "    </tr>\n",
       "    <tr>\n",
       "      <th>Seven Samurai (Shichinin no samurai) (1954)</th>\n",
       "      <td>0.226609</td>\n",
       "    </tr>\n",
       "    <tr>\n",
       "      <th>Usual Suspects, The (1995)</th>\n",
       "      <td>0.205534</td>\n",
       "    </tr>\n",
       "    <tr>\n",
       "      <th>Silence of the Lambs, The (1991)</th>\n",
       "      <td>0.197072</td>\n",
       "    </tr>\n",
       "    <tr>\n",
       "      <th>East is East (1999)</th>\n",
       "      <td>0.193432</td>\n",
       "    </tr>\n",
       "  </tbody>\n",
       "</table>\n",
       "</div>"
      ],
      "text/plain": [
       "                                             correlation\n",
       "title                                                   \n",
       "Fight Club (1999)                               0.279334\n",
       "Seven Samurai (Shichinin no samurai) (1954)     0.226609\n",
       "Usual Suspects, The (1995)                      0.205534\n",
       "Silence of the Lambs, The (1991)                0.197072\n",
       "East is East (1999)                             0.193432"
      ]
     },
     "execution_count": 57,
     "metadata": {},
     "output_type": "execute_result"
    }
   ],
   "source": [
    "# We put the above data in a dataframe\n",
    "similar_to_pulp = pd.DataFrame(data = pulp_fiction_corr.values, columns=['correlation'],\n",
    "                              index = pulp_fiction_corr.index)\n",
    "\n",
    "# remove Pulp 'Fiction 1994'\n",
    "similar_to_pulp = similar_to_pulp[1:]\n",
    "similar_to_pulp.head()"
   ]
  },
  {
   "cell_type": "markdown",
   "metadata": {},
   "source": [
    "#### Prediction Using Item Based Collaborative Filtering"
   ]
  },
  {
   "cell_type": "code",
   "execution_count": 58,
   "metadata": {},
   "outputs": [
    {
     "name": "stdout",
     "output_type": "stream",
     "text": [
      "                          Correlation\n",
      "title                                \n",
      "Terminator, The (1984)       0.341512\n",
      "Patriot, The (2000)          0.310142\n",
      "Dirty Harry (1971)           0.301141\n",
      "Little Black Book (2004)     0.279448\n",
      "Flatliners (1990)            0.272172\n"
     ]
    }
   ],
   "source": [
    "def get_top_5_recommendations(user_ratings, item_matrix_corr):\n",
    "    # correlations between user's ratings and all other movies\n",
    "    user_corr = item_matrix_corr[user_ratings.index].sum(axis=1)\n",
    "    \n",
    "    # DataFrame to store correlation values and total ratings\n",
    "    user_similar_movies = pd.DataFrame(data=user_corr, columns=['Correlation'])\n",
    "    \n",
    "    # Filter out movies the user has already rated\n",
    "    user_similar_movies = user_similar_movies.drop(user_ratings.index, errors='ignore')\n",
    "    \n",
    "    # Sort by correlation in descending order\n",
    "    user_similar_movies = user_similar_movies.sort_values(by=['Correlation'], ascending=False)\n",
    "    \n",
    "    # Get the top 5 recommendations\n",
    "    top_recommendations = user_similar_movies.head(5)\n",
    "    \n",
    "    return top_recommendations\n",
    "\n",
    "# Example usage:\n",
    "user_ratings = pd.Series({'Pulp Fiction (1994)': 5.0}, {'Poltergeist (1982)': 4.0})\n",
    "top_5_recommendations = get_top_5_recommendations(user_ratings, item_matrix_corr)\n",
    "print(top_5_recommendations)"
   ]
  },
  {
   "cell_type": "markdown",
   "metadata": {},
   "source": [
    "### Model-Based Collaborative Filtering"
   ]
  },
  {
   "cell_type": "markdown",
   "metadata": {},
   "source": [
    "### KNN Basic"
   ]
  },
  {
   "cell_type": "code",
   "execution_count": 59,
   "metadata": {},
   "outputs": [],
   "source": [
    "#Creating a new df for the columns relevant in modeling\n",
    "df_model_kNN = merged_df[['userId', 'movieId', 'rating']]"
   ]
  },
  {
   "cell_type": "code",
   "execution_count": 60,
   "metadata": {},
   "outputs": [],
   "source": [
    "# Instantiating the reader \n",
    "reader = Reader(rating_scale=(0, 5))\n",
    "\n",
    "#Loading the data into a Surprise Dataset\n",
    "data_kNN = Dataset.load_from_df(df_model_kNN, reader) "
   ]
  },
  {
   "cell_type": "code",
   "execution_count": 61,
   "metadata": {},
   "outputs": [
    {
     "name": "stdout",
     "output_type": "stream",
     "text": [
      "Number of users in train set :  610 \n",
      "\n",
      "Number of items in train set :  8952 \n",
      "\n"
     ]
    }
   ],
   "source": [
    "#Splittting the data into a train and test set with train_test_split\n",
    "trainset, testset = train_test_split(data_kNN, test_size=0.2, random_state=42)\n",
    "\n",
    "#Printing out the number of users and items to determine which to use\n",
    "print('Number of users in train set : ', trainset.n_users, '\\n')\n",
    "print('Number of items in train set : ', trainset.n_items, '\\n')"
   ]
  },
  {
   "cell_type": "code",
   "execution_count": 62,
   "metadata": {},
   "outputs": [
    {
     "name": "stdout",
     "output_type": "stream",
     "text": [
      "Computing the msd similarity matrix...\n",
      "Done computing similarity matrix.\n",
      "RMSE: 0.7121\n",
      "Training RMSE: 0.7121319921935311\n",
      "MAE:  0.5324\n",
      "Training MAE: 0.5324126461742702\n",
      "RMSE: 0.9487\n",
      "Test RMSE: 0.9487267734253846\n",
      "MAE:  0.7257\n",
      "Test MAE: 0.7257463319534154\n"
     ]
    }
   ],
   "source": [
    "#Instantiating the Baseline Model\n",
    "knn_basic = KNNBasic(random_state=42)\n",
    "\n",
    "# Train the model on the trainset\n",
    "knn_basic.fit(trainset)\n",
    "\n",
    "# Make predictions on the testset\n",
    "knnbasic_test_preds = knn_basic.test(testset)\n",
    "\n",
    "#Evaluating on Training Set\n",
    "knnbasic_train_preds = knn_basic.test(trainset.build_testset())\n",
    "print(\"Training RMSE:\", accuracy.rmse(knnbasic_train_preds))\n",
    "print(\"Training MAE:\", accuracy.mae(knnbasic_train_preds))\n",
    "\n",
    "#Evaluating on Test Set\n",
    "print(\"Test RMSE:\", accuracy.rmse(knnbasic_test_preds))\n",
    "print(\"Test MAE:\", accuracy.mae(knnbasic_test_preds))\n"
   ]
  },
  {
   "cell_type": "markdown",
   "metadata": {},
   "source": [
    "Our baseline model gave us a train RMSE and MAE of 0.7121 and 0.5324 respectively and a test RMSE and MAE of 0.9487 and 0.7257.\n",
    "\n",
    "We proceeded to tune our baseline model and also test other models to get the one with the lowest RMSE and MAE."
   ]
  },
  {
   "cell_type": "code",
   "execution_count": 63,
   "metadata": {},
   "outputs": [
    {
     "name": "stdout",
     "output_type": "stream",
     "text": [
      "Computing the pearson similarity matrix...\n",
      "Done computing similarity matrix.\n",
      "RMSE: 0.6602\n",
      "Training RMSE: 0.6601625729468124\n",
      "MAE:  0.4941\n",
      "Training MAE: 0.49412974580189395\n",
      "RMSE: 0.9733\n",
      "Test RMSE: 0.9733443129115866\n",
      "MAE:  0.7499\n",
      "Test MAE: 0.7499124664270276\n"
     ]
    }
   ],
   "source": [
    "#Instantiating the Improved Model with Specified Parameters\n",
    "sim_options = {'name': 'pearson', 'user_based': True} \n",
    "\n",
    "knn_basic_params = KNNBasic(sim_options=sim_options, random_state=42)\n",
    "\n",
    "# Train the model on the trainset\n",
    "knn_basic_params.fit(trainset)\n",
    "\n",
    "# Make predictions on the testset\n",
    "knnbasic_params_test_preds = knn_basic_params.test(testset)\n",
    "\n",
    "#Evaluating on Training Set\n",
    "knnbasic_params_train_preds = knn_basic_params.test(trainset.build_testset())\n",
    "print(\"Training RMSE:\", accuracy.rmse(knnbasic_params_train_preds))\n",
    "print(\"Training MAE:\", accuracy.mae(knnbasic_params_train_preds))\n",
    "\n",
    "#Evaluating on Test Set\n",
    "print(\"Test RMSE:\", accuracy.rmse(knnbasic_params_test_preds))\n",
    "print(\"Test MAE:\", accuracy.mae(knnbasic_params_test_preds))"
   ]
  },
  {
   "cell_type": "markdown",
   "metadata": {},
   "source": [
    "We tuned our baseline model by specifying parameters. This model gave us a train RMSE and MAE of 0.6602 and 0.4941 respectively and a test RMSE and MAE of 0.9733 and 0.7499 respectively. While this model trained slightly better than our baseline model recording slight improvement in the RMSE and MAE, the testset results were worse than our previous baseline model. we proceeded to crossvalidate our model. "
   ]
  },
  {
   "cell_type": "code",
   "execution_count": 64,
   "metadata": {},
   "outputs": [
    {
     "name": "stdout",
     "output_type": "stream",
     "text": [
      "Computing the cosine similarity matrix...\n",
      "Done computing similarity matrix.\n",
      "Computing the cosine similarity matrix...\n",
      "Done computing similarity matrix.\n",
      "Computing the cosine similarity matrix...\n",
      "Done computing similarity matrix.\n",
      "Computing the cosine similarity matrix...\n",
      "Done computing similarity matrix.\n",
      "Computing the cosine similarity matrix...\n",
      "Done computing similarity matrix.\n",
      "Evaluating RMSE, MAE of algorithm KNNBasic on 5 split(s).\n",
      "\n",
      "                  Fold 1  Fold 2  Fold 3  Fold 4  Fold 5  Mean    Std     \n",
      "RMSE (testset)    0.9721  0.9678  0.9727  0.9712  0.9667  0.9701  0.0024  \n",
      "MAE (testset)     0.7477  0.7465  0.7486  0.7468  0.7460  0.7471  0.0009  \n",
      "Fit time          0.28    0.29    0.31    0.32    0.30    0.30    0.01    \n",
      "Test time         0.76    0.80    0.82    0.79    1.21    0.87    0.17    \n",
      "Cross-validation Results:\n",
      "test_rmse: 0.970078745138456\n",
      "test_mae: 0.7471146599612519\n"
     ]
    }
   ],
   "source": [
    "# Initialize the KNNBasic model\n",
    "sim_options = {'name': 'cosine', 'user_based': True}  \n",
    "cv_knn_basic = KNNBasic(sim_options=sim_options)\n",
    "\n",
    "# Perform cross-validation\n",
    "cv_results = cross_validate(cv_knn_basic, data_kNN, measures=['RMSE', 'MAE'], cv=5, verbose=True)\n",
    "\n",
    "# Print the cross-validation results\n",
    "print(\"Cross-validation Results:\")\n",
    "for measure in ['test_rmse', 'test_mae']:\n",
    "    print(f\"{measure}: {cv_results[measure].mean()}\")"
   ]
  },
  {
   "cell_type": "markdown",
   "metadata": {},
   "source": [
    "Crossvalidating our model gave us a test RMSE and MAE of 0.9700 and 0.7471 respectively which wasn't any better than our previous 2 models.\n",
    "We used GridSearch to get the best parameters for the KNN basic model"
   ]
  },
  {
   "cell_type": "code",
   "execution_count": 65,
   "metadata": {},
   "outputs": [],
   "source": [
    "#Defining the parameter grid\n",
    "#knn_params = {'name': ['cosine', 'pearson'],\n",
    "#              'user_based':[True, False], \n",
    "#              'min_support':[True, False],\n",
    "#            'min_k' : [1, 2]}\n",
    "\n",
    "#Applying Gridsearch to look for the best parameters\n",
    "#gsknnbasic = GridSearchCV(KNNBasic, knn_params, measures=['rmse', 'mae'], cv=3)\n",
    "#gsknnbasic.fit(data)"
   ]
  },
  {
   "cell_type": "code",
   "execution_count": 66,
   "metadata": {},
   "outputs": [],
   "source": [
    "#Getting the best parameters and score from GridSearch\n",
    "#print(gsknnbasic.best_score)\n",
    "#print(gsknnbasic.best_params)"
   ]
  },
  {
   "cell_type": "markdown",
   "metadata": {},
   "source": [
    "{'name': 'cosine', 'user_based': True, 'min_support':True, 'min_k':2, }"
   ]
  },
  {
   "cell_type": "markdown",
   "metadata": {},
   "source": [
    "### Tuned KNN Basic (Grid Search)"
   ]
  },
  {
   "cell_type": "code",
   "execution_count": 67,
   "metadata": {},
   "outputs": [
    {
     "name": "stdout",
     "output_type": "stream",
     "text": [
      "Computing the cosine similarity matrix...\n",
      "Done computing similarity matrix.\n",
      "RMSE: 0.8365\n",
      "Training RMSE: 0.8365126364717682\n",
      "MAE:  0.6320\n",
      "Training MAE: 0.6320377767689631\n",
      "RMSE: 0.9745\n",
      "Test RMSE: 0.9744600140480167\n",
      "MAE:  0.7497\n",
      "Test MAE: 0.7496670974109582\n"
     ]
    }
   ],
   "source": [
    "#Tuning the KNN Basic model using the GridSearch best parameters\n",
    "knn_basic_tuned = KNNBasic(sim_options={'name': 'cosine', \n",
    "                                       'user_based': True, \n",
    "                                       'min_support':True, \n",
    "                                       'min_k':2, })\n",
    "#Fitting the model and predicting\n",
    "knn_basic_tuned.fit(trainset)\n",
    "knnbasic_tuned_test_preds = knn_basic_tuned.test(testset)\n",
    "\n",
    "#Evaluating on Training Set\n",
    "knnbasic_tuned_train_preds = knn_basic_tuned.test(trainset.build_testset())\n",
    "print(\"Training RMSE:\", accuracy.rmse(knnbasic_tuned_train_preds))\n",
    "print(\"Training MAE:\", accuracy.mae(knnbasic_tuned_train_preds))\n",
    "\n",
    "#Evaluating on Test Set\n",
    "print(\"Test RMSE:\", accuracy.rmse(knnbasic_tuned_test_preds))\n",
    "print(\"Test MAE:\", accuracy.mae(knnbasic_tuned_test_preds))"
   ]
  },
  {
   "cell_type": "markdown",
   "metadata": {},
   "source": [
    "Using the best parameters generated by GridSearch, we got a a train RMSE and MAE of 0.8365 and 0.6320 respectively and a test RMSE and MAE of 0.9745 and 0.7497   respectively. This model did not perform any better than our previous models and was infact poorer in training."
   ]
  },
  {
   "cell_type": "markdown",
   "metadata": {},
   "source": [
    "### KNN Baseline"
   ]
  },
  {
   "cell_type": "markdown",
   "metadata": {},
   "source": [
    "We proceeded to fit a KNNBaseline model:"
   ]
  },
  {
   "cell_type": "code",
   "execution_count": 68,
   "metadata": {},
   "outputs": [
    {
     "name": "stdout",
     "output_type": "stream",
     "text": [
      "Estimating biases using als...\n",
      "Computing the cosine similarity matrix...\n",
      "Done computing similarity matrix.\n",
      "RMSE: 0.7510\n",
      "Training RMSE: 0.750967373127724\n",
      "MAE:  0.5619\n",
      "Training MAE: 0.5618852716261583\n",
      "RMSE: 0.8821\n",
      "Test RMSE: 0.8821144714454775\n",
      "MAE:  0.6739\n",
      "Test MAE: 0.6738662584448811\n"
     ]
    }
   ],
   "source": [
    "#Instantiating the Model with Specified Parameters\n",
    "sim_options = {'name': 'cosine', 'user_based': True}\n",
    "knn_baseline = KNNBaseline(sim_options=sim_options)\n",
    "\n",
    "# Train the model on the trainset\n",
    "knn_baseline.fit(trainset)\n",
    "\n",
    "# Make predictions on the testset\n",
    "knnbase_test_preds = knn_baseline.test(testset)\n",
    "\n",
    "#Evaluating on Training Set\n",
    "knnbase_train_preds = knn_baseline.test(trainset.build_testset())\n",
    "print(\"Training RMSE:\", accuracy.rmse(knnbase_train_preds))\n",
    "print(\"Training MAE:\", accuracy.mae(knnbase_train_preds))\n",
    "\n",
    "#Evaluating on Test Set\n",
    "print(\"Test RMSE:\", accuracy.rmse(knnbase_test_preds))\n",
    "print(\"Test MAE:\", accuracy.mae(knnbase_test_preds))\n"
   ]
  },
  {
   "cell_type": "markdown",
   "metadata": {},
   "source": [
    "The KNNBaseline model gave us a train RMSE and MAE of 0.7510 and 0.5619 respectively and a test RMSE and MAE of 0.8821 and 0.6739 respectively. This was an improvement from the previous models we had fitted."
   ]
  },
  {
   "cell_type": "code",
   "execution_count": 69,
   "metadata": {},
   "outputs": [
    {
     "name": "stdout",
     "output_type": "stream",
     "text": [
      "Estimating biases using als...\n",
      "Computing the cosine similarity matrix...\n",
      "Done computing similarity matrix.\n",
      "Estimating biases using als...\n",
      "Computing the cosine similarity matrix...\n",
      "Done computing similarity matrix.\n",
      "Estimating biases using als...\n",
      "Computing the cosine similarity matrix...\n",
      "Done computing similarity matrix.\n",
      "Estimating biases using als...\n",
      "Computing the cosine similarity matrix...\n",
      "Done computing similarity matrix.\n",
      "Estimating biases using als...\n",
      "Computing the cosine similarity matrix...\n",
      "Done computing similarity matrix.\n",
      "Evaluating RMSE, MAE of algorithm KNNBaseline on 5 split(s).\n",
      "\n",
      "                  Fold 1  Fold 2  Fold 3  Fold 4  Fold 5  Mean    Std     \n",
      "RMSE (testset)    0.8793  0.8813  0.8782  0.8746  0.8775  0.8782  0.0022  \n",
      "MAE (testset)     0.6724  0.6759  0.6724  0.6687  0.6708  0.6720  0.0023  \n",
      "Fit time          0.41    0.45    0.44    0.45    0.55    0.46    0.05    \n",
      "Test time         0.93    1.00    0.97    1.20    0.98    1.02    0.10    \n",
      "Cross-validation Results:\n",
      "test_rmse: 0.878181861710768\n",
      "test_mae: 0.6720082299205776\n"
     ]
    }
   ],
   "source": [
    "# Crossvalidating using the KNNBaseline model\n",
    "sim_options = {'name': 'cosine', 'user_based': True}  \n",
    "cv_knn_baseline = KNNBaseline(sim_options=sim_options)\n",
    "\n",
    "# Perform cross-validation\n",
    "cv_baseline_results = cross_validate(cv_knn_baseline, data_kNN, measures=['RMSE', 'MAE'], cv=5, verbose=True)\n",
    "\n",
    "# Print the cross-validation results\n",
    "print(\"Cross-validation Results:\")\n",
    "for measure in ['test_rmse', 'test_mae']:\n",
    "    print(f\"{measure}: {cv_baseline_results[measure].mean()}\")"
   ]
  },
  {
   "cell_type": "markdown",
   "metadata": {},
   "source": [
    "Crossvalidating the KNN baseline model gave us a test RMSE of  0.8782 and a test MAE of 0.6720. This was a very slight improvement from the KNNBaseline model.\n",
    "\n"
   ]
  },
  {
   "cell_type": "markdown",
   "metadata": {},
   "source": [
    "### Tuned KNN Baseline (Grid Search)"
   ]
  },
  {
   "cell_type": "markdown",
   "metadata": {},
   "source": [
    "We performed a GridSearch to find the best parameters to fit the model and fitted the same KNNBaseline model using these best parameters."
   ]
  },
  {
   "cell_type": "code",
   "execution_count": 70,
   "metadata": {},
   "outputs": [],
   "source": [
    "#Applying Gridsearch to look for the best parameters\n",
    "#gsknnbaseline = GridSearchCV(KNNBaseline, knn_params, measures=['rmse', 'mae'], cv=3)\n",
    "#gsknnbaseline.fit(data)"
   ]
  },
  {
   "cell_type": "code",
   "execution_count": 71,
   "metadata": {},
   "outputs": [],
   "source": [
    "#Getting the best parameters and score from GridSearch\n",
    "#print(gsknnbaseline.best_score)\n",
    "#print(gsknnbaseline.best_params)"
   ]
  },
  {
   "cell_type": "code",
   "execution_count": 72,
   "metadata": {},
   "outputs": [
    {
     "name": "stdout",
     "output_type": "stream",
     "text": [
      "Estimating biases using als...\n",
      "Computing the cosine similarity matrix...\n",
      "Done computing similarity matrix.\n",
      "RMSE: 0.7510\n",
      "Training RMSE: 0.750967373127724\n",
      "MAE:  0.5619\n",
      "Training MAE: 0.5618852716261583\n",
      "RMSE: 0.8821\n",
      "Test RMSE: 0.8821144714454775\n",
      "MAE:  0.6739\n",
      "Test MAE: 0.6738662584448811\n"
     ]
    }
   ],
   "source": [
    "#Tuning the KNN Baseline model using the GridSearch best parameters\n",
    "knn_baseline_tuned = KNNBaseline(sim_options={'name': 'cosine', \n",
    "                                       'user_based': True, \n",
    "                                       'min_support':True, \n",
    "                                       'min_k':2, })\n",
    "#Fitting the model and predicting\n",
    "knn_baseline_tuned.fit(trainset)\n",
    "knnbase_tuned_test_preds = knn_baseline_tuned.test(testset)\n",
    "\n",
    "#Evaluating on Training Set\n",
    "knnbase_tuned_train_preds = knn_baseline_tuned.test(trainset.build_testset())\n",
    "print(\"Training RMSE:\", accuracy.rmse(knnbase_tuned_train_preds))\n",
    "print(\"Training MAE:\", accuracy.mae(knnbase_tuned_train_preds))\n",
    "\n",
    "#Evaluating on Test Set\n",
    "print(\"Test RMSE:\", accuracy.rmse(knnbase_tuned_test_preds))\n",
    "print(\"Test MAE:\", accuracy.mae(knnbase_tuned_test_preds))"
   ]
  },
  {
   "cell_type": "markdown",
   "metadata": {},
   "source": [
    "The KNNBaseline model using the best parameters gave a train RMSE and MAE of 0.7510 and 0.5619 respectively and a test RMSE and MAE of 0.8821 and 0.6739 respectively. This meant that tuning the model using GridSearch's best parameters made no difference"
   ]
  },
  {
   "cell_type": "markdown",
   "metadata": {},
   "source": [
    "### Singular Value Decomposition (SVD Model)"
   ]
  },
  {
   "cell_type": "code",
   "execution_count": 73,
   "metadata": {},
   "outputs": [
    {
     "data": {
      "text/html": [
       "<div>\n",
       "<style scoped>\n",
       "    .dataframe tbody tr th:only-of-type {\n",
       "        vertical-align: middle;\n",
       "    }\n",
       "\n",
       "    .dataframe tbody tr th {\n",
       "        vertical-align: top;\n",
       "    }\n",
       "\n",
       "    .dataframe thead th {\n",
       "        text-align: right;\n",
       "    }\n",
       "</style>\n",
       "<table border=\"1\" class=\"dataframe\">\n",
       "  <thead>\n",
       "    <tr style=\"text-align: right;\">\n",
       "      <th></th>\n",
       "      <th>userId</th>\n",
       "      <th>movieId</th>\n",
       "      <th>rating</th>\n",
       "    </tr>\n",
       "  </thead>\n",
       "  <tbody>\n",
       "    <tr>\n",
       "      <th>0</th>\n",
       "      <td>1</td>\n",
       "      <td>1</td>\n",
       "      <td>4.0</td>\n",
       "    </tr>\n",
       "    <tr>\n",
       "      <th>1</th>\n",
       "      <td>5</td>\n",
       "      <td>1</td>\n",
       "      <td>4.0</td>\n",
       "    </tr>\n",
       "    <tr>\n",
       "      <th>2</th>\n",
       "      <td>7</td>\n",
       "      <td>1</td>\n",
       "      <td>4.5</td>\n",
       "    </tr>\n",
       "    <tr>\n",
       "      <th>3</th>\n",
       "      <td>15</td>\n",
       "      <td>1</td>\n",
       "      <td>2.5</td>\n",
       "    </tr>\n",
       "    <tr>\n",
       "      <th>4</th>\n",
       "      <td>17</td>\n",
       "      <td>1</td>\n",
       "      <td>4.5</td>\n",
       "    </tr>\n",
       "  </tbody>\n",
       "</table>\n",
       "</div>"
      ],
      "text/plain": [
       "   userId  movieId  rating\n",
       "0       1        1     4.0\n",
       "1       5        1     4.0\n",
       "2       7        1     4.5\n",
       "3      15        1     2.5\n",
       "4      17        1     4.5"
      ]
     },
     "execution_count": 73,
     "metadata": {},
     "output_type": "execute_result"
    }
   ],
   "source": [
    "## Create a new datafram svd_df\n",
    "svd_df = pd.DataFrame({\n",
    "    'userId': merged_df['userId'],        # Rows will be indexed by 'userId'\n",
    "    'movieId': merged_df['movieId'],      # Columns will be indexed by 'movieId'\n",
    "    'rating': merged_df['rating']\n",
    "})\n",
    "svd_df.head()"
   ]
  },
  {
   "cell_type": "code",
   "execution_count": 74,
   "metadata": {},
   "outputs": [
    {
     "name": "stdout",
     "output_type": "stream",
     "text": [
      "<surprise.dataset.DatasetAutoFolds object at 0x000001AD6A283ED0>\n"
     ]
    }
   ],
   "source": [
    "#Transform the dataset into something more compatible with #surprise'\n",
    "from surprise import Reader, Dataset\n",
    "\n",
    "reader = Reader(rating_scale=(0.0, 5.0))\n",
    "data = Dataset.load_from_df(svd_df, reader)\n",
    "print(data)"
   ]
  },
  {
   "cell_type": "code",
   "execution_count": 75,
   "metadata": {},
   "outputs": [
    {
     "name": "stdout",
     "output_type": "stream",
     "text": [
      "Number of users:  610 \n",
      "\n",
      "Number of items:  9700\n"
     ]
    }
   ],
   "source": [
    "dataset = data.build_full_trainset()\n",
    "print('Number of users: ', dataset.n_users, '\\n')\n",
    "print('Number of items: ', dataset.n_items)"
   ]
  },
  {
   "cell_type": "code",
   "execution_count": 76,
   "metadata": {},
   "outputs": [
    {
     "name": "stdout",
     "output_type": "stream",
     "text": [
      "Evaluating RMSE, MAE of algorithm SVD on 5 split(s).\n",
      "\n",
      "                  Fold 1  Fold 2  Fold 3  Fold 4  Fold 5  Mean    Std     \n",
      "RMSE (testset)    0.8809  0.8709  0.8728  0.8795  0.8680  0.8744  0.0050  \n",
      "MAE (testset)     0.6770  0.6709  0.6708  0.6736  0.6675  0.6720  0.0032  \n",
      "Fit time          1.01    0.96    0.97    0.97    0.98    0.98    0.02    \n",
      "Test time         0.11    0.08    0.08    0.09    0.09    0.09    0.01    \n",
      "test_rmse: 0.8743970465749238\n",
      "test_mae: 0.6719597903381327\n"
     ]
    }
   ],
   "source": [
    "# Set random state for reproducibility\n",
    "random.seed(42)\n",
    "\n",
    "# Initialize the SVD algorithm \n",
    "svd = SVD(random_state=42)\n",
    "\n",
    "# Perform cross-validation with 5 folds (you can adjust the 'cv' parameter)\n",
    "results = cross_validate(svd, data, measures=['RMSE', 'MAE'], cv=5, verbose=True)\n",
    "\n",
    "# Print the cross-validation results\n",
    "for metric in ['test_rmse', 'test_mae']:\n",
    "    print(f'{metric}: {results[metric].mean()}')"
   ]
  },
  {
   "cell_type": "markdown",
   "metadata": {},
   "source": [
    "Crossvalidating the SVD model gave us a test RMSE of 0.8734 and a test MAE of 0.6705. "
   ]
  },
  {
   "cell_type": "code",
   "execution_count": 77,
   "metadata": {},
   "outputs": [],
   "source": [
    "# Define the parameter grid for SVD\n",
    "#params = {'n_factors': [130, 150, 170],   # Number of factors\n",
    "#          'n_epochs': [50, 70, 90],       # Number of iterarations\n",
    "#          'lr_all': [0.01, 0.02, 0.03],\n",
    "#          'reg_all': [0.02, 0.05, 0.1]}  # Regularization term\n",
    "#g_s_svd = GridSearchCV(SVD,param_grid=params,cv=5,n_jobs=-1)\n",
    "#g_s_svd.fit(data)"
   ]
  },
  {
   "cell_type": "code",
   "execution_count": 78,
   "metadata": {},
   "outputs": [],
   "source": [
    "# print out optimal parameters for SVD after GridSearch\n",
    "#print(g_s_svd.best_score)\n",
    "#print(g_s_svd.best_params)"
   ]
  },
  {
   "cell_type": "markdown",
   "metadata": {},
   "source": [
    "{'rmse': 0.8473060943362647, 'mae': 0.6490619889678235}\n",
    "\n",
    "{'rmse': {'n_factors': 150, 'n_epochs': 90, 'lr_all': 0.01, 'reg_all': 0.1}, 'mae': {'n_factors': 150, 'n_epochs': 90, 'lr_all': 0.01, 'reg_all': 0.1}}"
   ]
  },
  {
   "cell_type": "markdown",
   "metadata": {},
   "source": [
    "#### Handling Sparsity"
   ]
  },
  {
   "cell_type": "markdown",
   "metadata": {},
   "source": [
    "One of the observations during data exploration was that our matrix was very sparse. Even though the singular vector decomposition model handled the sparsity, the errors were not reducing significantly. We decided to handle the sparsity to see if it would improve our models any further. "
   ]
  },
  {
   "cell_type": "markdown",
   "metadata": {},
   "source": [
    "Our first approach was to reduce sparsity by dropping the data points with a lot of null values. To this effect, we filtered out all the movies where there were less than 200 ratings and all the users that had rated less than 20 movies. "
   ]
  },
  {
   "cell_type": "code",
   "execution_count": 79,
   "metadata": {},
   "outputs": [],
   "source": [
    "df_sparse = svd_df.copy()"
   ]
  },
  {
   "cell_type": "code",
   "execution_count": 80,
   "metadata": {},
   "outputs": [
    {
     "data": {
      "text/plain": [
       "0.9829634950143654"
      ]
     },
     "execution_count": 80,
     "metadata": {},
     "output_type": "execute_result"
    }
   ],
   "source": [
    "#Checking the Sparsity\n",
    "numratings = len(df_sparse['rating'])\n",
    "numusers = len(df_sparse['userId'].unique())\n",
    "numitems = len(df_sparse['movieId'].unique())\n",
    "\n",
    "sparse = 1 - (numratings / (numusers*numitems))\n",
    "sparse"
   ]
  },
  {
   "cell_type": "code",
   "execution_count": 81,
   "metadata": {},
   "outputs": [],
   "source": [
    "#Reducing the sparsity\n",
    "\n",
    "df_sparse = df_sparse.groupby('userId').filter(lambda x: len(x)>200)"
   ]
  },
  {
   "cell_type": "code",
   "execution_count": 82,
   "metadata": {},
   "outputs": [],
   "source": [
    "df_sparse = df_sparse.groupby('movieId').filter(lambda x: len(x)>10)"
   ]
  },
  {
   "cell_type": "code",
   "execution_count": 83,
   "metadata": {},
   "outputs": [
    {
     "data": {
      "text/plain": [
       "(100805, 3)"
      ]
     },
     "execution_count": 83,
     "metadata": {},
     "output_type": "execute_result"
    }
   ],
   "source": [
    "svd_df.shape"
   ]
  },
  {
   "cell_type": "code",
   "execution_count": 84,
   "metadata": {},
   "outputs": [
    {
     "data": {
      "text/plain": [
       "(47232, 3)"
      ]
     },
     "execution_count": 84,
     "metadata": {},
     "output_type": "execute_result"
    }
   ],
   "source": [
    "df_sparse.shape"
   ]
  },
  {
   "cell_type": "code",
   "execution_count": 85,
   "metadata": {},
   "outputs": [
    {
     "data": {
      "text/plain": [
       "0.7931695867508024"
      ]
     },
     "execution_count": 85,
     "metadata": {},
     "output_type": "execute_result"
    }
   ],
   "source": [
    "numratings = len(df_sparse['rating'])\n",
    "numusers = len(df_sparse['userId'].unique())\n",
    "numitems = len(df_sparse['movieId'].unique())\n",
    "\n",
    "sparse = 1 - (numratings / (numusers*numitems))\n",
    "sparse"
   ]
  },
  {
   "cell_type": "code",
   "execution_count": 86,
   "metadata": {},
   "outputs": [
    {
     "name": "stdout",
     "output_type": "stream",
     "text": [
      "RMSE: 0.4998\n",
      "Training RMSE: 0.4997759262835608\n",
      "MAE:  0.3886\n",
      "Training MAE: 0.3886217869855882\n",
      "RMSE: 0.7912\n",
      "Test RMSE: 0.7912387261373932\n",
      "MAE:  0.6046\n",
      "Test MAE: 0.6046459541399023\n"
     ]
    }
   ],
   "source": [
    "# Load the data into Surprise using Bayesian average ratings\n",
    "reader = Reader(rating_scale=(0, 5))\n",
    "sparse_data = Dataset.load_from_df(df_sparse[['userId', 'movieId', 'rating']], reader)\n",
    "\n",
    "# Split the data into train and test sets\n",
    "sparse_trainset, sparse_testset = train_test_split(sparse_data, test_size=0.2, random_state=42)\n",
    "\n",
    "# Train the model using SVD\n",
    "sparse_model = SVD(n_factors = 150, n_epochs = 90, lr_all = 0.01, reg_all = 0.1)\n",
    "\n",
    "sparse_model.fit(sparse_trainset)\n",
    "\n",
    "# Test the model\n",
    "sparse_predictions = sparse_model.test(sparse_testset)\n",
    "\n",
    "#Evaluating on Training Set\n",
    "sparse_train_preds = sparse_model.test(sparse_trainset.build_testset())\n",
    "print(\"Training RMSE:\", accuracy.rmse(sparse_train_preds))\n",
    "print(\"Training MAE:\", accuracy.mae(sparse_train_preds))\n",
    "\n",
    "#Evaluating on Test Set\n",
    "print(\"Test RMSE:\", accuracy.rmse(sparse_predictions))\n",
    "print(\"Test MAE:\", accuracy.mae(sparse_predictions))\n"
   ]
  },
  {
   "cell_type": "markdown",
   "metadata": {},
   "source": [
    "Filtering the data reduced sparsity from 0.98 to 0.79. The train RMSE and MAE were 0.4998 and 0.3887 respectively and the test RMSE and MAE were 0.7912 and 0.6046 respectively. **This model trained better than our previous SVD model but it led to loss of more than 50% of the data** "
   ]
  },
  {
   "cell_type": "markdown",
   "metadata": {},
   "source": [
    "### Bayesian SVD Model"
   ]
  },
  {
   "cell_type": "code",
   "execution_count": 87,
   "metadata": {},
   "outputs": [],
   "source": [
    "#Creating a copy of dataframe to use \n",
    "df_bayes = svd_df.copy()"
   ]
  },
  {
   "cell_type": "code",
   "execution_count": 88,
   "metadata": {},
   "outputs": [
    {
     "data": {
      "text/plain": [
       "(100805, 3)"
      ]
     },
     "execution_count": 88,
     "metadata": {},
     "output_type": "execute_result"
    }
   ],
   "source": [
    "df_bayes.shape"
   ]
  },
  {
   "cell_type": "code",
   "execution_count": 89,
   "metadata": {},
   "outputs": [
    {
     "name": "stdout",
     "output_type": "stream",
     "text": [
      "RMSE: 0.1537\n",
      "Training RMSE: 0.15370903684367265\n",
      "MAE:  0.1045\n",
      "Training MAE: 0.10448020516256228\n",
      "RMSE: 0.1882\n",
      "Test RMSE: 0.18824378648222703\n",
      "MAE:  0.1277\n",
      "Test MAE: 0.127673684109327\n"
     ]
    }
   ],
   "source": [
    "# Calculate Bayesian average ratings\n",
    "def bayesian_average(ratings):\n",
    "    return (ratings.mean() * ratings.count() + 2.5 * 5) / (ratings.count() + 5)\n",
    "\n",
    "# Apply Bayesian average ratings to the DataFrame\n",
    "df_bayes['bayesian_avg'] = df_bayes.groupby('movieId')['rating'].transform(bayesian_average)\n",
    "\n",
    "# Load the data into Surprise using Bayesian average ratings\n",
    "reader = Reader(rating_scale=(0, 5))\n",
    "bayes_data = Dataset.load_from_df(df_bayes[['userId', 'movieId', 'bayesian_avg']], reader)\n",
    "\n",
    "# Split the data into train and test sets\n",
    "bayes_trainset, bayes_testset = train_test_split(bayes_data, test_size=0.2, random_state=42)\n",
    "\n",
    "# Train the model using SVD\n",
    "model = SVD()\n",
    "model.fit(bayes_trainset)\n",
    "\n",
    "# Test the model\n",
    "bayes_predictions = model.test(bayes_testset)\n",
    "\n",
    "#Evaluating on Training Set\n",
    "bayes_train_preds = model.test(bayes_trainset.build_testset())\n",
    "print(\"Training RMSE:\", accuracy.rmse(bayes_train_preds))\n",
    "print(\"Training MAE:\", accuracy.mae(bayes_train_preds))\n",
    "\n",
    "#Evaluating on Test Set\n",
    "print(\"Test RMSE:\", accuracy.rmse(bayes_predictions))\n",
    "print(\"Test MAE:\", accuracy.mae(bayes_predictions))"
   ]
  },
  {
   "cell_type": "markdown",
   "metadata": {},
   "source": [
    "Fitting an SVD model with the Bayesian average ratings improved the model significantly reducing the training RMSE and MAE to 0.1537 and 0.1045 respectively and the test RMSE and MAE to 0.1882 and 0.1277 respectively.\n",
    "\n",
    "We then fitted a tuned SVD model using the Bayesian average ratings."
   ]
  },
  {
   "cell_type": "code",
   "execution_count": 90,
   "metadata": {},
   "outputs": [
    {
     "name": "stdout",
     "output_type": "stream",
     "text": [
      "RMSE: 0.0831\n",
      "Training RMSE: 0.08308301313129783\n",
      "MAE:  0.0581\n",
      "Training MAE: 0.05806728212457226\n",
      "RMSE: 0.1452\n",
      "Test RMSE: 0.14523305122172525\n",
      "MAE:  0.0774\n",
      "Test MAE: 0.07741795988109157\n"
     ]
    }
   ],
   "source": [
    "#Tuning the svd model with bayesian averages to \n",
    "tuned_bayes_model = SVD(n_factors=150, reg_all=0.1, n_epochs=90, lr_all=0.01)\n",
    "tuned_bayes_model.fit(bayes_trainset)\n",
    "\n",
    "# Testing the model\n",
    "tuned_bayes_preds = tuned_bayes_model.test(bayes_testset)\n",
    "\n",
    "#Evaluating on Training Set\n",
    "tuned_bayes_train_preds = tuned_bayes_model.test(bayes_trainset.build_testset())\n",
    "print(\"Training RMSE:\", accuracy.rmse(tuned_bayes_train_preds))\n",
    "print(\"Training MAE:\", accuracy.mae(tuned_bayes_train_preds))\n",
    "\n",
    "#Evaluating on Test Set\n",
    "print(\"Test RMSE:\", accuracy.rmse(tuned_bayes_preds))\n",
    "print(\"Test MAE:\", accuracy.mae(tuned_bayes_preds))\n"
   ]
  },
  {
   "cell_type": "markdown",
   "metadata": {},
   "source": [
    "The tuned SVD model with Bayesian Average ratings had the best outcome with the following values after evaluation:\n",
    "\n",
    "- Training RMSE:0.0831\n",
    "- Test RMSE: 0.1452\n",
    "- Training MAE:0.0581\n",
    "- Test MAE:0.0774\n",
    "\n",
    "The model did not also show signs of overfitting as the training and test set errors were very close."
   ]
  },
  {
   "cell_type": "markdown",
   "metadata": {},
   "source": [
    "### Predicition with SVD"
   ]
  },
  {
   "cell_type": "code",
   "execution_count": 91,
   "metadata": {},
   "outputs": [
    {
     "name": "stdout",
     "output_type": "stream",
     "text": [
      "Movie: Shawshank Redemption, The (1994), Predicted Rating: 4.29\n",
      "Movie: Godfather, The (1972), Predicted Rating: 4.16\n",
      "Movie: Godfather: Part II, The (1974), Predicted Rating: 4.11\n",
      "Movie: Usual Suspects, The (1995), Predicted Rating: 4.11\n",
      "Movie: Dr. Strangelove or: How I Learned to Stop Worrying and Love the Bomb (1964), Predicted Rating: 4.10\n"
     ]
    }
   ],
   "source": [
    "# User ID for which you want to make recommendations\n",
    "user_Id = 4\n",
    "\n",
    "# Get a list of all movie IDs in your dataset\n",
    "all_movie_ids = np.unique(svd_df['movieId'])\n",
    "\n",
    "# Create a list to store predicted ratings for unrated movies\n",
    "ratings = []\n",
    "\n",
    "# Predict ratings for the user on unrated movies\n",
    "for movie_id in all_movie_ids:\n",
    "    # Check if the user has already rated the movie\n",
    "    if not svd_df[(svd_df['userId'] == user_Id) & (svd_df['movieId'] == movie_id)].empty:\n",
    "        continue  # Skip if the user has rated the movie\n",
    "\n",
    "    predicted_rating = tuned_bayes_model.predict(user_Id, movie_id)\n",
    "    ratings.append((movie_id, predicted_rating.est))\n",
    "\n",
    "# Sort the predicted ratings in descending order\n",
    "ratings.sort(key=lambda x: x[1], reverse=True)\n",
    "\n",
    "# Top 5 movie recommendations\n",
    "top_5_recommendations = ratings[:5]\n",
    "\n",
    "# Display the top 5 recommended movies\n",
    "for movie_id, predicted_rating in top_5_recommendations:\n",
    "    movie_title = movies_df[movies_df['movieId'] == movie_id]['title'].values[0]\n",
    "    print(f\"Movie: {movie_title}, Predicted Rating: {predicted_rating:.2f}\")\n"
   ]
  },
  {
   "cell_type": "markdown",
   "metadata": {},
   "source": [
    "**The top 5 movie recommendations for User 4 are as follows:**\n",
    "1. Movie: Shawshank Redemption, The (1994), Predicted Rating: 4.29\n",
    "2. Movie: Godfather, The (1972), Predicted Rating: 4.16\n",
    "3. Movie: Godfather: Part II, The (1974), Predicted Rating: 4.11\n",
    "4. Movie: Usual Suspects, The (1995), Predicted Rating: 4.11\n",
    "5. Movie: Dr. Strangelove or: How I Learned to Stop Worrying and Love the Bomb (1964), Predicted Rating: 4.10: 4.47\n"
   ]
  },
  {
   "cell_type": "markdown",
   "metadata": {},
   "source": [
    "## Non-Negative Matrix Factorization (NMF Model)"
   ]
  },
  {
   "cell_type": "code",
   "execution_count": 92,
   "metadata": {},
   "outputs": [
    {
     "data": {
      "text/html": [
       "<div>\n",
       "<style scoped>\n",
       "    .dataframe tbody tr th:only-of-type {\n",
       "        vertical-align: middle;\n",
       "    }\n",
       "\n",
       "    .dataframe tbody tr th {\n",
       "        vertical-align: top;\n",
       "    }\n",
       "\n",
       "    .dataframe thead th {\n",
       "        text-align: right;\n",
       "    }\n",
       "</style>\n",
       "<table border=\"1\" class=\"dataframe\">\n",
       "  <thead>\n",
       "    <tr style=\"text-align: right;\">\n",
       "      <th></th>\n",
       "      <th>userId</th>\n",
       "      <th>movieId</th>\n",
       "      <th>rating</th>\n",
       "    </tr>\n",
       "  </thead>\n",
       "  <tbody>\n",
       "    <tr>\n",
       "      <th>0</th>\n",
       "      <td>1</td>\n",
       "      <td>1</td>\n",
       "      <td>4.0</td>\n",
       "    </tr>\n",
       "    <tr>\n",
       "      <th>1</th>\n",
       "      <td>5</td>\n",
       "      <td>1</td>\n",
       "      <td>4.0</td>\n",
       "    </tr>\n",
       "    <tr>\n",
       "      <th>2</th>\n",
       "      <td>7</td>\n",
       "      <td>1</td>\n",
       "      <td>4.5</td>\n",
       "    </tr>\n",
       "    <tr>\n",
       "      <th>3</th>\n",
       "      <td>15</td>\n",
       "      <td>1</td>\n",
       "      <td>2.5</td>\n",
       "    </tr>\n",
       "    <tr>\n",
       "      <th>4</th>\n",
       "      <td>17</td>\n",
       "      <td>1</td>\n",
       "      <td>4.5</td>\n",
       "    </tr>\n",
       "  </tbody>\n",
       "</table>\n",
       "</div>"
      ],
      "text/plain": [
       "   userId  movieId  rating\n",
       "0       1        1     4.0\n",
       "1       5        1     4.0\n",
       "2       7        1     4.5\n",
       "3      15        1     2.5\n",
       "4      17        1     4.5"
      ]
     },
     "execution_count": 92,
     "metadata": {},
     "output_type": "execute_result"
    }
   ],
   "source": [
    "## Create a new datafram svd_df\n",
    "nmf_df = pd.DataFrame({\n",
    "    'userId': merged_df['userId'],        # Rows will be indexed by 'userId'\n",
    "    'movieId': merged_df['movieId'],      # Columns will be indexed by 'movieId'\n",
    "    'rating': merged_df['rating']\n",
    "})\n",
    "nmf_df.head()"
   ]
  },
  {
   "cell_type": "code",
   "execution_count": 93,
   "metadata": {},
   "outputs": [
    {
     "name": "stdout",
     "output_type": "stream",
     "text": [
      "<surprise.dataset.DatasetAutoFolds object at 0x000001AD7545FAD0>\n"
     ]
    }
   ],
   "source": [
    "#Transform the dataset into something more compatible with #surprise'\n",
    "from surprise import Reader, Dataset\n",
    "\n",
    "reader = Reader(rating_scale=(0.0, 5.0))\n",
    "data_nmf = Dataset.load_from_df(nmf_df, reader)\n",
    "print(data_nmf)"
   ]
  },
  {
   "cell_type": "code",
   "execution_count": 94,
   "metadata": {},
   "outputs": [],
   "source": [
    "nmfset = data_nmf.build_full_trainset()  # Build the full training set"
   ]
  },
  {
   "cell_type": "code",
   "execution_count": 95,
   "metadata": {},
   "outputs": [],
   "source": [
    "from surprise.model_selection import cross_validate\n",
    "from surprise.prediction_algorithms.matrix_factorization import NMF\n",
    "from sklearn.model_selection import train_test_split"
   ]
  },
  {
   "cell_type": "markdown",
   "metadata": {},
   "source": [
    "### Basic NMF Model"
   ]
  },
  {
   "cell_type": "code",
   "execution_count": 96,
   "metadata": {},
   "outputs": [
    {
     "name": "stdout",
     "output_type": "stream",
     "text": [
      "Evaluating RMSE of algorithm NMF on 5 split(s).\n",
      "\n",
      "                  Fold 1  Fold 2  Fold 3  Fold 4  Fold 5  Mean    Std     \n",
      "RMSE (testset)    0.9022  0.9029  0.9074  0.9048  0.8982  0.9031  0.0030  \n",
      "Fit time          6.50    6.97    7.57    7.77    7.24    7.21    0.45    \n",
      "Test time         0.07    0.09    0.10    0.10    0.09    0.09    0.01    \n"
     ]
    },
    {
     "data": {
      "text/plain": [
       "{'test_rmse': array([0.90215673, 0.90294697, 0.90744661, 0.90476404, 0.89822345]),\n",
       " 'fit_time': (6.501619100570679,\n",
       "  6.967777967453003,\n",
       "  7.566532850265503,\n",
       "  7.772785425186157,\n",
       "  7.241774320602417),\n",
       " 'test_time': (0.07314419746398926,\n",
       "  0.09496927261352539,\n",
       "  0.10104966163635254,\n",
       "  0.10424518585205078,\n",
       "  0.08954906463623047)}"
      ]
     },
     "execution_count": 96,
     "metadata": {},
     "output_type": "execute_result"
    }
   ],
   "source": [
    "# Set random state for reproducibility\n",
    "random.seed(42)\n",
    "\n",
    "nmf = NMF(random_state=42,n_factors=50, n_epochs=100, biased=False)\n",
    "cross_validate(algo=nmf, data=data_nmf, measures=['RMSE'], cv=5, verbose=True)"
   ]
  },
  {
   "cell_type": "markdown",
   "metadata": {},
   "source": [
    "###  Tuned NMF Model (Grid Search)"
   ]
  },
  {
   "cell_type": "code",
   "execution_count": 97,
   "metadata": {},
   "outputs": [],
   "source": [
    "#from surprise.model_selection import GridSearchCV\n",
    "\n",
    "# Define a parameter grid to search\n",
    "#param_grid = {\n",
    "#    'n_factors': [10, 15, 20],\n",
    "#    'n_epochs': [20, 30, 50],\n",
    "#    'lr_bu': [0.005, 0.01],  # Learning rate for user biases\n",
    "#    'lr_bi': [0.005, 0.01],  # Learning rate for item biases\n",
    "#    'reg_pu': [0.1, 0.15],   # Regularization term for user latent factors\n",
    "#    'reg_qi': [0.1, 0.15]    # Regularization term for item latent factors\n",
    "#}\n",
    "\n",
    "# Perform grid search with cross-validation\n",
    "#gs = GridSearchCV(NMF, param_grid, measures=['rmse', 'mae'], cv=3)\n",
    "#gs.fit(data_nmf)\n",
    "\n",
    "# Best RMSE score\n",
    "#print(\"Best RMSE score attained:\", gs.best_score['rmse'])\n",
    "\n",
    "# Combination of parameters that gave the best RMSE score\n",
    "#print(\"Parameters for best RMSE score:\", gs.best_params['rmse'])"
   ]
  },
  {
   "cell_type": "markdown",
   "metadata": {},
   "source": [
    "Best RMSE score attained: 0.9059853841737464.\n",
    "\n",
    "Parameters for best RMSE score: {'n_factors': 20, 'n_epochs': 20, 'lr_bu': 0.01, 'lr_bi': 0.01, 'reg_pu': 0.15, 'reg_qi': 0.15}"
   ]
  },
  {
   "cell_type": "code",
   "execution_count": 98,
   "metadata": {},
   "outputs": [
    {
     "name": "stdout",
     "output_type": "stream",
     "text": [
      "RMSE: 0.7204\n",
      "Training RMSE: 0.7203792855745096\n",
      "MAE:  0.5327\n",
      "Training MAE: 0.532655765792084\n",
      "RMSE: 0.7204\n",
      "Test RMSE: 0.7203792855745096\n",
      "MAE:  0.5327\n",
      "Test MAE: 0.532655765792084\n"
     ]
    }
   ],
   "source": [
    "#Tuning the nmf model \n",
    "tuned_model = NMF(n_factors=20, n_epochs=20, lr_bu = 0.01, lr_bi = 0.005, reg_pu = 0.15, reg_qi = 0.15)\n",
    "\n",
    "# Build the full training set\n",
    "trainset = data_nmf.build_full_trainset()\n",
    "\n",
    "# Fit the NMF model\n",
    "tuned_model.fit(trainset)\n",
    "\n",
    "# Make predictions for the test set\n",
    "predictions = tuned_model.test(testset)\n",
    "\n",
    "# Evaluate on Train Set\n",
    "print(\"Training RMSE:\", accuracy.rmse(predictions))\n",
    "print(\"Training MAE:\", accuracy.mae(predictions))\n",
    "\n",
    "#Evaluating on Test Set\n",
    "print(\"Test RMSE:\", accuracy.rmse(predictions))\n",
    "print(\"Test MAE:\", accuracy.mae(predictions))\n"
   ]
  },
  {
   "cell_type": "markdown",
   "metadata": {},
   "source": [
    "The tuned NMF improved on the basic NMF model with lower error on both the RMSE (0.7204) and MAE(0.5327). However it does not provide a better performance than the bayesian SVD. "
   ]
  },
  {
   "cell_type": "markdown",
   "metadata": {},
   "source": [
    "### Prediction with NMF Model"
   ]
  },
  {
   "cell_type": "code",
   "execution_count": 99,
   "metadata": {},
   "outputs": [
    {
     "name": "stdout",
     "output_type": "stream",
     "text": [
      "The top 5 movie recommendations for User 4 with predicted ratings are as follows:\n",
      "1. The Artist (2011) (ID: 89904), Predicted Rating: 4.97\n",
      "2. All About Eve (1950) (ID: 926), Predicted Rating: 4.86\n",
      "3. Evil Dead II (Dead by Dawn) (1987) (ID: 1261), Predicted Rating: 4.79\n",
      "4. You Don't Mess with the Zohan (2008) (ID: 59900), Predicted Rating: 4.73\n",
      "5. Sense and Sensibility (1995) (ID: 17), Predicted Rating: 4.72\n"
     ]
    }
   ],
   "source": [
    "# Make predictions for a specific user\n",
    "user_id = 4\n",
    "user_movies = nmf_df[nmf_df['userId'] == user_id]['movieId'].unique()\n",
    "unrated_movies = [movie_id for movie_id in nmf_df['movieId'].unique() if movie_id not in user_movies]\n",
    "\n",
    "# Make predictions for unrated movies\n",
    "predictions = {movie_id: nmf.predict(user_id, movie_id).est for movie_id in unrated_movies}\n",
    "\n",
    "# Sort predictions by estimated rating (descending order)\n",
    "sorted_predictions = sorted(predictions.items(), key=lambda x: x[1], reverse=True)\n",
    "\n",
    "# Get the top 5 movie recommendations with predicted ratings\n",
    "top_5_recommendations = sorted_predictions[:5]\n",
    "\n",
    "# Print the top 5 movie recommendations for the user with predicted ratings\n",
    "print(f\"The top 5 movie recommendations for User {user_id} with predicted ratings are as follows:\")\n",
    "for i, (movie_id, predicted_rating) in enumerate(top_5_recommendations, 1):\n",
    "    movie_title = movies_df.loc[movies_df['movieId'] == movie_id, 'title'].values[0]\n",
    "    print(f\"{i}. {movie_title} (ID: {movie_id}), Predicted Rating: {predicted_rating:.2f}\")\n"
   ]
  },
  {
   "cell_type": "markdown",
   "metadata": {},
   "source": [
    "## Addressing the Cold Start Problem (CSP Model)"
   ]
  },
  {
   "cell_type": "markdown",
   "metadata": {},
   "source": [
    "For new users, a possible approach is to recommend popular or highly-rated movies from genres that are broadly appealing or trending.\n",
    "\n",
    "For new items, leveraging item metadata (like genres) to find similar items based on content similarity can be effective.\n",
    "\n",
    "Implementing a Basic Solution for New Users:"
   ]
  },
  {
   "cell_type": "code",
   "execution_count": 100,
   "metadata": {},
   "outputs": [
    {
     "name": "stdout",
     "output_type": "stream",
     "text": [
      "Recommendations for a new user:\n",
      "                                            title  \\\n",
      "7027                  Reform School Girls (1986)   \n",
      "5428                         Maniac Cop 2 (1990)   \n",
      "3366  George Carlin: Life Is Worth Losing (2005)   \n",
      "3365   George Carlin: Jammin' in New York (1992)   \n",
      "714                      Babes in Toyland (1934)   \n",
      "\n",
      "                               genres  rating  bayesian_avg  \n",
      "7027                     Action|Drama     5.0      2.916667  \n",
      "5428           Action|Horror|Thriller     5.0      2.916667  \n",
      "3366                           Comedy     5.0      2.916667  \n",
      "3365                           Comedy     5.0      2.916667  \n",
      "714   Children|Comedy|Fantasy|Musical     5.0      2.916667  \n"
     ]
    }
   ],
   "source": [
    "def recommend_for_new_user(df, num_recommendations=5):\n",
    "    \"\"\"\n",
    "    Recommend top N highly-rated movies for new users based on genres.\n",
    "    \"\"\"\n",
    "    \n",
    "    popular_movies = df.groupby(['title', 'genres'])['rating'].mean().reset_index()\n",
    "    # Apply Bayesian average ratings to the DataFrame\n",
    "    popular_movies['bayesian_avg'] = popular_movies.groupby('title')['rating'].transform(bayesian_average)\n",
    "    popular_movies = popular_movies.sort_values(by='bayesian_avg', ascending=False)\n",
    "    \n",
    "    \n",
    "    return popular_movies.head(num_recommendations)\n",
    "\n",
    "# Example usage:\n",
    "new_user_recommendations = recommend_for_new_user(merged_df)\n",
    "print(\"Recommendations for a new user:\\n\", new_user_recommendations)"
   ]
  },
  {
   "cell_type": "code",
   "execution_count": 103,
   "metadata": {},
   "outputs": [
    {
     "name": "stdout",
     "output_type": "stream",
     "text": [
      "Recommendations for the new movie:\n",
      " ['Under Siege 2: Dark Territory (1995)']\n"
     ]
    }
   ],
   "source": [
    "# The 'annoy' library is used for Approximate Nearest Neighbors (ANN) search. \n",
    "#This is a technique used in information retrieval to find approximate matches for a given query. \n",
    "#This is particularly useful when dealing with high-dimensional data  where exact nearest neighbor search can be computationally expensive.\n",
    "from sklearn.feature_extraction.text import TfidfVectorizer\n",
    "import annoy\n",
    "import numpy as np\n",
    "\n",
    "# TF-IDF vectorization\n",
    "tfidf = TfidfVectorizer(stop_words='english')\n",
    "tfidf_matrix = tfidf.fit_transform(merged_df['genres'])\n",
    "\n",
    "# Get the number of features (vocabulary size)\n",
    "n_features = tfidf_matrix.shape[1]\n",
    "\n",
    "# Create Annoy index\n",
    "annoy_index = annoy.AnnoyIndex(n_features, metric='angular')\n",
    "\n",
    "# Add items to the Annoy index\n",
    "for idx, vector in enumerate(tfidf_matrix):\n",
    "    annoy_index.add_item(idx, vector.toarray().ravel())  # Convert sparse matrix to dense array\n",
    "\n",
    "# Build the Annoy index\n",
    "annoy_index.build(10)\n",
    "\n",
    "\n",
    "# Function to recommend similar movies for a new movie\n",
    "def recommend_similar_movies(new_movie_genres, annoy_index=annoy_index, merged_df=merged_df, num_recommendations=5):\n",
    "    # Compute TF-IDF vector for the new movie genres\n",
    "    new_movie_tfidf = tfidf.transform([new_movie_genres])\n",
    "\n",
    "    # Get nearest neighbors using Annoy index\n",
    "    sim_indices = annoy_index.get_nns_by_vector(new_movie_tfidf.toarray().ravel(), num_recommendations + 1)  # Fetch one extra recommendation\n",
    "\n",
    "    # Filter out the index of the new movie\n",
    "    new_movie_index = merged_df[merged_df['genres'] == new_movie_genres].index.tolist()[0]\n",
    "    if new_movie_index in sim_indices:\n",
    "        sim_indices.remove(new_movie_index)\n",
    "\n",
    "    # Retrieve recommended movie titles\n",
    "    recommended_titles = merged_df.iloc[sim_indices]['title'].tolist()\n",
    "\n",
    "    # Keep track of unique movie indices\n",
    "    unique_indices = []\n",
    "    unique_recommendations = []\n",
    "\n",
    "    # Iterate through recommended titles to ensure uniqueness\n",
    "    for title in recommended_titles:\n",
    "        movie_index = merged_df[merged_df['title'] == title].index[0]\n",
    "        if movie_index not in unique_indices:\n",
    "            unique_indices.append(movie_index)\n",
    "            unique_recommendations.append(title)\n",
    "\n",
    "    # Ensure that the number of unique recommendations is not greater than the desired number\n",
    "    unique_recommendations = unique_recommendations[:num_recommendations]\n",
    "\n",
    "    return unique_recommendations\n",
    "\n",
    "# Example usage\n",
    "new_movie_genres = 'Action'  # Example new movie genres\n",
    "recommendations = recommend_similar_movies(new_movie_genres)\n",
    "print(\"Recommendations for the new movie:\\n\", recommendations)\n"
   ]
  },
  {
   "cell_type": "markdown",
   "metadata": {},
   "source": [
    "## MODEL EVALUATION"
   ]
  },
  {
   "cell_type": "markdown",
   "metadata": {},
   "source": [
    "We have been able to generate recommendations using the following recommender algorithms thus far:\n",
    "\n",
    "1. Memory-based collaborative-filtering\n",
    "\n",
    "    a.) User-based methods\n",
    "    \n",
    "    b.) Item-based methods\n",
    "    \n",
    "    \n",
    "2. Model-based collaborative-filtering\n",
    "\n",
    "    a.) KNN Basic Model \n",
    "    \n",
    "    b.) KNN Baseline Model\n",
    "    \n",
    "    c.) SVD Model\n",
    "    \n",
    "    d.) NMF Model\n",
    "    \n",
    "    \n",
    "3. CSP Model\n",
    "    \n",
    "**NB:** When enacting model based approaches, tuning was done by performing a GridSearch in order to determine the most optimum parameters to pass to the models.  "
   ]
  },
  {
   "cell_type": "markdown",
   "metadata": {},
   "source": [
    "### Model Selection Criteria"
   ]
  },
  {
   "cell_type": "markdown",
   "metadata": {},
   "source": [
    "Though memory-based recommender systems are relatively simpler to create and use, they are often not preferred in industry settings due to several limitations. \n",
    "\n",
    "One major drawback is their scalability issue, as these systems rely heavily on storing and processing large amounts of user-item interaction data. As the dataset grows, memory-based approaches become computationally expensive and memory-intensive, making them impractical for handling big data scenarios.\n",
    "\n",
    "Moreover, memory-based methods struggle with the cold-start problem, where it's challenging to provide accurate recommendations for new users or items with limited interaction history. Additionally, these approaches lack the ability to incorporate additional features beyond user-item interactions, limiting their capacity to capture complex patterns and contextual information.\n",
    "\n",
    "It is for this reasons that all memory-based models were disqualified."
   ]
  },
  {
   "cell_type": "code",
   "execution_count": 104,
   "metadata": {},
   "outputs": [],
   "source": [
    "metrics_data = {'Model': ['Baseline Model(KNN)', 'KNN Basic', 'Tuned KNN Basic', \n",
    "                          'KNN Baseline', 'Tuned KNN Baseline', 'SVD Model', \n",
    "                          'Bayesian SVD', 'Tuned Bayesian SVD', 'NMF Model'],\n",
    "                'Train RMSE': [0.7119, 0.66003, 0.8366, 0.7525, 0.7525, 0.500, \n",
    "                               0.1537, 0.0831, 0.7162],\n",
    "                'Test RMSE': [0.9428, 0.9719, 0.9679, 0.8715, 0.8715, 0.7903, \n",
    "                              0.1833, 0.1452, 0.7162],\n",
    "                'Train MAE': [0.5318, 0.4934, 0.6322, 0.5627, 0.5627, 0.3887, \n",
    "                              0.1044, 0.0581, 0.5322],\n",
    "                'Test MAE': [0.7245, 0.7518, 0.7468, 0.6701, 0.6701, 0.6042, \n",
    "                             0.1275, 0.0774, 0.5322]\n",
    "               }\n",
    "\n",
    "metrics_df = pd.DataFrame.from_dict(metrics_data)"
   ]
  },
  {
   "cell_type": "code",
   "execution_count": 105,
   "metadata": {},
   "outputs": [
    {
     "data": {
      "text/html": [
       "<div>\n",
       "<style scoped>\n",
       "    .dataframe tbody tr th:only-of-type {\n",
       "        vertical-align: middle;\n",
       "    }\n",
       "\n",
       "    .dataframe tbody tr th {\n",
       "        vertical-align: top;\n",
       "    }\n",
       "\n",
       "    .dataframe thead th {\n",
       "        text-align: right;\n",
       "    }\n",
       "</style>\n",
       "<table border=\"1\" class=\"dataframe\">\n",
       "  <thead>\n",
       "    <tr style=\"text-align: right;\">\n",
       "      <th></th>\n",
       "      <th>Model</th>\n",
       "      <th>Train RMSE</th>\n",
       "      <th>Test RMSE</th>\n",
       "      <th>Train MAE</th>\n",
       "      <th>Test MAE</th>\n",
       "    </tr>\n",
       "  </thead>\n",
       "  <tbody>\n",
       "    <tr>\n",
       "      <th>0</th>\n",
       "      <td>Baseline Model(KNN)</td>\n",
       "      <td>0.71190</td>\n",
       "      <td>0.9428</td>\n",
       "      <td>0.5318</td>\n",
       "      <td>0.7245</td>\n",
       "    </tr>\n",
       "    <tr>\n",
       "      <th>1</th>\n",
       "      <td>KNN Basic</td>\n",
       "      <td>0.66003</td>\n",
       "      <td>0.9719</td>\n",
       "      <td>0.4934</td>\n",
       "      <td>0.7518</td>\n",
       "    </tr>\n",
       "    <tr>\n",
       "      <th>2</th>\n",
       "      <td>Tuned KNN Basic</td>\n",
       "      <td>0.83660</td>\n",
       "      <td>0.9679</td>\n",
       "      <td>0.6322</td>\n",
       "      <td>0.7468</td>\n",
       "    </tr>\n",
       "    <tr>\n",
       "      <th>3</th>\n",
       "      <td>KNN Baseline</td>\n",
       "      <td>0.75250</td>\n",
       "      <td>0.8715</td>\n",
       "      <td>0.5627</td>\n",
       "      <td>0.6701</td>\n",
       "    </tr>\n",
       "    <tr>\n",
       "      <th>4</th>\n",
       "      <td>Tuned KNN Baseline</td>\n",
       "      <td>0.75250</td>\n",
       "      <td>0.8715</td>\n",
       "      <td>0.5627</td>\n",
       "      <td>0.6701</td>\n",
       "    </tr>\n",
       "    <tr>\n",
       "      <th>5</th>\n",
       "      <td>SVD Model</td>\n",
       "      <td>0.50000</td>\n",
       "      <td>0.7903</td>\n",
       "      <td>0.3887</td>\n",
       "      <td>0.6042</td>\n",
       "    </tr>\n",
       "    <tr>\n",
       "      <th>6</th>\n",
       "      <td>Bayesian SVD</td>\n",
       "      <td>0.15370</td>\n",
       "      <td>0.1833</td>\n",
       "      <td>0.1044</td>\n",
       "      <td>0.1275</td>\n",
       "    </tr>\n",
       "    <tr>\n",
       "      <th>7</th>\n",
       "      <td>Tuned Bayesian SVD</td>\n",
       "      <td>0.08310</td>\n",
       "      <td>0.1452</td>\n",
       "      <td>0.0581</td>\n",
       "      <td>0.0774</td>\n",
       "    </tr>\n",
       "    <tr>\n",
       "      <th>8</th>\n",
       "      <td>NMF Model</td>\n",
       "      <td>0.71620</td>\n",
       "      <td>0.7162</td>\n",
       "      <td>0.5322</td>\n",
       "      <td>0.5322</td>\n",
       "    </tr>\n",
       "  </tbody>\n",
       "</table>\n",
       "</div>"
      ],
      "text/plain": [
       "                 Model  Train RMSE  Test RMSE  Train MAE  Test MAE\n",
       "0  Baseline Model(KNN)     0.71190     0.9428     0.5318    0.7245\n",
       "1            KNN Basic     0.66003     0.9719     0.4934    0.7518\n",
       "2      Tuned KNN Basic     0.83660     0.9679     0.6322    0.7468\n",
       "3         KNN Baseline     0.75250     0.8715     0.5627    0.6701\n",
       "4   Tuned KNN Baseline     0.75250     0.8715     0.5627    0.6701\n",
       "5            SVD Model     0.50000     0.7903     0.3887    0.6042\n",
       "6         Bayesian SVD     0.15370     0.1833     0.1044    0.1275\n",
       "7   Tuned Bayesian SVD     0.08310     0.1452     0.0581    0.0774\n",
       "8            NMF Model     0.71620     0.7162     0.5322    0.5322"
      ]
     },
     "execution_count": 105,
     "metadata": {},
     "output_type": "execute_result"
    }
   ],
   "source": [
    "metrics_df"
   ]
  },
  {
   "cell_type": "markdown",
   "metadata": {},
   "source": [
    "From the above dataframe, we can observe the following:\n",
    "1. All basic KNN models i.e. baseline, KNN basic & tuned KNN basic; displayed signs of overfitting. This can be seen from the high values for test RMSE & MAE when comapred to the train RMSE & MAE in addition to the disparity between test and train RMSE & MAE values. \n",
    "\n",
    "2. The KNN baseline models have similar values for RMSE and MAE across the board, which indicated that tuning these models has no significant impact on their performance.\n",
    "\n",
    "3. All KNN based models(basic as well as baseline) have higher RMSE & MAE values when compared to those obtained from the SVD & NMF models hence it is for this reason they are disqualified for final consideration.\n",
    "\n",
    "4. 'SVD Model' and 'KNN Basic' perform reasonably well but have higher errors compared to \"Bayesian SVD\" and \"NMF Model\".\n",
    "\n",
    "5. SVD models displayed better performance when compared to the rest of the models. It can be observed that the 'Bayesian SVD' performs best with train values of 0.0831 (RMSE) and 0.0581 (MAE) and test values of 0.1452 (RMSE) and 0.0774(MAE)"
   ]
  },
  {
   "cell_type": "markdown",
   "metadata": {},
   "source": [
    "### Deployment"
   ]
  },
  {
   "cell_type": "markdown",
   "metadata": {},
   "source": [
    "In the simple Flask deployment, I created an app.py Python script that serves as the main application file. This script initializes a Flask web application, loads a recommendation model, and provides movie recommendations to users based on their input.\n",
    "\n",
    "We also created two HTML files, index.html and \"recommendations.html which are used for the user interface. \"index.html\" contains a form for entering a user ID, and \"recommendations.html\" displays the top movie recommendations with their titles and predicted ratings. These files are rendered using Flask's \"render_template\" function to create a user-friendly interface for the recommendation system."
   ]
  },
  {
   "cell_type": "markdown",
   "metadata": {},
   "source": [
    "## RECOMMENDATIONS"
   ]
  },
  {
   "cell_type": "markdown",
   "metadata": {},
   "source": [
    "The **'Bayesian SVD Model'** should be chosen for deployment as it provides the best performance out of all the models tested. This model also applies weighted averaging of the rated movies(Bayesian Averaging), hence, inherently dealing with matrix sparsity which was a reccurrent challenge in executing these models.\n",
    "Further advantages of this model include:\n",
    "\n",
    "a.) Personalization and Exploration: Encourage the exploration of diverse content while continuously refining personalization algorithms to adapt to user preferences.\n",
    "\n",
    "b.) Scalability: SVD-based models tend to be more scalable than KNN-based models, especially as the size of the dataset grows. SVD involves matrix factorization techniques, which allow for dimensionality reduction, making it more efficient to compute recommendations compared to the computationally intensive nature of KNN, which requires calculating distances between all pairs of users or items.\n",
    "\n",
    "c.) Regularization: SVD-based models naturally incorporate regularization techniques during the matrix factorization process, which helps prevent overfitting and improves generalization performance. KNN-based models, on the other hand, may be more prone to overfitting, especially in scenarios with noisy or sparse data.\n",
    "\n",
    "d.) Implicit feedback: SVD-based models can handle implicit feedback more effectively than KNN-based models. Implicit feedback refers to user interactions that are not explicitly expressed as preferences (e.g., clicks, views). SVD-based models can learn latent factors from implicit feedback data, whereas KNN-based models may struggle to interpret such signals effectively.\n"
   ]
  },
  {
   "cell_type": "markdown",
   "metadata": {},
   "source": [
    "**NB:** \n",
    "The CSP model is only applied for users without history on the platform, otherwise, the Bayesian SVD remains the primary algorithm for this recommender system."
   ]
  },
  {
   "cell_type": "markdown",
   "metadata": {},
   "source": [
    "### NEXT STEPS"
   ]
  },
  {
   "cell_type": "markdown",
   "metadata": {},
   "source": [
    "**Incorporate Real-time User Feedback:**\n",
    "Implement a feedback loop that captures users' ratings, likes, dislikes, and viewing habits in real time. Use this data to adjust recommendations accordingly, making the system more responsive and personalized.\n",
    "\n",
    "**Enhance Content Diversity and Fairness:** \n",
    "Implement algorithms that consciously diversify the content shown to users, preventing filter bubbles. Monitor recommendation outcomes for fairness and adjust algorithms to ensure broad representation of genres, cultures, and perspectives.\n",
    "\n",
    "**User Interface and Experience Improvements:**  \n",
    "Gather user feedback on the interface and experience. Implement design improvements that make browsing recommendations more intuitive and enjoyable. Consider features like personalized watchlists, user reviews, and interactive content discovery tools.\n",
    "\n",
    "**Continuous Monitoring and Evaluation:** \n",
    "Establish a framework for ongoing monitoring of system performance, user engagement metrics, and satisfaction levels. Use these insights to guide regular updates and refinements to the recommendation algorithms and user interface."
   ]
  },
  {
   "cell_type": "markdown",
   "metadata": {},
   "source": [
    "## CONCLUSION"
   ]
  },
  {
   "cell_type": "markdown",
   "metadata": {},
   "source": [
    "The project delivers a robust foundation for a movie recommendation system that can significantly impact user engagement and platform growth. By addressing both immediate recommendations for new users and items and providing a pathway for continuous improvement and scalability, the system is well-poised to meet and exceed stakeholder expectations. Future developments should focus on refining these models and incorporating real-world feedback to ensure the recommendations remain releva\n",
    "remain relevant, personalized, and engaging for all users."
   ]
  },
  {
   "cell_type": "markdown",
   "metadata": {},
   "source": [
    "## CITATION(S)"
   ]
  },
  {
   "cell_type": "markdown",
   "metadata": {},
   "source": [
    "F. Maxwell Harper and Joseph A. Konstan. 2015. The MovieLens Datasets: History and Context. ACM Transactions on Interactive Intelligent Systems (TiiS) 5, 4: 19:1–19:19. https://doi.org/10.1145/2827872"
   ]
  }
 ],
 "metadata": {
  "kernelspec": {
   "display_name": "Python 3",
   "language": "python",
   "name": "python3"
  },
  "language_info": {
   "codemirror_mode": {
    "name": "ipython",
    "version": 3
   },
   "file_extension": ".py",
   "mimetype": "text/x-python",
   "name": "python",
   "nbconvert_exporter": "python",
   "pygments_lexer": "ipython3",
   "version": "3.8.5"
  }
 },
 "nbformat": 4,
 "nbformat_minor": 5
}
