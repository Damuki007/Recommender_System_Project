{
 "cells": [
  {
   "cell_type": "code",
   "execution_count": null,
   "metadata": {},
   "outputs": [],
   "source": []
  },
  {
   "cell_type": "code",
   "execution_count": 1,
   "metadata": {},
   "outputs": [],
   "source": [
    "import numpy as np\n",
    "import pandas as pd\n",
    "import matplotlib.pyplot as plt\n",
    "%matplotlib inline\n",
    "import seaborn as sns\n",
    "\n",
    "import warnings\n",
    "warnings.filterwarnings('ignore')"
   ]
  },
  {
   "cell_type": "markdown",
   "metadata": {},
   "source": [
    "### Data Cleaning"
   ]
  },
  {
   "cell_type": "code",
   "execution_count": 2,
   "metadata": {},
   "outputs": [
    {
     "data": {
      "text/html": [
       "<div>\n",
       "<style scoped>\n",
       "    .dataframe tbody tr th:only-of-type {\n",
       "        vertical-align: middle;\n",
       "    }\n",
       "\n",
       "    .dataframe tbody tr th {\n",
       "        vertical-align: top;\n",
       "    }\n",
       "\n",
       "    .dataframe thead th {\n",
       "        text-align: right;\n",
       "    }\n",
       "</style>\n",
       "<table border=\"1\" class=\"dataframe\">\n",
       "  <thead>\n",
       "    <tr style=\"text-align: right;\">\n",
       "      <th></th>\n",
       "      <th>movieId</th>\n",
       "      <th>imdbId</th>\n",
       "      <th>tmdbId</th>\n",
       "    </tr>\n",
       "  </thead>\n",
       "  <tbody>\n",
       "    <tr>\n",
       "      <th>0</th>\n",
       "      <td>1</td>\n",
       "      <td>114709</td>\n",
       "      <td>862.0</td>\n",
       "    </tr>\n",
       "    <tr>\n",
       "      <th>1</th>\n",
       "      <td>2</td>\n",
       "      <td>113497</td>\n",
       "      <td>8844.0</td>\n",
       "    </tr>\n",
       "  </tbody>\n",
       "</table>\n",
       "</div>"
      ],
      "text/plain": [
       "   movieId  imdbId  tmdbId\n",
       "0        1  114709   862.0\n",
       "1        2  113497  8844.0"
      ]
     },
     "execution_count": 2,
     "metadata": {},
     "output_type": "execute_result"
    }
   ],
   "source": [
    "links = pd.read_csv('data/links.csv')\n",
    "links.head(2)"
   ]
  },
  {
   "cell_type": "code",
   "execution_count": 3,
   "metadata": {},
   "outputs": [
    {
     "data": {
      "text/html": [
       "<div>\n",
       "<style scoped>\n",
       "    .dataframe tbody tr th:only-of-type {\n",
       "        vertical-align: middle;\n",
       "    }\n",
       "\n",
       "    .dataframe tbody tr th {\n",
       "        vertical-align: top;\n",
       "    }\n",
       "\n",
       "    .dataframe thead th {\n",
       "        text-align: right;\n",
       "    }\n",
       "</style>\n",
       "<table border=\"1\" class=\"dataframe\">\n",
       "  <thead>\n",
       "    <tr style=\"text-align: right;\">\n",
       "      <th></th>\n",
       "      <th>movieId</th>\n",
       "      <th>title</th>\n",
       "      <th>genres</th>\n",
       "    </tr>\n",
       "  </thead>\n",
       "  <tbody>\n",
       "    <tr>\n",
       "      <th>0</th>\n",
       "      <td>1</td>\n",
       "      <td>Toy Story (1995)</td>\n",
       "      <td>Adventure|Animation|Children|Comedy|Fantasy</td>\n",
       "    </tr>\n",
       "    <tr>\n",
       "      <th>1</th>\n",
       "      <td>2</td>\n",
       "      <td>Jumanji (1995)</td>\n",
       "      <td>Adventure|Children|Fantasy</td>\n",
       "    </tr>\n",
       "  </tbody>\n",
       "</table>\n",
       "</div>"
      ],
      "text/plain": [
       "   movieId             title                                       genres\n",
       "0        1  Toy Story (1995)  Adventure|Animation|Children|Comedy|Fantasy\n",
       "1        2    Jumanji (1995)                   Adventure|Children|Fantasy"
      ]
     },
     "execution_count": 3,
     "metadata": {},
     "output_type": "execute_result"
    }
   ],
   "source": [
    "movies = pd.read_csv('data/movies.csv')\n",
    "movies.head(2)"
   ]
  },
  {
   "cell_type": "code",
   "execution_count": 4,
   "metadata": {},
   "outputs": [
    {
     "data": {
      "text/html": [
       "<div>\n",
       "<style scoped>\n",
       "    .dataframe tbody tr th:only-of-type {\n",
       "        vertical-align: middle;\n",
       "    }\n",
       "\n",
       "    .dataframe tbody tr th {\n",
       "        vertical-align: top;\n",
       "    }\n",
       "\n",
       "    .dataframe thead th {\n",
       "        text-align: right;\n",
       "    }\n",
       "</style>\n",
       "<table border=\"1\" class=\"dataframe\">\n",
       "  <thead>\n",
       "    <tr style=\"text-align: right;\">\n",
       "      <th></th>\n",
       "      <th>userId</th>\n",
       "      <th>movieId</th>\n",
       "      <th>rating</th>\n",
       "      <th>timestamp</th>\n",
       "    </tr>\n",
       "  </thead>\n",
       "  <tbody>\n",
       "    <tr>\n",
       "      <th>0</th>\n",
       "      <td>1</td>\n",
       "      <td>1</td>\n",
       "      <td>4.0</td>\n",
       "      <td>964982703</td>\n",
       "    </tr>\n",
       "    <tr>\n",
       "      <th>1</th>\n",
       "      <td>1</td>\n",
       "      <td>3</td>\n",
       "      <td>4.0</td>\n",
       "      <td>964981247</td>\n",
       "    </tr>\n",
       "  </tbody>\n",
       "</table>\n",
       "</div>"
      ],
      "text/plain": [
       "   userId  movieId  rating  timestamp\n",
       "0       1        1     4.0  964982703\n",
       "1       1        3     4.0  964981247"
      ]
     },
     "execution_count": 4,
     "metadata": {},
     "output_type": "execute_result"
    }
   ],
   "source": [
    "ratings = pd.read_csv('data/ratings.csv')\n",
    "ratings.head(2)"
   ]
  },
  {
   "cell_type": "code",
   "execution_count": 5,
   "metadata": {},
   "outputs": [
    {
     "data": {
      "text/html": [
       "<div>\n",
       "<style scoped>\n",
       "    .dataframe tbody tr th:only-of-type {\n",
       "        vertical-align: middle;\n",
       "    }\n",
       "\n",
       "    .dataframe tbody tr th {\n",
       "        vertical-align: top;\n",
       "    }\n",
       "\n",
       "    .dataframe thead th {\n",
       "        text-align: right;\n",
       "    }\n",
       "</style>\n",
       "<table border=\"1\" class=\"dataframe\">\n",
       "  <thead>\n",
       "    <tr style=\"text-align: right;\">\n",
       "      <th></th>\n",
       "      <th>userId</th>\n",
       "      <th>movieId</th>\n",
       "      <th>tag</th>\n",
       "      <th>timestamp</th>\n",
       "    </tr>\n",
       "  </thead>\n",
       "  <tbody>\n",
       "    <tr>\n",
       "      <th>0</th>\n",
       "      <td>2</td>\n",
       "      <td>60756</td>\n",
       "      <td>funny</td>\n",
       "      <td>1445714994</td>\n",
       "    </tr>\n",
       "    <tr>\n",
       "      <th>1</th>\n",
       "      <td>2</td>\n",
       "      <td>60756</td>\n",
       "      <td>Highly quotable</td>\n",
       "      <td>1445714996</td>\n",
       "    </tr>\n",
       "  </tbody>\n",
       "</table>\n",
       "</div>"
      ],
      "text/plain": [
       "   userId  movieId              tag   timestamp\n",
       "0       2    60756            funny  1445714994\n",
       "1       2    60756  Highly quotable  1445714996"
      ]
     },
     "execution_count": 5,
     "metadata": {},
     "output_type": "execute_result"
    }
   ],
   "source": [
    "tags = pd.read_csv('data/tags.csv')\n",
    "tags.head(2)"
   ]
  },
  {
   "cell_type": "code",
   "execution_count": 6,
   "metadata": {},
   "outputs": [
    {
     "data": {
      "text/plain": [
       "In Netflix queue     131\n",
       "atmospheric           36\n",
       "thought-provoking     24\n",
       "superhero             24\n",
       "surreal               23\n",
       "                    ... \n",
       "ocean                  1\n",
       "human rights           1\n",
       "Titanic                1\n",
       "Navy                   1\n",
       "Beethoven              1\n",
       "Name: tag, Length: 1589, dtype: int64"
      ]
     },
     "execution_count": 6,
     "metadata": {},
     "output_type": "execute_result"
    }
   ],
   "source": [
    "tags['tag'].value_counts()"
   ]
  },
  {
   "cell_type": "code",
   "execution_count": 7,
   "metadata": {},
   "outputs": [
    {
     "data": {
      "text/plain": [
       "296     181\n",
       "2959     54\n",
       "924      41\n",
       "293      35\n",
       "7361     34\n",
       "       ... \n",
       "6107      1\n",
       "5878      1\n",
       "5876      1\n",
       "3192      1\n",
       "8190      1\n",
       "Name: movieId, Length: 1572, dtype: int64"
      ]
     },
     "execution_count": 7,
     "metadata": {},
     "output_type": "execute_result"
    }
   ],
   "source": [
    "tags['movieId'].value_counts()"
   ]
  },
  {
   "cell_type": "markdown",
   "metadata": {},
   "source": [
    "Based on the above initial previewing of the dataset, there are two datsets we can use in our project, the movies and the ratings datasets. This is because these two datasets are the ones containing information on ratings, movie ids and user ids which we'll need to create a recommender system. "
   ]
  },
  {
   "cell_type": "code",
   "execution_count": 8,
   "metadata": {},
   "outputs": [
    {
     "data": {
      "text/html": [
       "<div>\n",
       "<style scoped>\n",
       "    .dataframe tbody tr th:only-of-type {\n",
       "        vertical-align: middle;\n",
       "    }\n",
       "\n",
       "    .dataframe tbody tr th {\n",
       "        vertical-align: top;\n",
       "    }\n",
       "\n",
       "    .dataframe thead th {\n",
       "        text-align: right;\n",
       "    }\n",
       "</style>\n",
       "<table border=\"1\" class=\"dataframe\">\n",
       "  <thead>\n",
       "    <tr style=\"text-align: right;\">\n",
       "      <th></th>\n",
       "      <th>movieId</th>\n",
       "      <th>title</th>\n",
       "      <th>genres</th>\n",
       "    </tr>\n",
       "  </thead>\n",
       "  <tbody>\n",
       "    <tr>\n",
       "      <th>0</th>\n",
       "      <td>1</td>\n",
       "      <td>Toy Story (1995)</td>\n",
       "      <td>Adventure|Animation|Children|Comedy|Fantasy</td>\n",
       "    </tr>\n",
       "    <tr>\n",
       "      <th>1</th>\n",
       "      <td>2</td>\n",
       "      <td>Jumanji (1995)</td>\n",
       "      <td>Adventure|Children|Fantasy</td>\n",
       "    </tr>\n",
       "    <tr>\n",
       "      <th>2</th>\n",
       "      <td>3</td>\n",
       "      <td>Grumpier Old Men (1995)</td>\n",
       "      <td>Comedy|Romance</td>\n",
       "    </tr>\n",
       "    <tr>\n",
       "      <th>3</th>\n",
       "      <td>4</td>\n",
       "      <td>Waiting to Exhale (1995)</td>\n",
       "      <td>Comedy|Drama|Romance</td>\n",
       "    </tr>\n",
       "    <tr>\n",
       "      <th>4</th>\n",
       "      <td>5</td>\n",
       "      <td>Father of the Bride Part II (1995)</td>\n",
       "      <td>Comedy</td>\n",
       "    </tr>\n",
       "  </tbody>\n",
       "</table>\n",
       "</div>"
      ],
      "text/plain": [
       "   movieId                               title  \\\n",
       "0        1                    Toy Story (1995)   \n",
       "1        2                      Jumanji (1995)   \n",
       "2        3             Grumpier Old Men (1995)   \n",
       "3        4            Waiting to Exhale (1995)   \n",
       "4        5  Father of the Bride Part II (1995)   \n",
       "\n",
       "                                        genres  \n",
       "0  Adventure|Animation|Children|Comedy|Fantasy  \n",
       "1                   Adventure|Children|Fantasy  \n",
       "2                               Comedy|Romance  \n",
       "3                         Comedy|Drama|Romance  \n",
       "4                                       Comedy  "
      ]
     },
     "execution_count": 8,
     "metadata": {},
     "output_type": "execute_result"
    }
   ],
   "source": [
    "#Previewing the datasets again\n",
    "movies.head()"
   ]
  },
  {
   "cell_type": "code",
   "execution_count": 9,
   "metadata": {},
   "outputs": [
    {
     "data": {
      "text/html": [
       "<div>\n",
       "<style scoped>\n",
       "    .dataframe tbody tr th:only-of-type {\n",
       "        vertical-align: middle;\n",
       "    }\n",
       "\n",
       "    .dataframe tbody tr th {\n",
       "        vertical-align: top;\n",
       "    }\n",
       "\n",
       "    .dataframe thead th {\n",
       "        text-align: right;\n",
       "    }\n",
       "</style>\n",
       "<table border=\"1\" class=\"dataframe\">\n",
       "  <thead>\n",
       "    <tr style=\"text-align: right;\">\n",
       "      <th></th>\n",
       "      <th>userId</th>\n",
       "      <th>movieId</th>\n",
       "      <th>rating</th>\n",
       "      <th>timestamp</th>\n",
       "    </tr>\n",
       "  </thead>\n",
       "  <tbody>\n",
       "    <tr>\n",
       "      <th>0</th>\n",
       "      <td>1</td>\n",
       "      <td>1</td>\n",
       "      <td>4.0</td>\n",
       "      <td>964982703</td>\n",
       "    </tr>\n",
       "    <tr>\n",
       "      <th>1</th>\n",
       "      <td>1</td>\n",
       "      <td>3</td>\n",
       "      <td>4.0</td>\n",
       "      <td>964981247</td>\n",
       "    </tr>\n",
       "    <tr>\n",
       "      <th>2</th>\n",
       "      <td>1</td>\n",
       "      <td>6</td>\n",
       "      <td>4.0</td>\n",
       "      <td>964982224</td>\n",
       "    </tr>\n",
       "    <tr>\n",
       "      <th>3</th>\n",
       "      <td>1</td>\n",
       "      <td>47</td>\n",
       "      <td>5.0</td>\n",
       "      <td>964983815</td>\n",
       "    </tr>\n",
       "    <tr>\n",
       "      <th>4</th>\n",
       "      <td>1</td>\n",
       "      <td>50</td>\n",
       "      <td>5.0</td>\n",
       "      <td>964982931</td>\n",
       "    </tr>\n",
       "  </tbody>\n",
       "</table>\n",
       "</div>"
      ],
      "text/plain": [
       "   userId  movieId  rating  timestamp\n",
       "0       1        1     4.0  964982703\n",
       "1       1        3     4.0  964981247\n",
       "2       1        6     4.0  964982224\n",
       "3       1       47     5.0  964983815\n",
       "4       1       50     5.0  964982931"
      ]
     },
     "execution_count": 9,
     "metadata": {},
     "output_type": "execute_result"
    }
   ],
   "source": [
    "ratings.head()"
   ]
  },
  {
   "cell_type": "code",
   "execution_count": 10,
   "metadata": {},
   "outputs": [
    {
     "data": {
      "text/html": [
       "<div>\n",
       "<style scoped>\n",
       "    .dataframe tbody tr th:only-of-type {\n",
       "        vertical-align: middle;\n",
       "    }\n",
       "\n",
       "    .dataframe tbody tr th {\n",
       "        vertical-align: top;\n",
       "    }\n",
       "\n",
       "    .dataframe thead th {\n",
       "        text-align: right;\n",
       "    }\n",
       "</style>\n",
       "<table border=\"1\" class=\"dataframe\">\n",
       "  <thead>\n",
       "    <tr style=\"text-align: right;\">\n",
       "      <th></th>\n",
       "      <th>movieId</th>\n",
       "      <th>title</th>\n",
       "      <th>genres</th>\n",
       "      <th>userId</th>\n",
       "      <th>rating</th>\n",
       "      <th>timestamp</th>\n",
       "    </tr>\n",
       "  </thead>\n",
       "  <tbody>\n",
       "    <tr>\n",
       "      <th>0</th>\n",
       "      <td>1</td>\n",
       "      <td>Toy Story (1995)</td>\n",
       "      <td>Adventure|Animation|Children|Comedy|Fantasy</td>\n",
       "      <td>1.0</td>\n",
       "      <td>4.0</td>\n",
       "      <td>9.649827e+08</td>\n",
       "    </tr>\n",
       "    <tr>\n",
       "      <th>1</th>\n",
       "      <td>1</td>\n",
       "      <td>Toy Story (1995)</td>\n",
       "      <td>Adventure|Animation|Children|Comedy|Fantasy</td>\n",
       "      <td>5.0</td>\n",
       "      <td>4.0</td>\n",
       "      <td>8.474350e+08</td>\n",
       "    </tr>\n",
       "    <tr>\n",
       "      <th>2</th>\n",
       "      <td>1</td>\n",
       "      <td>Toy Story (1995)</td>\n",
       "      <td>Adventure|Animation|Children|Comedy|Fantasy</td>\n",
       "      <td>7.0</td>\n",
       "      <td>4.5</td>\n",
       "      <td>1.106636e+09</td>\n",
       "    </tr>\n",
       "    <tr>\n",
       "      <th>3</th>\n",
       "      <td>1</td>\n",
       "      <td>Toy Story (1995)</td>\n",
       "      <td>Adventure|Animation|Children|Comedy|Fantasy</td>\n",
       "      <td>15.0</td>\n",
       "      <td>2.5</td>\n",
       "      <td>1.510578e+09</td>\n",
       "    </tr>\n",
       "    <tr>\n",
       "      <th>4</th>\n",
       "      <td>1</td>\n",
       "      <td>Toy Story (1995)</td>\n",
       "      <td>Adventure|Animation|Children|Comedy|Fantasy</td>\n",
       "      <td>17.0</td>\n",
       "      <td>4.5</td>\n",
       "      <td>1.305696e+09</td>\n",
       "    </tr>\n",
       "  </tbody>\n",
       "</table>\n",
       "</div>"
      ],
      "text/plain": [
       "   movieId             title                                       genres  \\\n",
       "0        1  Toy Story (1995)  Adventure|Animation|Children|Comedy|Fantasy   \n",
       "1        1  Toy Story (1995)  Adventure|Animation|Children|Comedy|Fantasy   \n",
       "2        1  Toy Story (1995)  Adventure|Animation|Children|Comedy|Fantasy   \n",
       "3        1  Toy Story (1995)  Adventure|Animation|Children|Comedy|Fantasy   \n",
       "4        1  Toy Story (1995)  Adventure|Animation|Children|Comedy|Fantasy   \n",
       "\n",
       "   userId  rating     timestamp  \n",
       "0     1.0     4.0  9.649827e+08  \n",
       "1     5.0     4.0  8.474350e+08  \n",
       "2     7.0     4.5  1.106636e+09  \n",
       "3    15.0     2.5  1.510578e+09  \n",
       "4    17.0     4.5  1.305696e+09  "
      ]
     },
     "execution_count": 10,
     "metadata": {},
     "output_type": "execute_result"
    }
   ],
   "source": [
    "#Merging the two datasets on movieid\n",
    "df = pd.merge(movies, ratings, on='movieId', how='left')\n",
    "df.head()"
   ]
  },
  {
   "cell_type": "code",
   "execution_count": 11,
   "metadata": {},
   "outputs": [
    {
     "name": "stdout",
     "output_type": "stream",
     "text": [
      "<class 'pandas.core.frame.DataFrame'>\n",
      "Int64Index: 100854 entries, 0 to 100853\n",
      "Data columns (total 6 columns):\n",
      " #   Column     Non-Null Count   Dtype  \n",
      "---  ------     --------------   -----  \n",
      " 0   movieId    100854 non-null  int64  \n",
      " 1   title      100854 non-null  object \n",
      " 2   genres     100854 non-null  object \n",
      " 3   userId     100836 non-null  float64\n",
      " 4   rating     100836 non-null  float64\n",
      " 5   timestamp  100836 non-null  float64\n",
      "dtypes: float64(3), int64(1), object(2)\n",
      "memory usage: 5.4+ MB\n"
     ]
    }
   ],
   "source": [
    "df.info()"
   ]
  },
  {
   "cell_type": "markdown",
   "metadata": {},
   "source": [
    "The timestamp column has no value in our analysis therefore we can proceed to drop it. "
   ]
  },
  {
   "cell_type": "code",
   "execution_count": 12,
   "metadata": {
    "scrolled": true
   },
   "outputs": [
    {
     "data": {
      "text/html": [
       "<div>\n",
       "<style scoped>\n",
       "    .dataframe tbody tr th:only-of-type {\n",
       "        vertical-align: middle;\n",
       "    }\n",
       "\n",
       "    .dataframe tbody tr th {\n",
       "        vertical-align: top;\n",
       "    }\n",
       "\n",
       "    .dataframe thead th {\n",
       "        text-align: right;\n",
       "    }\n",
       "</style>\n",
       "<table border=\"1\" class=\"dataframe\">\n",
       "  <thead>\n",
       "    <tr style=\"text-align: right;\">\n",
       "      <th></th>\n",
       "      <th>movieId</th>\n",
       "      <th>title</th>\n",
       "      <th>genres</th>\n",
       "      <th>userId</th>\n",
       "      <th>rating</th>\n",
       "    </tr>\n",
       "  </thead>\n",
       "  <tbody>\n",
       "    <tr>\n",
       "      <th>0</th>\n",
       "      <td>1</td>\n",
       "      <td>Toy Story (1995)</td>\n",
       "      <td>Adventure|Animation|Children|Comedy|Fantasy</td>\n",
       "      <td>1.0</td>\n",
       "      <td>4.0</td>\n",
       "    </tr>\n",
       "    <tr>\n",
       "      <th>1</th>\n",
       "      <td>1</td>\n",
       "      <td>Toy Story (1995)</td>\n",
       "      <td>Adventure|Animation|Children|Comedy|Fantasy</td>\n",
       "      <td>5.0</td>\n",
       "      <td>4.0</td>\n",
       "    </tr>\n",
       "    <tr>\n",
       "      <th>2</th>\n",
       "      <td>1</td>\n",
       "      <td>Toy Story (1995)</td>\n",
       "      <td>Adventure|Animation|Children|Comedy|Fantasy</td>\n",
       "      <td>7.0</td>\n",
       "      <td>4.5</td>\n",
       "    </tr>\n",
       "    <tr>\n",
       "      <th>3</th>\n",
       "      <td>1</td>\n",
       "      <td>Toy Story (1995)</td>\n",
       "      <td>Adventure|Animation|Children|Comedy|Fantasy</td>\n",
       "      <td>15.0</td>\n",
       "      <td>2.5</td>\n",
       "    </tr>\n",
       "    <tr>\n",
       "      <th>4</th>\n",
       "      <td>1</td>\n",
       "      <td>Toy Story (1995)</td>\n",
       "      <td>Adventure|Animation|Children|Comedy|Fantasy</td>\n",
       "      <td>17.0</td>\n",
       "      <td>4.5</td>\n",
       "    </tr>\n",
       "  </tbody>\n",
       "</table>\n",
       "</div>"
      ],
      "text/plain": [
       "   movieId             title                                       genres  \\\n",
       "0        1  Toy Story (1995)  Adventure|Animation|Children|Comedy|Fantasy   \n",
       "1        1  Toy Story (1995)  Adventure|Animation|Children|Comedy|Fantasy   \n",
       "2        1  Toy Story (1995)  Adventure|Animation|Children|Comedy|Fantasy   \n",
       "3        1  Toy Story (1995)  Adventure|Animation|Children|Comedy|Fantasy   \n",
       "4        1  Toy Story (1995)  Adventure|Animation|Children|Comedy|Fantasy   \n",
       "\n",
       "   userId  rating  \n",
       "0     1.0     4.0  \n",
       "1     5.0     4.0  \n",
       "2     7.0     4.5  \n",
       "3    15.0     2.5  \n",
       "4    17.0     4.5  "
      ]
     },
     "execution_count": 12,
     "metadata": {},
     "output_type": "execute_result"
    }
   ],
   "source": [
    "#Dropping the timestamp column\n",
    "df.drop(columns=['timestamp'], axis=1, inplace=True)\n",
    "df.head()"
   ]
  },
  {
   "cell_type": "code",
   "execution_count": 13,
   "metadata": {
    "scrolled": true
   },
   "outputs": [
    {
     "data": {
      "text/plain": [
       "movieId     0\n",
       "title       0\n",
       "genres      0\n",
       "userId     18\n",
       "rating     18\n",
       "dtype: int64"
      ]
     },
     "execution_count": 13,
     "metadata": {},
     "output_type": "execute_result"
    }
   ],
   "source": [
    "df.isna().sum()"
   ]
  },
  {
   "cell_type": "markdown",
   "metadata": {},
   "source": [
    "There are key columns(userId and rating) with missing values. We will investigate the "
   ]
  },
  {
   "cell_type": "code",
   "execution_count": 14,
   "metadata": {
    "scrolled": true
   },
   "outputs": [
    {
     "data": {
      "text/html": [
       "<div>\n",
       "<style scoped>\n",
       "    .dataframe tbody tr th:only-of-type {\n",
       "        vertical-align: middle;\n",
       "    }\n",
       "\n",
       "    .dataframe tbody tr th {\n",
       "        vertical-align: top;\n",
       "    }\n",
       "\n",
       "    .dataframe thead th {\n",
       "        text-align: right;\n",
       "    }\n",
       "</style>\n",
       "<table border=\"1\" class=\"dataframe\">\n",
       "  <thead>\n",
       "    <tr style=\"text-align: right;\">\n",
       "      <th></th>\n",
       "      <th>no_missing_values</th>\n",
       "      <th>percent_missing</th>\n",
       "    </tr>\n",
       "  </thead>\n",
       "  <tbody>\n",
       "    <tr>\n",
       "      <th>movieId</th>\n",
       "      <td>0</td>\n",
       "      <td>0.00</td>\n",
       "    </tr>\n",
       "    <tr>\n",
       "      <th>title</th>\n",
       "      <td>0</td>\n",
       "      <td>0.00</td>\n",
       "    </tr>\n",
       "    <tr>\n",
       "      <th>genres</th>\n",
       "      <td>0</td>\n",
       "      <td>0.00</td>\n",
       "    </tr>\n",
       "    <tr>\n",
       "      <th>userId</th>\n",
       "      <td>18</td>\n",
       "      <td>0.02</td>\n",
       "    </tr>\n",
       "    <tr>\n",
       "      <th>rating</th>\n",
       "      <td>18</td>\n",
       "      <td>0.02</td>\n",
       "    </tr>\n",
       "  </tbody>\n",
       "</table>\n",
       "</div>"
      ],
      "text/plain": [
       "         no_missing_values  percent_missing\n",
       "movieId                  0             0.00\n",
       "title                    0             0.00\n",
       "genres                   0             0.00\n",
       "userId                  18             0.02\n",
       "rating                  18             0.02"
      ]
     },
     "execution_count": 14,
     "metadata": {},
     "output_type": "execute_result"
    }
   ],
   "source": [
    "#Investigating the percentage of missing values\n",
    "no_missing = df.isna().sum()\n",
    "percent_missing = (df.isna().sum() * 100/len(df)).round(2)\n",
    "missing_value_df = pd.DataFrame({'no_missing_values':no_missing,'percent_missing':percent_missing})\n",
    "\n",
    "missing_value_df"
   ]
  },
  {
   "cell_type": "code",
   "execution_count": 15,
   "metadata": {},
   "outputs": [
    {
     "data": {
      "text/plain": [
       "movieId    0\n",
       "title      0\n",
       "genres     0\n",
       "userId     0\n",
       "rating     0\n",
       "dtype: int64"
      ]
     },
     "execution_count": 15,
     "metadata": {},
     "output_type": "execute_result"
    }
   ],
   "source": [
    "#Dropping the columns with missing values\n",
    "df = df.dropna()\n",
    "df.isna().sum()"
   ]
  },
  {
   "cell_type": "code",
   "execution_count": 16,
   "metadata": {},
   "outputs": [],
   "source": [
    "#Converting the userId column data type to int\n",
    "df['userId'] = df['userId'].astype('int64')"
   ]
  },
  {
   "cell_type": "markdown",
   "metadata": {},
   "source": [
    "## Feature Engineering"
   ]
  },
  {
   "cell_type": "markdown",
   "metadata": {},
   "source": [
    "We undertook feature engineering to create a new column release_year by extracting the year the movie was released from the end of the title string. We then converted the years to decades. "
   ]
  },
  {
   "cell_type": "code",
   "execution_count": 17,
   "metadata": {
    "scrolled": true
   },
   "outputs": [
    {
     "data": {
      "text/html": [
       "<div>\n",
       "<style scoped>\n",
       "    .dataframe tbody tr th:only-of-type {\n",
       "        vertical-align: middle;\n",
       "    }\n",
       "\n",
       "    .dataframe tbody tr th {\n",
       "        vertical-align: top;\n",
       "    }\n",
       "\n",
       "    .dataframe thead th {\n",
       "        text-align: right;\n",
       "    }\n",
       "</style>\n",
       "<table border=\"1\" class=\"dataframe\">\n",
       "  <thead>\n",
       "    <tr style=\"text-align: right;\">\n",
       "      <th></th>\n",
       "      <th>movieId</th>\n",
       "      <th>title</th>\n",
       "      <th>genres</th>\n",
       "      <th>userId</th>\n",
       "      <th>rating</th>\n",
       "      <th>release_year</th>\n",
       "    </tr>\n",
       "  </thead>\n",
       "  <tbody>\n",
       "    <tr>\n",
       "      <th>0</th>\n",
       "      <td>1</td>\n",
       "      <td>Toy Story (1995)</td>\n",
       "      <td>Adventure|Animation|Children|Comedy|Fantasy</td>\n",
       "      <td>1</td>\n",
       "      <td>4.0</td>\n",
       "      <td>1995</td>\n",
       "    </tr>\n",
       "    <tr>\n",
       "      <th>1</th>\n",
       "      <td>1</td>\n",
       "      <td>Toy Story (1995)</td>\n",
       "      <td>Adventure|Animation|Children|Comedy|Fantasy</td>\n",
       "      <td>5</td>\n",
       "      <td>4.0</td>\n",
       "      <td>1995</td>\n",
       "    </tr>\n",
       "    <tr>\n",
       "      <th>2</th>\n",
       "      <td>1</td>\n",
       "      <td>Toy Story (1995)</td>\n",
       "      <td>Adventure|Animation|Children|Comedy|Fantasy</td>\n",
       "      <td>7</td>\n",
       "      <td>4.5</td>\n",
       "      <td>1995</td>\n",
       "    </tr>\n",
       "    <tr>\n",
       "      <th>3</th>\n",
       "      <td>1</td>\n",
       "      <td>Toy Story (1995)</td>\n",
       "      <td>Adventure|Animation|Children|Comedy|Fantasy</td>\n",
       "      <td>15</td>\n",
       "      <td>2.5</td>\n",
       "      <td>1995</td>\n",
       "    </tr>\n",
       "    <tr>\n",
       "      <th>4</th>\n",
       "      <td>1</td>\n",
       "      <td>Toy Story (1995)</td>\n",
       "      <td>Adventure|Animation|Children|Comedy|Fantasy</td>\n",
       "      <td>17</td>\n",
       "      <td>4.5</td>\n",
       "      <td>1995</td>\n",
       "    </tr>\n",
       "  </tbody>\n",
       "</table>\n",
       "</div>"
      ],
      "text/plain": [
       "   movieId             title                                       genres  \\\n",
       "0        1  Toy Story (1995)  Adventure|Animation|Children|Comedy|Fantasy   \n",
       "1        1  Toy Story (1995)  Adventure|Animation|Children|Comedy|Fantasy   \n",
       "2        1  Toy Story (1995)  Adventure|Animation|Children|Comedy|Fantasy   \n",
       "3        1  Toy Story (1995)  Adventure|Animation|Children|Comedy|Fantasy   \n",
       "4        1  Toy Story (1995)  Adventure|Animation|Children|Comedy|Fantasy   \n",
       "\n",
       "   userId  rating  release_year  \n",
       "0       1     4.0          1995  \n",
       "1       5     4.0          1995  \n",
       "2       7     4.5          1995  \n",
       "3      15     2.5          1995  \n",
       "4      17     4.5          1995  "
      ]
     },
     "execution_count": 17,
     "metadata": {},
     "output_type": "execute_result"
    }
   ],
   "source": [
    "df['release_year'] = df['title'].str.extract(r'\\((\\d{4})\\)$', expand=False)\n",
    "df['release_year'] = pd.to_numeric(df['release_year'], errors='coerce').astype('Int64')\n",
    "df.head()"
   ]
  },
  {
   "cell_type": "code",
   "execution_count": 18,
   "metadata": {},
   "outputs": [
    {
     "data": {
      "text/plain": [
       "movieId          0\n",
       "title            0\n",
       "genres           0\n",
       "userId           0\n",
       "rating           0\n",
       "release_year    31\n",
       "dtype: int64"
      ]
     },
     "execution_count": 18,
     "metadata": {},
     "output_type": "execute_result"
    }
   ],
   "source": [
    "df.isna().sum()"
   ]
  },
  {
   "cell_type": "code",
   "execution_count": 19,
   "metadata": {},
   "outputs": [
    {
     "data": {
      "text/html": [
       "<div>\n",
       "<style scoped>\n",
       "    .dataframe tbody tr th:only-of-type {\n",
       "        vertical-align: middle;\n",
       "    }\n",
       "\n",
       "    .dataframe tbody tr th {\n",
       "        vertical-align: top;\n",
       "    }\n",
       "\n",
       "    .dataframe thead th {\n",
       "        text-align: right;\n",
       "    }\n",
       "</style>\n",
       "<table border=\"1\" class=\"dataframe\">\n",
       "  <thead>\n",
       "    <tr style=\"text-align: right;\">\n",
       "      <th></th>\n",
       "      <th>no_missing_values</th>\n",
       "      <th>percent_missing</th>\n",
       "    </tr>\n",
       "  </thead>\n",
       "  <tbody>\n",
       "    <tr>\n",
       "      <th>movieId</th>\n",
       "      <td>0</td>\n",
       "      <td>0.00</td>\n",
       "    </tr>\n",
       "    <tr>\n",
       "      <th>title</th>\n",
       "      <td>0</td>\n",
       "      <td>0.00</td>\n",
       "    </tr>\n",
       "    <tr>\n",
       "      <th>genres</th>\n",
       "      <td>0</td>\n",
       "      <td>0.00</td>\n",
       "    </tr>\n",
       "    <tr>\n",
       "      <th>userId</th>\n",
       "      <td>0</td>\n",
       "      <td>0.00</td>\n",
       "    </tr>\n",
       "    <tr>\n",
       "      <th>rating</th>\n",
       "      <td>0</td>\n",
       "      <td>0.00</td>\n",
       "    </tr>\n",
       "    <tr>\n",
       "      <th>release_year</th>\n",
       "      <td>31</td>\n",
       "      <td>0.03</td>\n",
       "    </tr>\n",
       "  </tbody>\n",
       "</table>\n",
       "</div>"
      ],
      "text/plain": [
       "              no_missing_values  percent_missing\n",
       "movieId                       0             0.00\n",
       "title                         0             0.00\n",
       "genres                        0             0.00\n",
       "userId                        0             0.00\n",
       "rating                        0             0.00\n",
       "release_year                 31             0.03"
      ]
     },
     "execution_count": 19,
     "metadata": {},
     "output_type": "execute_result"
    }
   ],
   "source": [
    "no_missing = df.isna().sum()\n",
    "percent_missing = (df.isna().sum() * 100/len(df)).round(2)\n",
    "missing_value_df = pd.DataFrame({'no_missing_values':no_missing,'percent_missing':percent_missing})\n",
    "\n",
    "missing_value_df"
   ]
  },
  {
   "cell_type": "code",
   "execution_count": 20,
   "metadata": {},
   "outputs": [],
   "source": [
    "df = df.dropna()"
   ]
  },
  {
   "cell_type": "code",
   "execution_count": 21,
   "metadata": {},
   "outputs": [
    {
     "data": {
      "text/plain": [
       "movieId         0\n",
       "title           0\n",
       "genres          0\n",
       "userId          0\n",
       "rating          0\n",
       "release_year    0\n",
       "dtype: int64"
      ]
     },
     "execution_count": 21,
     "metadata": {},
     "output_type": "execute_result"
    }
   ],
   "source": [
    "df.isna().sum()"
   ]
  },
  {
   "cell_type": "code",
   "execution_count": 22,
   "metadata": {
    "scrolled": true
   },
   "outputs": [
    {
     "data": {
      "text/html": [
       "<div>\n",
       "<style scoped>\n",
       "    .dataframe tbody tr th:only-of-type {\n",
       "        vertical-align: middle;\n",
       "    }\n",
       "\n",
       "    .dataframe tbody tr th {\n",
       "        vertical-align: top;\n",
       "    }\n",
       "\n",
       "    .dataframe thead th {\n",
       "        text-align: right;\n",
       "    }\n",
       "</style>\n",
       "<table border=\"1\" class=\"dataframe\">\n",
       "  <thead>\n",
       "    <tr style=\"text-align: right;\">\n",
       "      <th></th>\n",
       "      <th>movieId</th>\n",
       "      <th>title</th>\n",
       "      <th>genres</th>\n",
       "      <th>userId</th>\n",
       "      <th>rating</th>\n",
       "      <th>release_year</th>\n",
       "      <th>decade</th>\n",
       "    </tr>\n",
       "  </thead>\n",
       "  <tbody>\n",
       "    <tr>\n",
       "      <th>0</th>\n",
       "      <td>1</td>\n",
       "      <td>Toy Story (1995)</td>\n",
       "      <td>Adventure|Animation|Children|Comedy|Fantasy</td>\n",
       "      <td>1</td>\n",
       "      <td>4.0</td>\n",
       "      <td>1995</td>\n",
       "      <td>1990s</td>\n",
       "    </tr>\n",
       "    <tr>\n",
       "      <th>1</th>\n",
       "      <td>1</td>\n",
       "      <td>Toy Story (1995)</td>\n",
       "      <td>Adventure|Animation|Children|Comedy|Fantasy</td>\n",
       "      <td>5</td>\n",
       "      <td>4.0</td>\n",
       "      <td>1995</td>\n",
       "      <td>1990s</td>\n",
       "    </tr>\n",
       "    <tr>\n",
       "      <th>2</th>\n",
       "      <td>1</td>\n",
       "      <td>Toy Story (1995)</td>\n",
       "      <td>Adventure|Animation|Children|Comedy|Fantasy</td>\n",
       "      <td>7</td>\n",
       "      <td>4.5</td>\n",
       "      <td>1995</td>\n",
       "      <td>1990s</td>\n",
       "    </tr>\n",
       "    <tr>\n",
       "      <th>3</th>\n",
       "      <td>1</td>\n",
       "      <td>Toy Story (1995)</td>\n",
       "      <td>Adventure|Animation|Children|Comedy|Fantasy</td>\n",
       "      <td>15</td>\n",
       "      <td>2.5</td>\n",
       "      <td>1995</td>\n",
       "      <td>1990s</td>\n",
       "    </tr>\n",
       "    <tr>\n",
       "      <th>4</th>\n",
       "      <td>1</td>\n",
       "      <td>Toy Story (1995)</td>\n",
       "      <td>Adventure|Animation|Children|Comedy|Fantasy</td>\n",
       "      <td>17</td>\n",
       "      <td>4.5</td>\n",
       "      <td>1995</td>\n",
       "      <td>1990s</td>\n",
       "    </tr>\n",
       "  </tbody>\n",
       "</table>\n",
       "</div>"
      ],
      "text/plain": [
       "   movieId             title                                       genres  \\\n",
       "0        1  Toy Story (1995)  Adventure|Animation|Children|Comedy|Fantasy   \n",
       "1        1  Toy Story (1995)  Adventure|Animation|Children|Comedy|Fantasy   \n",
       "2        1  Toy Story (1995)  Adventure|Animation|Children|Comedy|Fantasy   \n",
       "3        1  Toy Story (1995)  Adventure|Animation|Children|Comedy|Fantasy   \n",
       "4        1  Toy Story (1995)  Adventure|Animation|Children|Comedy|Fantasy   \n",
       "\n",
       "   userId  rating  release_year decade  \n",
       "0       1     4.0          1995  1990s  \n",
       "1       5     4.0          1995  1990s  \n",
       "2       7     4.5          1995  1990s  \n",
       "3      15     2.5          1995  1990s  \n",
       "4      17     4.5          1995  1990s  "
      ]
     },
     "execution_count": 22,
     "metadata": {},
     "output_type": "execute_result"
    }
   ],
   "source": [
    "#Assigning the release year to decades\n",
    "#Define a function to convert year into decade\n",
    "def year_to_decade(year):\n",
    "    if pd.isna(year):\n",
    "        return None\n",
    "    return int(year / 10) * 10\n",
    "\n",
    "#Apply the function to the dataset\n",
    "df['decade'] = df['release_year'].apply(year_to_decade)\n",
    "\n",
    "#Convert the decade into a string for readability\n",
    "df['decade'] = df['decade'].astype(str) + 's'\n",
    "\n",
    "df.head()"
   ]
  },
  {
   "cell_type": "markdown",
   "metadata": {},
   "source": [
    "## Exploratory Data Analysis"
   ]
  },
  {
   "cell_type": "markdown",
   "metadata": {},
   "source": [
    "### Distribution of ratings"
   ]
  },
  {
   "cell_type": "code",
   "execution_count": 23,
   "metadata": {},
   "outputs": [
    {
     "data": {
      "image/png": "[encoded data removed]",
      "text/plain": [
       "<Figure size 432x288 with 1 Axes>"
      ]
     },
     "metadata": {
      "needs_background": "light"
     },
     "output_type": "display_data"
    }
   ],
   "source": [
    "#Frequency of ratings\n",
    "plt.hist(df['rating'],bins=30)\n",
    "plt.xlabel('Value of rating')\n",
    "plt.ylabel('Frequency of ratings')\n",
    "plt.show()"
   ]
  },
  {
   "cell_type": "markdown",
   "metadata": {},
   "source": [
    "### Genre popularity"
   ]
  },
  {
   "cell_type": "markdown",
   "metadata": {},
   "source": [
    "We extracted individual genres from the movie genres column to investigate the most popular genres. "
   ]
  },
  {
   "cell_type": "code",
   "execution_count": 24,
   "metadata": {
    "scrolled": false
   },
   "outputs": [
    {
     "data": {
      "image/png": "[encoded data removed]",
      "text/plain": [
       "<Figure size 864x504 with 1 Axes>"
      ]
     },
     "metadata": {
      "needs_background": "light"
     },
     "output_type": "display_data"
    }
   ],
   "source": [
    "#Extracting genre labels from the genre column\n",
    "genrelabels = set()\n",
    "for i in df['genres'].str.split('|').values:\n",
    "    genrelabels = genrelabels.union(set(i))\n",
    "    \n",
    "#Creating a function to visualize genre     \n",
    "def genrecounts(df, col, labels):\n",
    "    count = dict()\n",
    "    for i in labels: count[i] = 0\n",
    "    for value in df[col].str.split('|'):\n",
    "        if type(value) == float and pd.isnull(value): continue\n",
    "        for i in value: \n",
    "            if pd.notnull(i): count[i] += 1\n",
    "    return count    \n",
    "\n",
    "#Applying the function to our dataframe to extract genre count by genre labels\n",
    "genre_count = genrecounts(df, 'genres', genrelabels)\n",
    "genre_count\n",
    "\n",
    "#Creating a dataframe from the genre labels and frequency\n",
    "genres = pd.DataFrame(list(genre_count.items()),columns = ['Genre','Frequency'])\n",
    "\n",
    "#Sorting values by the frequency column\n",
    "genres = genres.sort_values(by=['Frequency'], ascending=False)\n",
    "\n",
    "#Visualizing the most popular genres\n",
    "plt.figure(figsize=(12,7))\n",
    "sns.barplot(genres['Genre'], genres['Frequency'])\n",
    "plt.title('Most Popular Genres')\n",
    "plt.xticks(rotation=45);"
   ]
  },
  {
   "cell_type": "markdown",
   "metadata": {},
   "source": [
    "Drama is the most popular genre in all the rated movies, followed by comedy and action. Thriller and adventure fill the remaining 2 slots in the top 5 most popular movie genres. "
   ]
  },
  {
   "cell_type": "markdown",
   "metadata": {},
   "source": [
    "### Movie Release by Decades"
   ]
  },
  {
   "cell_type": "code",
   "execution_count": 25,
   "metadata": {
    "scrolled": false
   },
   "outputs": [
    {
     "data": {
      "image/png": "[encoded data removed]",
      "text/plain": [
       "<Figure size 720x432 with 1 Axes>"
      ]
     },
     "metadata": {
      "needs_background": "light"
     },
     "output_type": "display_data"
    }
   ],
   "source": [
    "# Grouping by decade and counting the number of movies released\n",
    "movies_per_decade = df.groupby('decade').size().reset_index(name='count')\n",
    "\n",
    "# Plotting the counts\n",
    "plt.figure(figsize=(10, 6))\n",
    "sns.lineplot(data=movies_per_decade, x='decade', y='count', marker='o')\n",
    "plt.title('Number of Movies Released per Decade')\n",
    "plt.xlabel('Decade')\n",
    "plt.ylabel('Number of Movies')\n",
    "plt.xticks(rotation=45);\n"
   ]
  },
  {
   "cell_type": "markdown",
   "metadata": {},
   "source": [
    "The number of movies produced from the 1900s if fairly low until the 1960s when it begins to rise. Movie production experiences exponentail growth from the 1970s until the highest peak in 1990s after which the number of movies begins to fall. The 2010s decades maybe missing some data as our last movie release date is in 2018. "
   ]
  },
  {
   "cell_type": "markdown",
   "metadata": {},
   "source": [
    "### Number of Ratings and Average ratings per Decade"
   ]
  },
  {
   "cell_type": "code",
   "execution_count": 26,
   "metadata": {
    "scrolled": false
   },
   "outputs": [
    {
     "data": {
      "image/png": "[encoded data removed]",
      "text/plain": [
       "<Figure size 1008x432 with 2 Axes>"
      ]
     },
     "metadata": {
      "needs_background": "light"
     },
     "output_type": "display_data"
    }
   ],
   "source": [
    "# Grouping by decade and calculating the average rating\n",
    "ratings_stats = df.groupby('decade').agg({'rating': ['mean', 'count']}).reset_index()\n",
    "ratings_stats.columns = ['decade', 'average_rating', 'number_of_ratings']\n",
    "\n",
    "# Creating subplots\n",
    "fig, axes = plt.subplots(1, 2, figsize=(14, 6))\n",
    "\n",
    "# Plotting number of ratings per decade\n",
    "sns.barplot(ax=axes[0], data=ratings_stats, x='decade', y='number_of_ratings', color='blue', alpha=0.5)\n",
    "axes[0].set_title('Number of Ratings per Decade')\n",
    "axes[0].set_xlabel('Decade')\n",
    "axes[0].set_ylabel('Number of Ratings')\n",
    "axes[0].tick_params(axis='x', rotation=45)\n",
    "\n",
    "# Plotting average rating per decade\n",
    "sns.barplot(ax=axes[1], data=ratings_stats, x='decade', y='average_rating', color='red', alpha=0.5)\n",
    "axes[1].set_title('Average Rating per Decade')\n",
    "axes[1].set_xlabel('Decade')\n",
    "axes[1].set_ylabel('Average Rating')\n",
    "axes[1].tick_params(axis='x', rotation=45);\n"
   ]
  },
  {
   "cell_type": "markdown",
   "metadata": {},
   "source": [
    "There are very few ratings to the movies from the 1900s until 1930s to 1940s when they begin rising steadily and then exponentially in the 1990s. The pattern is somewhat similar to movie release. \n",
    "\n",
    "The average rating of movies however remains steady over the decades with movies rating averaging between 3 and 4. "
   ]
  },
  {
   "cell_type": "markdown",
   "metadata": {},
   "source": [
    "## Modeling"
   ]
  },
  {
   "cell_type": "code",
   "execution_count": 27,
   "metadata": {},
   "outputs": [],
   "source": [
    "from surprise import Dataset, Reader\n",
    "from surprise.model_selection import train_test_split, GridSearchCV, cross_validate\n",
    "from surprise.prediction_algorithms import KNNWithMeans, KNNBasic, KNNBaseline\n",
    "from surprise import SVD\n",
    "from surprise import accuracy"
   ]
  },
  {
   "cell_type": "code",
   "execution_count": 28,
   "metadata": {},
   "outputs": [],
   "source": [
    "#Creating a new df for the columns relevant in modeling\n",
    "df_model = df[['userId', 'movieId', 'rating']]"
   ]
  },
  {
   "cell_type": "code",
   "execution_count": 29,
   "metadata": {},
   "outputs": [],
   "source": [
    "# Instantiating the reader \n",
    "reader = Reader(rating_scale=(0, 5))\n",
    "\n",
    "#Loading the data into a Surprise Dataset\n",
    "data = Dataset.load_from_df(df_model, reader) \n"
   ]
  },
  {
   "cell_type": "markdown",
   "metadata": {},
   "source": [
    "Get an average rating \n",
    "Bayesian Average"
   ]
  },
  {
   "cell_type": "code",
   "execution_count": 30,
   "metadata": {},
   "outputs": [
    {
     "name": "stdout",
     "output_type": "stream",
     "text": [
      "Number of users in train set :  610 \n",
      "\n",
      "Number of items in train set :  8951 \n",
      "\n"
     ]
    }
   ],
   "source": [
    "#Splittting the data into a train and test set with train_test_split\n",
    "trainset, testset = train_test_split(data, test_size=0.2)\n",
    "\n",
    "#Printing out the number of users and items to determine which to use\n",
    "print('Number of users in train set : ', trainset.n_users, '\\n')\n",
    "print('Number of items in train set : ', trainset.n_items, '\\n')"
   ]
  },
  {
   "cell_type": "markdown",
   "metadata": {},
   "source": [
    "### KNNBasic\n",
    "\n",
    "#### Baseline Model\n",
    "\n",
    "We built our baseline model using KNNBasic"
   ]
  },
  {
   "cell_type": "code",
   "execution_count": 31,
   "metadata": {},
   "outputs": [
    {
     "name": "stdout",
     "output_type": "stream",
     "text": [
      "Computing the msd similarity matrix...\n",
      "Done computing similarity matrix.\n",
      "RMSE: 0.7111\n",
      "Training RMSE: 0.7111046555005033\n",
      "MAE:  0.5311\n",
      "Training MAE: 0.5310723363329474\n",
      "RMSE: 0.9483\n",
      "Test RMSE: 0.9483435698986745\n",
      "MAE:  0.7296\n",
      "Test MAE: 0.7296003951921922\n"
     ]
    }
   ],
   "source": [
    "#Instantiating the Baseline Model\n",
    "knn_basic = KNNBasic(random_state=42)\n",
    "\n",
    "# Train the model on the trainset\n",
    "knn_basic.fit(trainset)\n",
    "\n",
    "# Make predictions on the testset\n",
    "knnbasic_test_preds = knn_basic.test(testset)\n",
    "\n",
    "#Evaluating on Training Set\n",
    "knnbasic_train_preds = knn_basic.test(trainset.build_testset())\n",
    "print(\"Training RMSE:\", accuracy.rmse(knnbasic_train_preds))\n",
    "print(\"Training MAE:\", accuracy.mae(knnbasic_train_preds))\n",
    "\n",
    "#Evaluating on Test Set\n",
    "print(\"Test RMSE:\", accuracy.rmse(knnbasic_test_preds))\n",
    "print(\"Test MAE:\", accuracy.mae(knnbasic_test_preds))\n"
   ]
  },
  {
   "cell_type": "markdown",
   "metadata": {},
   "source": [
    "Our baseline model gave us a train RMSE and MAE of 0.7060 and 0.5266 respectively and a test RMSE and MAE of 0.9432 and 0.7234.\n",
    "\n",
    "We proceeded to tune our baseline model and also test other models to get the one with the lowest RMSE and MAE. "
   ]
  },
  {
   "cell_type": "code",
   "execution_count": 32,
   "metadata": {},
   "outputs": [
    {
     "name": "stdout",
     "output_type": "stream",
     "text": [
      "Computing the pearson similarity matrix...\n",
      "Done computing similarity matrix.\n",
      "RMSE: 0.6602\n",
      "Training RMSE: 0.6601749647695863\n",
      "MAE:  0.4933\n",
      "Training MAE: 0.4932556328312039\n",
      "RMSE: 0.9762\n",
      "Test RMSE: 0.9761577158728364\n",
      "MAE:  0.7576\n",
      "Test MAE: 0.7575532106332674\n"
     ]
    }
   ],
   "source": [
    "#Instantiating the Improved Model with Specified Parameters\n",
    "sim_options = {'name': 'pearson', 'user_based': True} \n",
    "\n",
    "knn_basic_params = KNNBasic(sim_options=sim_options, random_state=42)\n",
    "\n",
    "# Train the model on the trainset\n",
    "knn_basic_params.fit(trainset)\n",
    "\n",
    "# Make predictions on the testset\n",
    "knnbasic_params_test_preds = knn_basic_params.test(testset)\n",
    "\n",
    "#Evaluating on Training Set\n",
    "knnbasic_params_train_preds = knn_basic_params.test(trainset.build_testset())\n",
    "print(\"Training RMSE:\", accuracy.rmse(knnbasic_params_train_preds))\n",
    "print(\"Training MAE:\", accuracy.mae(knnbasic_params_train_preds))\n",
    "\n",
    "#Evaluating on Test Set\n",
    "print(\"Test RMSE:\", accuracy.rmse(knnbasic_params_test_preds))\n",
    "print(\"Test MAE:\", accuracy.mae(knnbasic_params_test_preds))"
   ]
  },
  {
   "cell_type": "markdown",
   "metadata": {},
   "source": [
    "We tuned our baseline model by specifying parameters. This model gave us a train RMSE and MAE of 0.6530 and 0.4866 respectively and a test RMSE and MAE of 0.9820 and 0.7582 respectively. While this model trained slightly better than our baseline model recording slight improvement in the RMSE and MAE, the testset results were worse than our previous baseline model. we proceeded to crossvalidate our model. "
   ]
  },
  {
   "cell_type": "code",
   "execution_count": 33,
   "metadata": {
    "scrolled": true
   },
   "outputs": [
    {
     "name": "stdout",
     "output_type": "stream",
     "text": [
      "Computing the cosine similarity matrix...\n",
      "Done computing similarity matrix.\n",
      "Computing the cosine similarity matrix...\n",
      "Done computing similarity matrix.\n",
      "Computing the cosine similarity matrix...\n",
      "Done computing similarity matrix.\n",
      "Computing the cosine similarity matrix...\n",
      "Done computing similarity matrix.\n",
      "Computing the cosine similarity matrix...\n",
      "Done computing similarity matrix.\n",
      "Evaluating RMSE, MAE of algorithm KNNBasic on 5 split(s).\n",
      "\n",
      "                  Fold 1  Fold 2  Fold 3  Fold 4  Fold 5  Mean    Std     \n",
      "RMSE (testset)    0.9807  0.9677  0.9706  0.9781  0.9674  0.9729  0.0055  \n",
      "MAE (testset)     0.7560  0.7435  0.7496  0.7526  0.7425  0.7489  0.0052  \n",
      "Fit time          0.57    0.63    0.61    0.61    0.58    0.60    0.02    \n",
      "Test time         1.67    1.50    1.52    1.50    1.56    1.55    0.07    \n",
      "Cross-validation Results:\n",
      "test_rmse: 0.972887710819947\n",
      "test_mae: 0.7488509348096759\n"
     ]
    }
   ],
   "source": [
    "# Initialize the KNNBasic model\n",
    "sim_options = {'name': 'cosine', 'user_based': True}  \n",
    "cv_knn_basic = KNNBasic(sim_options=sim_options)\n",
    "\n",
    "# Perform cross-validation\n",
    "cv_results = cross_validate(cv_knn_basic, data, measures=['RMSE', 'MAE'], cv=5, verbose=True)\n",
    "\n",
    "# Print the cross-validation results\n",
    "print(\"Cross-validation Results:\")\n",
    "for measure in ['test_rmse', 'test_mae']:\n",
    "    print(f\"{measure}: {cv_results[measure].mean()}\")"
   ]
  },
  {
   "cell_type": "markdown",
   "metadata": {},
   "source": [
    "Crossvalidating our model gave us a test RMSE and MAE of 0.9736 and 0.7501 respectively which wasn't any better than our previous 2 models.\n",
    "\n",
    "We used GridSearch to get the best parameters for the KNN basic model"
   ]
  },
  {
   "cell_type": "code",
   "execution_count": 34,
   "metadata": {
    "scrolled": true
   },
   "outputs": [],
   "source": [
    "#Defining the parameter grid\n",
    "#knn_params = {'name': ['cosine', 'pearson'],\n",
    "#              'user_based':[True, False], \n",
    "#              'min_support':[True, False],\n",
    "#            'min_k' : [1, 2]}\n",
    "\n",
    "#Applying Gridsearch to look for the best parameters\n",
    "#gsknnbasic = GridSearchCV(KNNBasic, knn_params, measures=['rmse', 'mae'], cv=3)\n",
    "#gsknnbasic.fit(data)"
   ]
  },
  {
   "cell_type": "code",
   "execution_count": 35,
   "metadata": {},
   "outputs": [],
   "source": [
    "#Getting the best parameters and score from GridSearch\n",
    "#print(gsknnbasic.best_score)\n",
    "#print(gsknnbasic.best_params)"
   ]
  },
  {
   "cell_type": "code",
   "execution_count": 36,
   "metadata": {
    "scrolled": true
   },
   "outputs": [
    {
     "name": "stdout",
     "output_type": "stream",
     "text": [
      "Computing the cosine similarity matrix...\n",
      "Done computing similarity matrix.\n",
      "RMSE: 0.8360\n",
      "Training RMSE: 0.8359862395921998\n",
      "MAE:  0.6310\n",
      "Training MAE: 0.6309553415035791\n",
      "RMSE: 0.9729\n",
      "Test RMSE: 0.9729475313683257\n",
      "MAE:  0.7516\n",
      "Test MAE: 0.7516250727074583\n"
     ]
    }
   ],
   "source": [
    "#Tuning the KNN Basic model using the GridSearch best parameters\n",
    "knn_basic_tuned = KNNBasic(sim_options={'name': 'cosine', \n",
    "                                       'user_based': True, \n",
    "                                       'min_support':True, \n",
    "                                       'min_k':2, })\n",
    "#Fitting the model and predicting\n",
    "knn_basic_tuned.fit(trainset)\n",
    "knnbasic_tuned_test_preds = knn_basic_tuned.test(testset)\n",
    "\n",
    "#Evaluating on Training Set\n",
    "knnbasic_tuned_train_preds = knn_basic_tuned.test(trainset.build_testset())\n",
    "print(\"Training RMSE:\", accuracy.rmse(knnbasic_tuned_train_preds))\n",
    "print(\"Training MAE:\", accuracy.mae(knnbasic_tuned_train_preds))\n",
    "\n",
    "#Evaluating on Test Set\n",
    "print(\"Test RMSE:\", accuracy.rmse(knnbasic_tuned_test_preds))\n",
    "print(\"Test MAE:\", accuracy.mae(knnbasic_tuned_test_preds))"
   ]
  },
  {
   "cell_type": "markdown",
   "metadata": {},
   "source": [
    "Using the best parameters generated by GridSearch, we got a a train RMSE and MAE of 0.8338 and 0.6290 respectively and a test RMSE and MAE of 0.9790 and 0.7551 respectively. This model did not perform any better than our previous models and was infact poorer in training. \n",
    "\n",
    "We proceeded to fit a KNNBaseline model"
   ]
  },
  {
   "cell_type": "markdown",
   "metadata": {},
   "source": [
    "### KNN Baseline"
   ]
  },
  {
   "cell_type": "code",
   "execution_count": 37,
   "metadata": {},
   "outputs": [
    {
     "name": "stdout",
     "output_type": "stream",
     "text": [
      "Estimating biases using als...\n",
      "Computing the cosine similarity matrix...\n",
      "Done computing similarity matrix.\n",
      "RMSE: 0.7520\n",
      "Training RMSE: 0.7519908458758743\n",
      "MAE:  0.5616\n",
      "Training MAE: 0.561556333328749\n",
      "RMSE: 0.8770\n",
      "Test RMSE: 0.8769924027369671\n",
      "MAE:  0.6749\n",
      "Test MAE: 0.6749024383413927\n"
     ]
    }
   ],
   "source": [
    "#Instantiating the Model with Specified Parameters\n",
    "sim_options = {'name': 'cosine', 'user_based': True}\n",
    "knn_baseline = KNNBaseline(sim_options=sim_options)\n",
    "\n",
    "# Train the model on the trainset\n",
    "knn_baseline.fit(trainset)\n",
    "\n",
    "# Make predictions on the testset\n",
    "knnbase_test_preds = knn_baseline.test(testset)\n",
    "\n",
    "#Evaluating on Training Set\n",
    "knnbase_train_preds = knn_baseline.test(trainset.build_testset())\n",
    "print(\"Training RMSE:\", accuracy.rmse(knnbase_train_preds))\n",
    "print(\"Training MAE:\", accuracy.mae(knnbase_train_preds))\n",
    "\n",
    "#Evaluating on Test Set\n",
    "print(\"Test RMSE:\", accuracy.rmse(knnbase_test_preds))\n",
    "print(\"Test MAE:\", accuracy.mae(knnbase_test_preds))\n"
   ]
  },
  {
   "cell_type": "markdown",
   "metadata": {},
   "source": [
    "The KNNBaseline model gave us a train RMSE and MAE of 0.7487 and 0.5597 respectively and a test RMSE and MAE of 0.8893 and 0.6792 respectively. This was an improvement from the previous models we had fitted. "
   ]
  },
  {
   "cell_type": "code",
   "execution_count": 38,
   "metadata": {
    "scrolled": true
   },
   "outputs": [
    {
     "name": "stdout",
     "output_type": "stream",
     "text": [
      "Estimating biases using als...\n",
      "Computing the cosine similarity matrix...\n",
      "Done computing similarity matrix.\n",
      "Estimating biases using als...\n",
      "Computing the cosine similarity matrix...\n",
      "Done computing similarity matrix.\n",
      "Estimating biases using als...\n",
      "Computing the cosine similarity matrix...\n",
      "Done computing similarity matrix.\n",
      "Estimating biases using als...\n",
      "Computing the cosine similarity matrix...\n",
      "Done computing similarity matrix.\n",
      "Estimating biases using als...\n",
      "Computing the cosine similarity matrix...\n",
      "Done computing similarity matrix.\n",
      "Evaluating RMSE, MAE of algorithm KNNBaseline on 5 split(s).\n",
      "\n",
      "                  Fold 1  Fold 2  Fold 3  Fold 4  Fold 5  Mean    Std     \n",
      "RMSE (testset)    0.8726  0.8814  0.8757  0.8823  0.8820  0.8788  0.0039  \n",
      "MAE (testset)     0.6691  0.6702  0.6722  0.6770  0.6758  0.6729  0.0031  \n",
      "Fit time          0.94    0.94    0.96    0.94    0.95    0.95    0.01    \n",
      "Test time         2.11    2.10    2.08    2.07    2.07    2.09    0.02    \n",
      "Cross-validation Results:\n",
      "test_rmse: 0.8788100930828311\n",
      "test_mae: 0.6728564133963701\n"
     ]
    }
   ],
   "source": [
    "# Crossvalidating using the KNNBaseline model\n",
    "sim_options = {'name': 'cosine', 'user_based': True}  \n",
    "cv_knn_baseline = KNNBaseline(sim_options=sim_options)\n",
    "\n",
    "# Perform cross-validation\n",
    "cv_baseline_results = cross_validate(cv_knn_baseline, data, measures=['RMSE', 'MAE'], cv=5, verbose=True)\n",
    "\n",
    "# Print the cross-validation results\n",
    "print(\"Cross-validation Results:\")\n",
    "for measure in ['test_rmse', 'test_mae']:\n",
    "    print(f\"{measure}: {cv_baseline_results[measure].mean()}\")"
   ]
  },
  {
   "cell_type": "markdown",
   "metadata": {},
   "source": [
    "Crossvalidating the KNN baseline model gave us a test RMSE of 0.8785 and a test MAE of 0.6720. This was a very slight improvement from the KNNBaseline model.\n",
    "\n",
    "We performed a GridSearch to find the best parameters to fit the model and fitted the same KNNBaseline model using these best parameters. "
   ]
  },
  {
   "cell_type": "code",
   "execution_count": 39,
   "metadata": {},
   "outputs": [],
   "source": [
    "#Applying Gridsearch to look for the best parameters\n",
    "#gsknnbaseline = GridSearchCV(KNNBaseline, knn_params, measures=['rmse', 'mae'], cv=3)\n",
    "#gsknnbaseline.fit(data)"
   ]
  },
  {
   "cell_type": "code",
   "execution_count": 40,
   "metadata": {},
   "outputs": [],
   "source": [
    "#Getting the best parameters and score from GridSearch\n",
    "#print(gsknnbaseline.best_score)\n",
    "#print(gsknnbaseline.best_params)"
   ]
  },
  {
   "cell_type": "code",
   "execution_count": 41,
   "metadata": {},
   "outputs": [
    {
     "name": "stdout",
     "output_type": "stream",
     "text": [
      "Estimating biases using als...\n",
      "Computing the cosine similarity matrix...\n",
      "Done computing similarity matrix.\n",
      "RMSE: 0.7520\n",
      "Training RMSE: 0.7519908458758743\n",
      "MAE:  0.5616\n",
      "Training MAE: 0.561556333328749\n",
      "RMSE: 0.8770\n",
      "Test RMSE: 0.8769924027369671\n",
      "MAE:  0.6749\n",
      "Test MAE: 0.6749024383413927\n"
     ]
    }
   ],
   "source": [
    "#Tuning the KNN Baseline model using the GridSearch best parameters\n",
    "knn_baseline_tuned = KNNBaseline(sim_options={'name': 'cosine', \n",
    "                                       'user_based': True, \n",
    "                                       'min_support':True, \n",
    "                                       'min_k':2, })\n",
    "#Fitting the model and predicting\n",
    "knn_baseline_tuned.fit(trainset)\n",
    "knnbase_tuned_test_preds = knn_baseline_tuned.test(testset)\n",
    "\n",
    "#Evaluating on Training Set\n",
    "knnbase_tuned_train_preds = knn_baseline_tuned.test(trainset.build_testset())\n",
    "print(\"Training RMSE:\", accuracy.rmse(knnbase_tuned_train_preds))\n",
    "print(\"Training MAE:\", accuracy.mae(knnbase_tuned_train_preds))\n",
    "\n",
    "#Evaluating on Test Set\n",
    "print(\"Test RMSE:\", accuracy.rmse(knnbase_tuned_test_preds))\n",
    "print(\"Test MAE:\", accuracy.mae(knnbase_tuned_test_preds))"
   ]
  },
  {
   "cell_type": "markdown",
   "metadata": {},
   "source": [
    "The KNNBaseline model using the best parameters gave a train RMSE and MAE of 0.7487 and 0.5597 respectively and a test RMSE and MAE of 0.8894 and 0.6792 respectively. This meant that tuning the model using GridSearch's best parameters made no difference. "
   ]
  },
  {
   "cell_type": "markdown",
   "metadata": {},
   "source": [
    "### SVD\n",
    "\n",
    "From fitting the above model, "
   ]
  },
  {
   "cell_type": "code",
   "execution_count": 42,
   "metadata": {
    "scrolled": true
   },
   "outputs": [
    {
     "name": "stdout",
     "output_type": "stream",
     "text": [
      "RMSE: 0.6379\n",
      "Training RMSE: 0.637899148662281\n",
      "MAE:  0.4951\n",
      "Training MAE: 0.49513816502887636\n",
      "RMSE: 0.8737\n",
      "Test RMSE: 0.873709027034941\n",
      "MAE:  0.6741\n",
      "Test MAE: 0.6740936220351665\n"
     ]
    }
   ],
   "source": [
    "#Fitting a basic SVD model\n",
    "# Initializing the SVD model\n",
    "svd_model = SVD()\n",
    "\n",
    "# Fitting the model on the trainset\n",
    "svd_model.fit(trainset)\n",
    "\n",
    "# Making predictions on the testset\n",
    "svd_test_preds = svd_model.test(testset)\n",
    "\n",
    "#Evaluating on Training Set\n",
    "svd_train_preds = svd_model.test(trainset.build_testset())\n",
    "print(\"Training RMSE:\", accuracy.rmse(svd_train_preds))\n",
    "print(\"Training MAE:\", accuracy.mae(svd_train_preds))\n",
    "\n",
    "#Evaluating on Test Set\n",
    "print(\"Test RMSE:\", accuracy.rmse(svd_test_preds))\n",
    "print(\"Test MAE:\", accuracy.mae(svd_test_preds))"
   ]
  },
  {
   "cell_type": "markdown",
   "metadata": {},
   "source": [
    "Fitting a basic SVD model with default parameters gave a train RMSE and MAE of 0.6350 and 0.4936 respectively and a test RMSE and MAE of 0.8835 and 0.6774 respectively. While the model seems to have trained well the test RMSE and MAE show little improvement compared to the KNNBaseline model. \n",
    "\n",
    "We performed a GridSearch to find the best parameters to tune the model with. "
   ]
  },
  {
   "cell_type": "markdown",
   "metadata": {},
   "source": [
    "Performing a GridSearch to get the best parameters"
   ]
  },
  {
   "cell_type": "code",
   "execution_count": 43,
   "metadata": {},
   "outputs": [],
   "source": [
    "# Define parameter grid for GridSearchCV\n",
    "#svd_param_grid = {'n_factors': [70, 100, 130], \n",
    "#                  'lr_all': [0.01, 0.02, 0.03],\n",
    "#                  'n_epochs': [30, 40, 50],\n",
    "#                  'reg_all': [0.05, 0.1, 0.15]}\n",
    "\n",
    "# Perform grid search with cross-validation\n",
    "#gs_svd = GridSearchCV(SVD, svd_param_grid, measures=['rmse', 'mae'], cv=3, n_jobs=-1)\n",
    "\n",
    "# Fit grid search on the dataset\n",
    "#gs_svd.fit(data)"
   ]
  },
  {
   "cell_type": "code",
   "execution_count": 44,
   "metadata": {},
   "outputs": [],
   "source": [
    "#Getting the best parameters and score from GridSearch\n",
    "#print(gs_svd.best_score)\n",
    "#print(gs_svd.best_params)"
   ]
  },
  {
   "cell_type": "code",
   "execution_count": 45,
   "metadata": {},
   "outputs": [
    {
     "name": "stdout",
     "output_type": "stream",
     "text": [
      "RMSE: 0.5453\n",
      "Training RMSE: 0.5453489523249766\n",
      "MAE:  0.4232\n",
      "Training MAE: 0.4232208031097435\n",
      "RMSE: 0.8497\n",
      "Test RMSE: 0.849713640830415\n",
      "MAE:  0.6530\n",
      "Test MAE: 0.6530486079159212\n"
     ]
    }
   ],
   "source": [
    "#Instantiating the tuned model with best params\n",
    "svd_tuned = SVD(n_factors=130,\n",
    "               reg_all=0.1,\n",
    "               n_epochs=50,\n",
    "               lr_all=0.01)\n",
    "\n",
    "#Fitting the model and predicting\n",
    "svd_tuned.fit(trainset)\n",
    "svd_tuned_preds = svd_tuned.test(testset)\n",
    "\n",
    "#Evaluating on Training Set\n",
    "svd_tuned_train_preds = svd_tuned.test(trainset.build_testset())\n",
    "print(\"Training RMSE:\", accuracy.rmse(svd_tuned_train_preds))\n",
    "print(\"Training MAE:\", accuracy.mae(svd_tuned_train_preds))\n",
    "\n",
    "#Evaluating on Test Set\n",
    "print(\"Test RMSE:\", accuracy.rmse(svd_tuned_preds))\n",
    "print(\"Test MAE:\", accuracy.mae(svd_tuned_preds))\n"
   ]
  },
  {
   "cell_type": "markdown",
   "metadata": {},
   "source": [
    "Tuning the SVD model with our best parameters resulted in a train RMSE and MAE of 0.5353 and 0.4156 respectively and a test RMSE and MAE of 0.8621 and 0.6585 respectively. This shows a good reduction in training error but the test RMSE and MAE are still not improving significantly. "
   ]
  },
  {
   "cell_type": "markdown",
   "metadata": {},
   "source": [
    "#### Handling Sparsity"
   ]
  },
  {
   "cell_type": "markdown",
   "metadata": {},
   "source": [
    "One of the observations during data exploration was that our matrix was very sparse. Even though the singular vector decomposition model handled the sparsity, the errors were not reducing significantly. We decided to handle the sparsity to see if it would improve our models any further. "
   ]
  },
  {
   "cell_type": "markdown",
   "metadata": {},
   "source": [
    "Our first approach was to reduce sparsity by dropping the data points with a lot of null values. To this effect, we filtered out all the movies where there were less than 200 ratings and all the users that had rated less than 20 movies. "
   ]
  },
  {
   "cell_type": "code",
   "execution_count": 46,
   "metadata": {},
   "outputs": [],
   "source": [
    "df_sparse = df.copy()"
   ]
  },
  {
   "cell_type": "code",
   "execution_count": 47,
   "metadata": {},
   "outputs": [
    {
     "data": {
      "text/plain": [
       "0.9829634950143654"
      ]
     },
     "execution_count": 47,
     "metadata": {},
     "output_type": "execute_result"
    }
   ],
   "source": [
    "#Checking the Sparsity\n",
    "numratings = len(df_sparse['rating'])\n",
    "numusers = len(df_sparse['userId'].unique())\n",
    "numitems = len(df_sparse['movieId'].unique())\n",
    "\n",
    "sparse = 1 - (numratings / (numusers*numitems))\n",
    "sparse"
   ]
  },
  {
   "cell_type": "code",
   "execution_count": 48,
   "metadata": {},
   "outputs": [],
   "source": [
    "#Reducing the sparsity\n",
    "\n",
    "df_sparse = df_sparse.groupby('userId').filter(lambda x: len(x)>200)"
   ]
  },
  {
   "cell_type": "code",
   "execution_count": 49,
   "metadata": {},
   "outputs": [],
   "source": [
    "df_sparse = df_sparse.groupby('movieId').filter(lambda x: len(x)>10)"
   ]
  },
  {
   "cell_type": "code",
   "execution_count": 51,
   "metadata": {},
   "outputs": [
    {
     "data": {
      "text/plain": [
       "(100805, 7)"
      ]
     },
     "execution_count": 51,
     "metadata": {},
     "output_type": "execute_result"
    }
   ],
   "source": [
    "df.shape"
   ]
  },
  {
   "cell_type": "code",
   "execution_count": 52,
   "metadata": {},
   "outputs": [
    {
     "data": {
      "text/plain": [
       "(47232, 7)"
      ]
     },
     "execution_count": 52,
     "metadata": {},
     "output_type": "execute_result"
    }
   ],
   "source": [
    "df_sparse.shape"
   ]
  },
  {
   "cell_type": "code",
   "execution_count": 53,
   "metadata": {},
   "outputs": [
    {
     "data": {
      "text/plain": [
       "0.7931695867508024"
      ]
     },
     "execution_count": 53,
     "metadata": {},
     "output_type": "execute_result"
    }
   ],
   "source": [
    "numratings = len(df_sparse['rating'])\n",
    "numusers = len(df_sparse['userId'].unique())\n",
    "numitems = len(df_sparse['movieId'].unique())\n",
    "\n",
    "sparse = 1 - (numratings / (numusers*numitems))\n",
    "sparse"
   ]
  },
  {
   "cell_type": "code",
   "execution_count": 54,
   "metadata": {},
   "outputs": [
    {
     "name": "stdout",
     "output_type": "stream",
     "text": [
      "Estimating biases using als...\n",
      "Computing the cosine similarity matrix...\n",
      "Done computing similarity matrix.\n",
      "RMSE: 0.7679\n",
      "Training RMSE: 0.7678507883594\n",
      "MAE:  0.5887\n",
      "Training MAE: 0.5886930635298431\n",
      "RMSE: 0.8067\n",
      "Test RMSE: 0.8066612558479149\n",
      "MAE:  0.6184\n",
      "Test MAE: 0.6183983661424591\n"
     ]
    }
   ],
   "source": [
    "# Load the data into Surprise using Bayesian average ratings\n",
    "reader = Reader(rating_scale=(0, 5))\n",
    "sparse_data = Dataset.load_from_df(df_sparse[['userId', 'movieId', 'rating']], reader)\n",
    "\n",
    "# Split the data into train and test sets\n",
    "sparse_trainset, sparse_testset = train_test_split(sparse_data, test_size=0.2, random_state=42)\n",
    "\n",
    "# Train the model using SVD\n",
    "sparse_model = KNNBaseline(sim_options={'name': 'cosine', \n",
    "                                     'user_based': True, \n",
    "                                     'min_support':True, \n",
    "                                     'min_k':2,})\n",
    "sparse_model.fit(sparse_trainset)\n",
    "\n",
    "# Test the model\n",
    "sparse_predictions = sparse_model.test(sparse_testset)\n",
    "\n",
    "#Evaluating on Training Set\n",
    "sparse_train_preds = sparse_model.test(sparse_trainset.build_testset())\n",
    "print(\"Training RMSE:\", accuracy.rmse(sparse_train_preds))\n",
    "print(\"Training MAE:\", accuracy.mae(sparse_train_preds))\n",
    "\n",
    "#Evaluating on Test Set\n",
    "print(\"Test RMSE:\", accuracy.rmse(sparse_predictions))\n",
    "print(\"Test MAE:\", accuracy.mae(sparse_predictions))\n"
   ]
  },
  {
   "cell_type": "markdown",
   "metadata": {},
   "source": [
    "Filtering the data reduced sparsity from 0.98 to 0.79. However, it leads to loss of more than 50% of the data. The train RMSE and MAE were 0.7679 and 0.5887 respectively and the test RMSE and MAE were 0.8067 and 0.6184 respectively. This model trained worse than our previous SVD and KNNBaseline models perhaps due to reduction in the training data, and registered very slight improvement in the test RMSE and MAE."
   ]
  },
  {
   "cell_type": "markdown",
   "metadata": {},
   "source": [
    "#### Using Bayesian Averages with SVD\n",
    "\n",
    "Our second approach was to find the Bayesian averages of the ratings column. This would adjust the ratings based on the number of ratings a movie had received. The Bayesian average helped mitigate the impact of movies with few ratings by incorporating information from the overall average rating. The calculated Bayesian average rating was used in place of the raw rating in the modeling process. "
   ]
  },
  {
   "cell_type": "code",
   "execution_count": 55,
   "metadata": {},
   "outputs": [],
   "source": [
    "#Creating a copy of dataframe to use \n",
    "df_bayes = df.copy()"
   ]
  },
  {
   "cell_type": "code",
   "execution_count": 56,
   "metadata": {},
   "outputs": [
    {
     "data": {
      "text/plain": [
       "(100805, 7)"
      ]
     },
     "execution_count": 56,
     "metadata": {},
     "output_type": "execute_result"
    }
   ],
   "source": [
    "df_bayes.shape"
   ]
  },
  {
   "cell_type": "code",
   "execution_count": 57,
   "metadata": {},
   "outputs": [
    {
     "name": "stdout",
     "output_type": "stream",
     "text": [
      "RMSE: 0.1533\n",
      "Training RMSE: 0.1533209413108734\n",
      "MAE:  0.1044\n",
      "Training MAE: 0.10441287316477683\n",
      "RMSE: 0.1865\n",
      "Test RMSE: 0.18653111148671483\n",
      "MAE:  0.1259\n",
      "Test MAE: 0.12590018410622866\n"
     ]
    }
   ],
   "source": [
    "# Calculate Bayesian average ratings\n",
    "def bayesian_average(ratings):\n",
    "    return (ratings.mean() * ratings.count() + 2.5 * 5) / (ratings.count() + 5)\n",
    "\n",
    "# Apply Bayesian average ratings to the DataFrame\n",
    "df_bayes['bayesian_avg'] = df_bayes.groupby('movieId')['rating'].transform(bayesian_average)\n",
    "\n",
    "# Load the data into Surprise using Bayesian average ratings\n",
    "reader = Reader(rating_scale=(0, 5))\n",
    "bayes_data = Dataset.load_from_df(df_bayes[['userId', 'movieId', 'bayesian_avg']], reader)\n",
    "\n",
    "# Split the data into train and test sets\n",
    "bayes_trainset, bayes_testset = train_test_split(bayes_data, test_size=0.2, random_state=42)\n",
    "\n",
    "# Train the model using SVD\n",
    "model = SVD()\n",
    "model.fit(bayes_trainset)\n",
    "\n",
    "# Test the model\n",
    "bayes_predictions = model.test(bayes_testset)\n",
    "\n",
    "#Evaluating on Training Set\n",
    "bayes_train_preds = model.test(bayes_trainset.build_testset())\n",
    "print(\"Training RMSE:\", accuracy.rmse(bayes_train_preds))\n",
    "print(\"Training MAE:\", accuracy.mae(bayes_train_preds))\n",
    "\n",
    "#Evaluating on Test Set\n",
    "print(\"Test RMSE:\", accuracy.rmse(bayes_predictions))\n",
    "print(\"Test MAE:\", accuracy.mae(bayes_predictions))"
   ]
  },
  {
   "cell_type": "markdown",
   "metadata": {},
   "source": [
    "Fitting an SVD model with the Bayesian average ratings improved the model significantly reducing the training RMSE and MAE to 0.1531 and 0.1042 respectively and the test RMSE and MAE to 0.1868 and 0.1262 respectively. \n",
    "\n",
    "We then fitted a tuned SVD model using the Bayesian average ratings. "
   ]
  },
  {
   "cell_type": "code",
   "execution_count": 58,
   "metadata": {
    "scrolled": true
   },
   "outputs": [
    {
     "name": "stdout",
     "output_type": "stream",
     "text": [
      "RMSE: 0.1028\n",
      "Training RMSE: 0.1028046786896137\n",
      "MAE:  0.0678\n",
      "Training MAE: 0.06781603824448441\n",
      "RMSE: 0.1472\n",
      "Test RMSE: 0.14719563673631908\n",
      "MAE:  0.0834\n",
      "Test MAE: 0.0834317105650053\n"
     ]
    }
   ],
   "source": [
    "#Tuning the svd model with bayesian averages to \n",
    "tuned_bayes_model = SVD(n_factors=130, reg_all=0.1, n_epochs=50, lr_all=0.01)\n",
    "tuned_bayes_model.fit(bayes_trainset)\n",
    "\n",
    "# Testing the model\n",
    "tuned_bayes_preds = tuned_bayes_model.test(bayes_testset)\n",
    "\n",
    "#Evaluating on Training Set\n",
    "tuned_bayes_train_preds = tuned_bayes_model.test(bayes_trainset.build_testset())\n",
    "print(\"Training RMSE:\", accuracy.rmse(tuned_bayes_train_preds))\n",
    "print(\"Training MAE:\", accuracy.mae(tuned_bayes_train_preds))\n",
    "\n",
    "#Evaluating on Test Set\n",
    "print(\"Test RMSE:\", accuracy.rmse(tuned_bayes_preds))\n",
    "print(\"Test MAE:\", accuracy.mae(tuned_bayes_preds))\n"
   ]
  },
  {
   "cell_type": "markdown",
   "metadata": {},
   "source": [
    "\n",
    "The tuned SVD model with Bayesian Average ratings had the best outcome with the following values after evaluation:\n",
    "\n",
    "- Training RMSE:0.1028\n",
    "- Test RMSE: 0.1450\n",
    "- Training MAE:0.0678\n",
    "- Test MAE:0.0827\n",
    "\n",
    "The model did not also show signs of overfitting as the training and test set errors were very close. "
   ]
  },
  {
   "cell_type": "markdown",
   "metadata": {},
   "source": [
    "### Recommender System"
   ]
  },
  {
   "cell_type": "code",
   "execution_count": null,
   "metadata": {
    "scrolled": true
   },
   "outputs": [],
   "source": [
    "def recommend_top_movies_for_user(user_id, df, top_n=10):\n",
    "    # Generate Bayesian average ratings column\n",
    "    df['bayesian_avg'] = df.groupby('movieId')['rating'].transform(bayesian_average)\n",
    "\n",
    "    # Define a Surprise Reader\n",
    "    reader = Reader(rating_scale=(0, 5))\n",
    "\n",
    "    # Load the data into Surprise\n",
    "    data = Dataset.load_from_df(df[['userId', 'movieId', 'bayesian_avg']], reader)\n",
    "\n",
    "    # Split the data into train and test sets\n",
    "    trainset, testset = train_test_split(data, test_size=0.2, random_state=42)\n",
    "\n",
    "    # Define the SVD model with specified hyperparameters\n",
    "    model = SVD(n_factors=130, reg_all=0.1, n_epochs=50, lr_all=0.01)\n",
    "\n",
    "    # Train the model\n",
    "    model.fit(trainset)\n",
    "\n",
    "    # Get movies that the user has not rated\n",
    "    rated_movies = df[df['userId'] == user_id]['movieId']\n",
    "    all_movies = set(df['movieId'])\n",
    "    unrated_movies = list(all_movies - set(rated_movies))\n",
    "\n",
    "    # Predict ratings for unrated movies\n",
    "    predictions = [model.predict(user_id, movie_id) for movie_id in unrated_movies]\n",
    "\n",
    "    # Sort predictions by estimated rating in descending order\n",
    "    predictions.sort(key=lambda x: x.est, reverse=True)\n",
    "\n",
    "    # Get top N recommended movies with their titles\n",
    "    movie_titles = {movie['movieId']: movie['title'] for _, movie in df.iterrows()}\n",
    "    top_movies = predictions[:top_n]\n",
    "\n",
    "    # Print top N recommended movies with titles\n",
    "    print(\"Top\", top_n, \"Movie Recommendations for User\", user_id)\n",
    "    for i, movie in enumerate(top_movies, 1):\n",
    "        movie_id = movie.iid\n",
    "        estimated_rating = round(movie.est, 1)  # Round estimated rating to 1 decimal point\n",
    "        movie_title = movie_titles.get(movie_id, \"Unknown\")\n",
    "        print(f\"{i}. Movie Title: {movie_title}, Estimated Rating: {estimated_rating}\")\n",
    "\n"
   ]
  },
  {
   "cell_type": "code",
   "execution_count": null,
   "metadata": {},
   "outputs": [],
   "source": [
    "# Example usage:\n",
    "# Assuming 'df' is the DataFrame containing movie ratings data with a column 'title' for movie titles\n",
    "recommend_top_movies_for_user(user_id=123, df=df, top_n=10)"
   ]
  },
  {
   "cell_type": "markdown",
   "metadata": {},
   "source": [
    "#### With Shuffling"
   ]
  },
  {
   "cell_type": "code",
   "execution_count": null,
   "metadata": {},
   "outputs": [],
   "source": [
    "import random\n",
    "\n",
    "def recommend_shuffle_top_movies_for_user(user_id, df, top_n=10):\n",
    "    # Generate Bayesian average ratings column\n",
    "    df['bayesian_avg'] = df.groupby('movieId')['rating'].transform(bayesian_average)\n",
    "\n",
    "    # Define a Surprise Reader\n",
    "    reader = Reader(rating_scale=(0, 5))\n",
    "\n",
    "    # Load the data into Surprise\n",
    "    data = Dataset.load_from_df(df[['userId', 'movieId', 'bayesian_avg']], reader)\n",
    "\n",
    "    # Split the data into train and test sets\n",
    "    trainset, testset = train_test_split(data, test_size=0.2, random_state=42)\n",
    "\n",
    "    # Define the SVD model with specified hyperparameters\n",
    "    model = SVD(n_factors=130, reg_all=0.1, n_epochs=50, lr_all=0.01)\n",
    "\n",
    "    # Train the model\n",
    "    model.fit(trainset)\n",
    "\n",
    "    # Get movies that the user has not rated\n",
    "    rated_movies = df[df['userId'] == user_id]['movieId']\n",
    "    all_movies = set(df['movieId'])\n",
    "    unrated_movies = list(all_movies - set(rated_movies))\n",
    "\n",
    "    # Predict ratings for unrated movies\n",
    "    predictions = [model.predict(user_id, movie_id) for movie_id in unrated_movies]\n",
    "\n",
    "    # Group predictions by estimated rating\n",
    "    ratings_dict = {}\n",
    "    for prediction in predictions:\n",
    "        rating = round(prediction.est, 1)\n",
    "        if rating not in ratings_dict:\n",
    "            ratings_dict[rating] = []\n",
    "        ratings_dict[rating].append(prediction)\n",
    "\n",
    "    # Shuffle movies with similar ratings\n",
    "    for rating, movies in ratings_dict.items():\n",
    "        random.shuffle(movies)\n",
    "\n",
    "    # Flatten the list of predictions\n",
    "    predictions = [prediction for movies in ratings_dict.values() for prediction in movies]\n",
    "\n",
    "    # Sort predictions by estimated rating in descending order\n",
    "    predictions.sort(key=lambda x: x.est, reverse=True)\n",
    "\n",
    "    # Get top N recommended movies with their titles\n",
    "    movie_titles = {movie['movieId']: movie['title'] for _, movie in df.iterrows()}\n",
    "    top_movies = predictions[:top_n]\n",
    "\n",
    "    # Print top N recommended movies with titles\n",
    "    print(\"Top\", top_n, \"Movie Recommendations for User\", user_id)\n",
    "    for i, movie in enumerate(top_movies, 1):\n",
    "        movie_id = movie.iid\n",
    "        estimated_rating = round(movie.est, 1)  # Round estimated rating to 1 decimal point\n",
    "        movie_title = movie_titles.get(movie_id, \"Unknown\")\n",
    "        print(f\"{i}. Movie Title: {movie_title}, Estimated Rating: {estimated_rating}\")\n"
   ]
  },
  {
   "cell_type": "code",
   "execution_count": null,
   "metadata": {},
   "outputs": [],
   "source": [
    "# Example usage:\n",
    "# Assuming 'df' is the DataFrame containing movie ratings data with a column 'title' for movie titles\n",
    "recommend_shuffle_top_movies_for_user(user_id=123, df=df, top_n=10)"
   ]
  },
  {
   "cell_type": "code",
   "execution_count": null,
   "metadata": {},
   "outputs": [],
   "source": []
  },
  {
   "cell_type": "code",
   "execution_count": null,
   "metadata": {},
   "outputs": [],
   "source": []
  },
  {
   "cell_type": "markdown",
   "metadata": {},
   "source": [
    "### Cold Start Recommender"
   ]
  },
  {
   "cell_type": "markdown",
   "metadata": {},
   "source": [
    "### Final Recommender System \n"
   ]
  },
  {
   "cell_type": "code",
   "execution_count": null,
   "metadata": {},
   "outputs": [],
   "source": []
  },
  {
   "cell_type": "code",
   "execution_count": null,
   "metadata": {},
   "outputs": [],
   "source": []
  }
 ],
 "metadata": {
  "kernelspec": {
   "display_name": "Python(learn-env)",
   "language": "python",
   "name": "learn-env"
  },
  "language_info": {
   "codemirror_mode": {
    "name": "ipython",
    "version": 3
   },
   "file_extension": ".py",
   "mimetype": "text/x-python",
   "name": "python",
   "nbconvert_exporter": "python",
   "pygments_lexer": "ipython3",
   "version": "3.8.5"
  }
 },
 "nbformat": 4,
 "nbformat_minor": 4
}
